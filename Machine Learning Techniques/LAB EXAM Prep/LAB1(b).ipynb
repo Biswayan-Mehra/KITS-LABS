{
 "cells": [
  {
   "cell_type": "markdown",
   "id": "d3429644-256c-4b1f-ab5c-0a354647ab3a",
   "metadata": {},
   "source": [
    "### (b) Questions:\r\n",
    "\r\n",
    "1. Calculate the % of missing values in a column.\r\n",
    "2. Replace missing value with mean if the % of missing value is less than 10%.\r\n",
    "3. Perform the mode imputation for a categorical data.\r\n",
    "4. Perform a KNN Imputer to estimate the missing values.\r\n",
    "5. Drop the columns with more than 10% missing values and display the size.\r\n",
    "6. Drop the rows with outlier Z.-score value > 3 and display the size.\r\n",
    "7. Drop the duplicate rows based on more than 50% of column having same value.\r\n",
    "8. Rescale your data using min-max normalization for a numerical feature.\r\n",
    "9. Binarize the data by using binarizer class in python.\r\n",
    "10. Perform the one-hot encoding for a categorical feature.\r\n",
    "hon code)"
   ]
  },
  {
   "cell_type": "code",
   "execution_count": 213,
   "id": "30110a61-a77e-48f9-bf84-beaff367f018",
   "metadata": {},
   "outputs": [],
   "source": [
    "import pandas as pd\n",
    "import numpy as np\n",
    "from sklearn.impute import KNNImputer\n",
    "from sklearn.preprocessing import MinMaxScaler, Binarizer\n",
    "\n",
    "# Read the data\n",
    "data = pd.read_csv('sample_dataset.csv')"
   ]
  },
  {
   "cell_type": "code",
   "execution_count": 214,
   "id": "2b6778ba-54ed-41b7-957d-2f14f20d1a89",
   "metadata": {},
   "outputs": [
    {
     "name": "stdout",
     "output_type": "stream",
     "text": [
      "Index(['ID', 'Age', 'Income', 'Score'], dtype='object')\n"
     ]
    }
   ],
   "source": [
    "numeric_cols = data.select_dtypes(exclude=['object']).columns\n",
    "print(numeric_cols)"
   ]
  },
  {
   "cell_type": "code",
   "execution_count": 215,
   "id": "b99968fd-7dd9-4066-940d-003955953dc6",
   "metadata": {},
   "outputs": [
    {
     "name": "stdout",
     "output_type": "stream",
     "text": [
      "\n",
      "Percentage of missing values in each column:\n",
      "ID        0.0\n",
      "Age       0.0\n",
      "Income    0.0\n",
      "Score     0.0\n",
      "dtype: float64\n"
     ]
    }
   ],
   "source": [
    "# Calculate the % of missing values in a column\n",
    "missing_percent = data[numeric_cols].isnull().sum() / len(data) * 100\n",
    "print(\"\\nPercentage of missing values in each column:\")\n",
    "print(missing_percent)"
   ]
  },
  {
   "cell_type": "code",
   "execution_count": 216,
   "id": "09c38c06-776d-415a-a5bb-89374d4defff",
   "metadata": {},
   "outputs": [],
   "source": [
    "# Replace missing value with mean if the % of missing value is less than 10%\n",
    "missing_cols = missing_percent[missing_percent < 10].index\n",
    "data[missing_cols] = data[missing_cols].fillna(data[missing_cols].mean())"
   ]
  },
  {
   "cell_type": "code",
   "execution_count": 217,
   "id": "af5c082a-80f0-4256-b5eb-e13a7cb41cfc",
   "metadata": {},
   "outputs": [],
   "source": [
    "# Perform the mode imputation for a categorical data\n",
    "for col in data.select_dtypes(include=['object']):\n",
    "    data[col].fillna(data[col].mode()[0], inplace=True)"
   ]
  },
  {
   "cell_type": "code",
   "execution_count": 218,
   "id": "9540a0b0-c10f-4bed-88fb-91c60d3b2ff7",
   "metadata": {},
   "outputs": [],
   "source": [
    "num_cols = data.select_dtypes(exclude=['object']).columns\n",
    "\n",
    "# Perform a KNN Imputer to estimate the missing values\n",
    "imputer = KNNImputer()\n",
    "data_imputed = imputer.fit_transform(data[num_cols])\n",
    "data[num_cols] = data_imputed"
   ]
  },
  {
   "cell_type": "code",
   "execution_count": 219,
   "id": "345393e8-279a-4170-8ce3-1e2df3968ff2",
   "metadata": {},
   "outputs": [
    {
     "name": "stdout",
     "output_type": "stream",
     "text": [
      "\n",
      "Dataset size after dropping columns with more than 10% missing values: (100, 6)\n"
     ]
    }
   ],
   "source": [
    "# Drop the columns with more than 10% missing values and display the size\n",
    "missing_cols_to_drop = missing_percent[missing_percent >= 10].index\n",
    "data.drop(columns=missing_cols_to_drop, inplace=True)\n",
    "print(\"\\nDataset size after dropping columns with more than 10% missing values:\", data.shape)"
   ]
  },
  {
   "cell_type": "code",
   "execution_count": 220,
   "id": "a62c6e5e-274c-446b-b444-7a4f70576a1e",
   "metadata": {},
   "outputs": [
    {
     "name": "stdout",
     "output_type": "stream",
     "text": [
      "\n",
      "Dataset size after dropping rows with outlier Z.-score value: (100, 6)\n"
     ]
    }
   ],
   "source": [
    "from scipy.stats import zscore\n",
    "\n",
    "# Drop the rows with outlier Z.-score value > 3 and display the size\n",
    "z_scores = zscore(data.select_dtypes(exclude=['object']))\n",
    "outliers = (z_scores > 3) | (z_scores < -3)\n",
    "data = data[~outliers.any(axis=1)]\n",
    "print(\"\\nDataset size after dropping rows with outlier Z.-score value:\", data.shape)"
   ]
  },
  {
   "cell_type": "markdown",
   "id": "bccb2d6e-8af1-4caf-b9f4-c22e3e5c0027",
   "metadata": {},
   "source": [
    "---"
   ]
  },
  {
   "cell_type": "code",
   "execution_count": 221,
   "id": "8be34a9e-756d-48cd-8a25-a5f4922e6024",
   "metadata": {},
   "outputs": [
    {
     "name": "stdout",
     "output_type": "stream",
     "text": [
      "\n",
      "Dataset size after dropping duplicate rows: (90, 6)\n"
     ]
    }
   ],
   "source": [
    "# Drop the duplicate rows based on more than 50% of column having same value\n",
    "\n",
    "# Calculate the percentage of duplicate values in each column\n",
    "duplicate_percent = (data.apply(pd.Series.duplicated, axis=0).sum() / len(data)) * 100\n",
    "\n",
    "# Select columns where more than 50% of values are duplicates\n",
    "columns_to_check = duplicate_percent[duplicate_percent > 50].index\n",
    "\n",
    "# Drop duplicate rows based on selected columns\n",
    "data.drop_duplicates(subset=columns_to_check, inplace=True)\n",
    "\n",
    "# Print dataset size after dropping duplicate rows\n",
    "print(\"\\nDataset size after dropping duplicate rows:\", data.shape)"
   ]
  },
  {
   "cell_type": "markdown",
   "id": "22ead426-db26-406b-a2b0-86f11c83e480",
   "metadata": {},
   "source": [
    "---"
   ]
  },
  {
   "cell_type": "code",
   "execution_count": null,
   "id": "f84fad73-9bb5-4eaf-a1c8-bfd9b8b3756f",
   "metadata": {
    "jupyter": {
     "source_hidden": true
    }
   },
   "outputs": [],
   "source": [
    "# Drop the duplicate rows based on more than 50% of column having same value\n",
    "data.drop_duplicates(subset=data.columns[data.nunique() > 1], inplace=True)\n",
    "print(\"\\nDataset size after dropping duplicate rows:\", data.shape)"
   ]
  },
  {
   "cell_type": "code",
   "execution_count": 222,
   "id": "6bcb6da0-4848-4749-a7ad-d13b7e123daa",
   "metadata": {},
   "outputs": [],
   "source": [
    "# Rescale your data using min-max normalization for a numerical feature\n",
    "scaler = MinMaxScaler()\n",
    "numerical_cols = data.select_dtypes(exclude=['object']).columns\n",
    "data[numerical_cols] = scaler.fit_transform(data[numerical_cols])"
   ]
  },
  {
   "cell_type": "code",
   "execution_count": 223,
   "id": "1f131343-7420-41d0-99b0-f04774ec43fe",
   "metadata": {},
   "outputs": [],
   "source": [
    "# Binarize the data by using binarizer class in python\n",
    "binarizer = Binarizer()\n",
    "data_binarized = binarizer.fit_transform(data[numerical_cols])\n",
    "data[numerical_cols] = data_binarized"
   ]
  },
  {
   "cell_type": "code",
   "execution_count": 224,
   "id": "930b1132-4ac4-4898-9e35-a03eec11f70d",
   "metadata": {},
   "outputs": [],
   "source": [
    "# Perform the one-hot encoding for a categorical feature\n",
    "data = pd.get_dummies(data)"
   ]
  },
  {
   "cell_type": "code",
   "execution_count": 225,
   "id": "6f8d929d-24b7-458a-8b52-9aec78044e74",
   "metadata": {},
   "outputs": [
    {
     "name": "stdout",
     "output_type": "stream",
     "text": [
      "\n",
      "Modified Dataset:\n",
      "    ID  Age  Income  Score  Gender_Female  Gender_Male  Education_Bachelor  \\\n",
      "0  0.0  1.0     1.0    1.0           True        False               False   \n",
      "1  1.0  1.0     1.0    1.0           True        False               False   \n",
      "2  1.0  0.0     1.0    1.0           True        False                True   \n",
      "3  1.0  1.0     1.0    1.0           True        False               False   \n",
      "4  1.0  1.0     1.0    1.0          False         True               False   \n",
      "\n",
      "   Education_College  Education_High School  Education_Master  Education_PhD  \n",
      "0              False                  False             False           True  \n",
      "1              False                  False             False           True  \n",
      "2              False                  False             False          False  \n",
      "3              False                  False              True          False  \n",
      "4              False                  False              True          False  \n"
     ]
    }
   ],
   "source": [
    "# Display the modified dataset\n",
    "print(\"\\nModified Dataset:\")\n",
    "print(data.head())"
   ]
  },
  {
   "cell_type": "code",
   "execution_count": null,
   "id": "9df43d08-50ed-4744-8cfb-b387147f3b52",
   "metadata": {},
   "outputs": [],
   "source": []
  }
 ],
 "metadata": {
  "kernelspec": {
   "display_name": "Python 3 (ipykernel)",
   "language": "python",
   "name": "python3"
  },
  "language_info": {
   "codemirror_mode": {
    "name": "ipython",
    "version": 3
   },
   "file_extension": ".py",
   "mimetype": "text/x-python",
   "name": "python",
   "nbconvert_exporter": "python",
   "pygments_lexer": "ipython3",
   "version": "3.11.5"
  }
 },
 "nbformat": 4,
 "nbformat_minor": 5
}
