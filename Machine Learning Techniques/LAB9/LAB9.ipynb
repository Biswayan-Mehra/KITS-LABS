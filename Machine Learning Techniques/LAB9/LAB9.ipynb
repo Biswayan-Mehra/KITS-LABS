{
 "cells": [
  {
   "cell_type": "code",
   "execution_count": 2,
   "id": "b52d3a49-f932-4822-be00-ed436923d811",
   "metadata": {},
   "outputs": [
    {
     "name": "stdout",
     "output_type": "stream",
     "text": [
      "Collecting mlxtend\n",
      "  Downloading mlxtend-0.23.1-py3-none-any.whl.metadata (7.3 kB)\n",
      "Requirement already satisfied: scipy>=1.2.1 in c:\\users\\mehra\\anaconda3\\lib\\site-packages (from mlxtend) (1.11.4)\n",
      "Requirement already satisfied: numpy>=1.16.2 in c:\\users\\mehra\\anaconda3\\lib\\site-packages (from mlxtend) (1.26.4)\n",
      "Requirement already satisfied: pandas>=0.24.2 in c:\\users\\mehra\\anaconda3\\lib\\site-packages (from mlxtend) (2.1.4)\n",
      "Requirement already satisfied: scikit-learn>=1.0.2 in c:\\users\\mehra\\anaconda3\\lib\\site-packages (from mlxtend) (1.2.2)\n",
      "Requirement already satisfied: matplotlib>=3.0.0 in c:\\users\\mehra\\anaconda3\\lib\\site-packages (from mlxtend) (3.8.0)\n",
      "Requirement already satisfied: joblib>=0.13.2 in c:\\users\\mehra\\anaconda3\\lib\\site-packages (from mlxtend) (1.2.0)\n",
      "Requirement already satisfied: contourpy>=1.0.1 in c:\\users\\mehra\\anaconda3\\lib\\site-packages (from matplotlib>=3.0.0->mlxtend) (1.2.0)\n",
      "Requirement already satisfied: cycler>=0.10 in c:\\users\\mehra\\anaconda3\\lib\\site-packages (from matplotlib>=3.0.0->mlxtend) (0.11.0)\n",
      "Requirement already satisfied: fonttools>=4.22.0 in c:\\users\\mehra\\anaconda3\\lib\\site-packages (from matplotlib>=3.0.0->mlxtend) (4.25.0)\n",
      "Requirement already satisfied: kiwisolver>=1.0.1 in c:\\users\\mehra\\anaconda3\\lib\\site-packages (from matplotlib>=3.0.0->mlxtend) (1.4.4)\n",
      "Requirement already satisfied: packaging>=20.0 in c:\\users\\mehra\\anaconda3\\lib\\site-packages (from matplotlib>=3.0.0->mlxtend) (23.1)\n",
      "Requirement already satisfied: pillow>=6.2.0 in c:\\users\\mehra\\anaconda3\\lib\\site-packages (from matplotlib>=3.0.0->mlxtend) (10.2.0)\n",
      "Requirement already satisfied: pyparsing>=2.3.1 in c:\\users\\mehra\\anaconda3\\lib\\site-packages (from matplotlib>=3.0.0->mlxtend) (3.0.9)\n",
      "Requirement already satisfied: python-dateutil>=2.7 in c:\\users\\mehra\\anaconda3\\lib\\site-packages (from matplotlib>=3.0.0->mlxtend) (2.8.2)\n",
      "Requirement already satisfied: pytz>=2020.1 in c:\\users\\mehra\\anaconda3\\lib\\site-packages (from pandas>=0.24.2->mlxtend) (2023.3.post1)\n",
      "Requirement already satisfied: tzdata>=2022.1 in c:\\users\\mehra\\anaconda3\\lib\\site-packages (from pandas>=0.24.2->mlxtend) (2023.3)\n",
      "Requirement already satisfied: threadpoolctl>=2.0.0 in c:\\users\\mehra\\anaconda3\\lib\\site-packages (from scikit-learn>=1.0.2->mlxtend) (2.2.0)\n",
      "Requirement already satisfied: six>=1.5 in c:\\users\\mehra\\anaconda3\\lib\\site-packages (from python-dateutil>=2.7->matplotlib>=3.0.0->mlxtend) (1.16.0)\n",
      "Downloading mlxtend-0.23.1-py3-none-any.whl (1.4 MB)\n",
      "   ---------------------------------------- 0.0/1.4 MB ? eta -:--:--\n",
      "   ---------------------------------------- 0.0/1.4 MB ? eta -:--:--\n",
      "    --------------------------------------- 0.0/1.4 MB 435.7 kB/s eta 0:00:04\n",
      "   - -------------------------------------- 0.1/1.4 MB 544.7 kB/s eta 0:00:03\n",
      "   -- ------------------------------------- 0.1/1.4 MB 573.4 kB/s eta 0:00:03\n",
      "   -- ------------------------------------- 0.1/1.4 MB 581.0 kB/s eta 0:00:03\n",
      "   --- ------------------------------------ 0.1/1.4 MB 504.4 kB/s eta 0:00:03\n",
      "   --- ------------------------------------ 0.1/1.4 MB 450.6 kB/s eta 0:00:03\n",
      "   --- ------------------------------------ 0.1/1.4 MB 448.2 kB/s eta 0:00:03\n",
      "   ---- ----------------------------------- 0.2/1.4 MB 446.5 kB/s eta 0:00:03\n",
      "   ---- ----------------------------------- 0.2/1.4 MB 446.5 kB/s eta 0:00:03\n",
      "   ----- ---------------------------------- 0.2/1.4 MB 406.9 kB/s eta 0:00:04\n",
      "   ----- ---------------------------------- 0.2/1.4 MB 401.2 kB/s eta 0:00:04\n",
      "   ------ --------------------------------- 0.2/1.4 MB 405.0 kB/s eta 0:00:04\n",
      "   ------- -------------------------------- 0.3/1.4 MB 431.0 kB/s eta 0:00:03\n",
      "   --------- ------------------------------ 0.3/1.4 MB 483.9 kB/s eta 0:00:03\n",
      "   --------- ------------------------------ 0.3/1.4 MB 502.9 kB/s eta 0:00:03\n",
      "   ---------- ----------------------------- 0.4/1.4 MB 512.7 kB/s eta 0:00:03\n",
      "   ----------- ---------------------------- 0.4/1.4 MB 511.3 kB/s eta 0:00:03\n",
      "   ------------- -------------------------- 0.5/1.4 MB 593.6 kB/s eta 0:00:02\n",
      "   -------------- ------------------------- 0.5/1.4 MB 585.1 kB/s eta 0:00:02\n",
      "   --------------- ------------------------ 0.6/1.4 MB 610.8 kB/s eta 0:00:02\n",
      "   ----------------- ---------------------- 0.6/1.4 MB 634.1 kB/s eta 0:00:02\n",
      "   ----------------- ---------------------- 0.6/1.4 MB 614.8 kB/s eta 0:00:02\n",
      "   ------------------ --------------------- 0.7/1.4 MB 616.2 kB/s eta 0:00:02\n",
      "   ------------------ --------------------- 0.7/1.4 MB 617.8 kB/s eta 0:00:02\n",
      "   ------------------- -------------------- 0.7/1.4 MB 611.2 kB/s eta 0:00:02\n",
      "   -------------------- ------------------- 0.8/1.4 MB 621.4 kB/s eta 0:00:02\n",
      "   ---------------------- ----------------- 0.8/1.4 MB 630.8 kB/s eta 0:00:02\n",
      "   ---------------------- ----------------- 0.8/1.4 MB 631.6 kB/s eta 0:00:01\n",
      "   ------------------------- -------------- 0.9/1.4 MB 670.5 kB/s eta 0:00:01\n",
      "   --------------------------- ------------ 1.0/1.4 MB 706.7 kB/s eta 0:00:01\n",
      "   --------------------------- ------------ 1.0/1.4 MB 713.7 kB/s eta 0:00:01\n",
      "   ------------------------------ --------- 1.1/1.4 MB 737.8 kB/s eta 0:00:01\n",
      "   --------------------------------- ------ 1.2/1.4 MB 782.5 kB/s eta 0:00:01\n",
      "   ---------------------------------- ----- 1.3/1.4 MB 807.5 kB/s eta 0:00:01\n",
      "   ------------------------------------- -- 1.3/1.4 MB 826.8 kB/s eta 0:00:01\n",
      "   ---------------------------------------  1.4/1.4 MB 853.3 kB/s eta 0:00:01\n",
      "   ---------------------------------------- 1.4/1.4 MB 845.2 kB/s eta 0:00:00\n",
      "Installing collected packages: mlxtend\n",
      "Successfully installed mlxtend-0.23.1\n"
     ]
    }
   ],
   "source": [
    "!pip install mlxtend"
   ]
  },
  {
   "cell_type": "code",
   "execution_count": 3,
   "id": "8fd1ca6a-2bf3-4f68-91e4-30bd68acf87c",
   "metadata": {},
   "outputs": [],
   "source": [
    "import pandas as pd\n",
    "from mlxtend.frequent_patterns import apriori, association_rules\n",
    "\n",
    "# 1. Read the data\n",
    "data = {\n",
    "    'Transaction': [1, 1, 2, 2, 3, 3, 4, 4],\n",
    "    'Items': ['A,B,C', 'A,C,D', 'B,D', 'A,B,C,D', 'A,B', 'C,D', 'A,C,D', 'B,C']\n",
    "}\n",
    "df = pd.DataFrame(data)\n",
    "transactions = df['Items'].str.get_dummies(',')"
   ]
  },
  {
   "cell_type": "code",
   "execution_count": 4,
   "id": "9b9bbd31-132a-4ece-a87a-d17af1c69a1d",
   "metadata": {},
   "outputs": [
    {
     "name": "stdout",
     "output_type": "stream",
     "text": [
      "Frequent Itemsets:\n",
      "    support      itemsets\n",
      "0     0.625           (A)\n",
      "1     0.625           (B)\n",
      "2     0.750           (C)\n",
      "3     0.625           (D)\n",
      "4     0.375        (B, A)\n",
      "5     0.500        (A, C)\n",
      "6     0.375        (D, A)\n",
      "7     0.375        (B, C)\n",
      "8     0.250        (D, B)\n",
      "9     0.500        (D, C)\n",
      "10    0.250     (B, A, C)\n",
      "11    0.125     (D, B, A)\n",
      "12    0.375     (D, A, C)\n",
      "13    0.125     (D, B, C)\n",
      "14    0.125  (D, B, A, C)\n"
     ]
    },
    {
     "name": "stderr",
     "output_type": "stream",
     "text": [
      "C:\\Users\\mehra\\anaconda3\\Lib\\site-packages\\mlxtend\\frequent_patterns\\fpcommon.py:109: DeprecationWarning: DataFrames with non-bool types result in worse computationalperformance and their support might be discontinued in the future.Please use a DataFrame with bool type\n",
      "  warnings.warn(\n"
     ]
    }
   ],
   "source": [
    "# 2. Generate frequent itemsets with a minimum support threshold of 8%\n",
    "frequent_itemsets = apriori(transactions, min_support=0.08, use_colnames=True)\n",
    "print(\"Frequent Itemsets:\")\n",
    "print(frequent_itemsets)"
   ]
  },
  {
   "cell_type": "code",
   "execution_count": 5,
   "id": "afb83032-064e-4742-8bf1-6ab5ec0f9332",
   "metadata": {},
   "outputs": [
    {
     "name": "stdout",
     "output_type": "stream",
     "text": [
      "\n",
      "Association Rules:\n",
      "   antecedents consequents  support  confidence      lift\n",
      "0          (B)         (A)    0.375    0.600000  0.960000\n",
      "1          (A)         (B)    0.375    0.600000  0.960000\n",
      "2          (A)         (C)    0.500    0.800000  1.066667\n",
      "3          (C)         (A)    0.500    0.666667  1.066667\n",
      "4          (D)         (A)    0.375    0.600000  0.960000\n",
      "5          (A)         (D)    0.375    0.600000  0.960000\n",
      "6          (B)         (C)    0.375    0.600000  0.800000\n",
      "7          (C)         (B)    0.375    0.500000  0.800000\n",
      "8          (D)         (C)    0.500    0.800000  1.066667\n",
      "9          (C)         (D)    0.500    0.666667  1.066667\n",
      "10      (B, A)         (C)    0.250    0.666667  0.888889\n",
      "11      (B, C)         (A)    0.250    0.666667  1.066667\n",
      "12      (A, C)         (B)    0.250    0.500000  0.800000\n",
      "13      (D, B)         (A)    0.125    0.500000  0.800000\n",
      "14      (D, A)         (C)    0.375    1.000000  1.333333\n",
      "15      (D, C)         (A)    0.375    0.750000  1.200000\n",
      "16      (A, C)         (D)    0.375    0.750000  1.200000\n",
      "17         (D)      (A, C)    0.375    0.600000  1.200000\n",
      "18         (A)      (D, C)    0.375    0.600000  1.200000\n",
      "19         (C)      (D, A)    0.375    0.500000  1.333333\n",
      "20      (D, B)         (C)    0.125    0.500000  0.666667\n",
      "21   (D, B, A)         (C)    0.125    1.000000  1.333333\n",
      "22   (D, B, C)         (A)    0.125    1.000000  1.600000\n",
      "23   (B, A, C)         (D)    0.125    0.500000  0.800000\n",
      "24      (D, B)      (A, C)    0.125    0.500000  1.000000\n"
     ]
    }
   ],
   "source": [
    "# 3. Display the association rules with a minimum confidence threshold of 50%\n",
    "# 4. Find all the rules of these subsets that have higher confidence value\n",
    "rules = association_rules(frequent_itemsets, metric=\"confidence\", min_threshold=0.5)\n",
    "print(\"\\nAssociation Rules:\")\n",
    "print(rules[['antecedents', 'consequents', 'support', 'confidence', 'lift']])"
   ]
  },
  {
   "cell_type": "code",
   "execution_count": null,
   "id": "f3c40ca8-c22d-4f57-b8f9-5a6c21778763",
   "metadata": {},
   "outputs": [],
   "source": []
  }
 ],
 "metadata": {
  "kernelspec": {
   "display_name": "Python 3 (ipykernel)",
   "language": "python",
   "name": "python3"
  },
  "language_info": {
   "codemirror_mode": {
    "name": "ipython",
    "version": 3
   },
   "file_extension": ".py",
   "mimetype": "text/x-python",
   "name": "python",
   "nbconvert_exporter": "python",
   "pygments_lexer": "ipython3",
   "version": "3.11.5"
  }
 },
 "nbformat": 4,
 "nbformat_minor": 5
}
