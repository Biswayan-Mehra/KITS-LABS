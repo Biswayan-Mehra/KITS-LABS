{
 "cells": [
  {
   "cell_type": "markdown",
   "id": "190586bc",
   "metadata": {},
   "source": [
    "1: Read the dataset and do necessary preprocessing"
   ]
  },
  {
   "cell_type": "code",
   "execution_count": 1,
   "id": "339ca53a",
   "metadata": {},
   "outputs": [
    {
     "data": {
      "text/html": [
       "<div>\n",
       "<style scoped>\n",
       "    .dataframe tbody tr th:only-of-type {\n",
       "        vertical-align: middle;\n",
       "    }\n",
       "\n",
       "    .dataframe tbody tr th {\n",
       "        vertical-align: top;\n",
       "    }\n",
       "\n",
       "    .dataframe thead th {\n",
       "        text-align: right;\n",
       "    }\n",
       "</style>\n",
       "<table border=\"1\" class=\"dataframe\">\n",
       "  <thead>\n",
       "    <tr style=\"text-align: right;\">\n",
       "      <th></th>\n",
       "      <th>Feature1</th>\n",
       "      <th>Feature2</th>\n",
       "      <th>Feature3</th>\n",
       "      <th>Feature4</th>\n",
       "      <th>Target</th>\n",
       "      <th>CategoricalFeature</th>\n",
       "    </tr>\n",
       "  </thead>\n",
       "  <tbody>\n",
       "    <tr>\n",
       "      <th>0</th>\n",
       "      <td>0.155592</td>\n",
       "      <td>-0.213447</td>\n",
       "      <td>-0.718444</td>\n",
       "      <td>0.140962</td>\n",
       "      <td>1</td>\n",
       "      <td>1</td>\n",
       "    </tr>\n",
       "    <tr>\n",
       "      <th>1</th>\n",
       "      <td>2.548817</td>\n",
       "      <td>0.401712</td>\n",
       "      <td>-0.108760</td>\n",
       "      <td>2.502258</td>\n",
       "      <td>1</td>\n",
       "      <td>1</td>\n",
       "    </tr>\n",
       "    <tr>\n",
       "      <th>2</th>\n",
       "      <td>0.739028</td>\n",
       "      <td>0.791663</td>\n",
       "      <td>1.158111</td>\n",
       "      <td>0.821807</td>\n",
       "      <td>1</td>\n",
       "      <td>2</td>\n",
       "    </tr>\n",
       "    <tr>\n",
       "      <th>3</th>\n",
       "      <td>0.769169</td>\n",
       "      <td>-1.435862</td>\n",
       "      <td>1.441273</td>\n",
       "      <td>-1.060967</td>\n",
       "      <td>0</td>\n",
       "      <td>0</td>\n",
       "    </tr>\n",
       "    <tr>\n",
       "      <th>4</th>\n",
       "      <td>1.431174</td>\n",
       "      <td>0.852433</td>\n",
       "      <td>-0.661786</td>\n",
       "      <td>-0.708083</td>\n",
       "      <td>0</td>\n",
       "      <td>1</td>\n",
       "    </tr>\n",
       "  </tbody>\n",
       "</table>\n",
       "</div>"
      ],
      "text/plain": [
       "   Feature1  Feature2  Feature3  Feature4  Target  CategoricalFeature\n",
       "0  0.155592 -0.213447 -0.718444  0.140962       1                   1\n",
       "1  2.548817  0.401712 -0.108760  2.502258       1                   1\n",
       "2  0.739028  0.791663  1.158111  0.821807       1                   2\n",
       "3  0.769169 -1.435862  1.441273 -1.060967       0                   0\n",
       "4  1.431174  0.852433 -0.661786 -0.708083       0                   1"
      ]
     },
     "execution_count": 1,
     "metadata": {},
     "output_type": "execute_result"
    }
   ],
   "source": [
    "import pandas as pd\n",
    "from sklearn.impute import SimpleImputer\n",
    "from sklearn.preprocessing import LabelEncoder\n",
    "\n",
    "dataset = pd.read_csv('synthetic_perceptron_dataset.csv')\n",
    "\n",
    "# Impute null values with the mean for 'Feature2'\n",
    "imputer = SimpleImputer(strategy='mean')\n",
    "dataset['Feature2'] = imputer.fit_transform(dataset[['Feature2']])\n",
    "\n",
    "# Encode categorical variable 'CategoricalFeature' to numeric\n",
    "encoder = LabelEncoder()\n",
    "dataset['CategoricalFeature'] = encoder.fit_transform(dataset['CategoricalFeature'])\n",
    "\n",
    "dataset.head()"
   ]
  },
  {
   "cell_type": "markdown",
   "id": "4c26d11d",
   "metadata": {},
   "source": [
    "2: Determine the number of epochs which have minimum error"
   ]
  },
  {
   "cell_type": "code",
   "execution_count": 2,
   "id": "fdcedd33",
   "metadata": {},
   "outputs": [
    {
     "data": {
      "text/plain": [
       "<__main__.Perceptron at 0x29e806ad2d0>"
      ]
     },
     "execution_count": 2,
     "metadata": {},
     "output_type": "execute_result"
    }
   ],
   "source": [
    "import numpy as np\n",
    "class Perceptron:\n",
    "    def __init__(self, learning_rate=0.1, epochs=100):\n",
    "        self.lr = learning_rate\n",
    "        self.epochs = epochs\n",
    "        self.weights = None\n",
    "        self.bias = None\n",
    "        self.errors = []\n",
    "\n",
    "    def activation_function(self, x):\n",
    "        return np.where(x >= 0, 1, 0)\n",
    "\n",
    "    def fit(self, X, y):\n",
    "        n_samples, n_features = X.shape\n",
    "        self.weights = np.zeros(n_features)\n",
    "        self.bias = 0\n",
    "\n",
    "        for _ in range(self.epochs):\n",
    "            error = 0\n",
    "            for idx, x_i in enumerate(X):\n",
    "                linear_output = np.dot(x_i, self.weights) + self.bias\n",
    "                y_predicted = self.activation_function(linear_output)\n",
    "                update = self.lr * (y[idx] - y_predicted)\n",
    "                self.weights += update * x_i\n",
    "                self.bias += update\n",
    "                error += update != 0.0\n",
    "            self.errors.append(error)\n",
    "\n",
    "        return self\n",
    "\n",
    "    def predict(self, X):\n",
    "        linear_output = np.dot(X, self.weights) + self.bias\n",
    "        y_predicted = self.activation_function(linear_output)\n",
    "        return y_predicted\n",
    "\n",
    "# Now we can train our perceptron and plot the errors\n",
    "perceptron = Perceptron(learning_rate=0.1, epochs=10)\n",
    "X = dataset.iloc[:, :-1].values\n",
    "y = dataset.iloc[:, -1].values\n",
    "perceptron.fit(X, y)"
   ]
  },
  {
   "cell_type": "markdown",
   "id": "a34e6e09",
   "metadata": {},
   "source": [
    "3: Display final weight of each attribute which have minimum error"
   ]
  },
  {
   "cell_type": "code",
   "execution_count": 3,
   "id": "77d63dfd",
   "metadata": {},
   "outputs": [
    {
     "name": "stdout",
     "output_type": "stream",
     "text": [
      "Final weights: [-0.15482566  0.06907392  0.13620062 -0.1782638   0.3       ]\n"
     ]
    }
   ],
   "source": [
    "print(f'Final weights: {perceptron.weights}')"
   ]
  },
  {
   "cell_type": "markdown",
   "id": "01f03793",
   "metadata": {},
   "source": [
    "4: Plot the convergence of error for each iteration"
   ]
  },
  {
   "cell_type": "code",
   "execution_count": 4,
   "id": "bf75fb41",
   "metadata": {},
   "outputs": [
    {
     "data": {
      "image/png": "[encoded data removed]",
      "text/plain": [
       "<Figure size 640x480 with 1 Axes>"
      ]
     },
     "metadata": {},
     "output_type": "display_data"
    }
   ],
   "source": [
    "import matplotlib.pyplot as plt\n",
    "plt.plot(range(1, len(perceptron.errors) + 1), perceptron.errors, marker='o')\n",
    "plt.xlabel('Epochs')\n",
    "plt.ylabel('Number of updates')\n",
    "plt.show()"
   ]
  },
  {
   "cell_type": "code",
   "execution_count": null,
   "id": "14f28b23-9f2e-43f5-b069-dea69669d30e",
   "metadata": {},
   "outputs": [],
   "source": []
  }
 ],
 "metadata": {
  "kernelspec": {
   "display_name": "Python 3 (ipykernel)",
   "language": "python",
   "name": "python3"
  },
  "language_info": {
   "codemirror_mode": {
    "name": "ipython",
    "version": 3
   },
   "file_extension": ".py",
   "mimetype": "text/x-python",
   "name": "python",
   "nbconvert_exporter": "python",
   "pygments_lexer": "ipython3",
   "version": "3.11.5"
  }
 },
 "nbformat": 4,
 "nbformat_minor": 5
}
