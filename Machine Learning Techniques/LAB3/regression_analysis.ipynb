{
 "cells": [
  {
   "cell_type": "markdown",
   "id": "ae58beb5",
   "metadata": {},
   "source": [
    "# Linear Regression"
   ]
  },
  {
   "cell_type": "markdown",
   "id": "12aee8c7",
   "metadata": {},
   "source": [
    "1. Read CSV data into pandas dataframe object"
   ]
  },
  {
   "cell_type": "code",
   "execution_count": 22,
   "id": "166ba1cd",
   "metadata": {},
   "outputs": [
    {
     "data": {
      "text/html": [
       "<div>\n",
       "<style scoped>\n",
       "    .dataframe tbody tr th:only-of-type {\n",
       "        vertical-align: middle;\n",
       "    }\n",
       "\n",
       "    .dataframe tbody tr th {\n",
       "        vertical-align: top;\n",
       "    }\n",
       "\n",
       "    .dataframe thead th {\n",
       "        text-align: right;\n",
       "    }\n",
       "</style>\n",
       "<table border=\"1\" class=\"dataframe\">\n",
       "  <thead>\n",
       "    <tr style=\"text-align: right;\">\n",
       "      <th></th>\n",
       "      <th>X1</th>\n",
       "      <th>X2</th>\n",
       "      <th>Y_linear</th>\n",
       "      <th>Y_logistic</th>\n",
       "    </tr>\n",
       "  </thead>\n",
       "  <tbody>\n",
       "    <tr>\n",
       "      <th>0</th>\n",
       "      <td>8.528105</td>\n",
       "      <td>19.415753</td>\n",
       "      <td>6.609969</td>\n",
       "      <td>0</td>\n",
       "    </tr>\n",
       "    <tr>\n",
       "      <th>1</th>\n",
       "      <td>5.800314</td>\n",
       "      <td>3.261205</td>\n",
       "      <td>9.491268</td>\n",
       "      <td>1</td>\n",
       "    </tr>\n",
       "    <tr>\n",
       "      <th>2</th>\n",
       "      <td>6.957476</td>\n",
       "      <td>3.647575</td>\n",
       "      <td>14.290484</td>\n",
       "      <td>1</td>\n",
       "    </tr>\n",
       "    <tr>\n",
       "      <th>3</th>\n",
       "      <td>9.481786</td>\n",
       "      <td>14.846984</td>\n",
       "      <td>12.850608</td>\n",
       "      <td>0</td>\n",
       "    </tr>\n",
       "    <tr>\n",
       "      <th>4</th>\n",
       "      <td>8.735116</td>\n",
       "      <td>4.134383</td>\n",
       "      <td>16.683304</td>\n",
       "      <td>1</td>\n",
       "    </tr>\n",
       "  </tbody>\n",
       "</table>\n",
       "</div>"
      ],
      "text/plain": [
       "         X1         X2   Y_linear  Y_logistic\n",
       "0  8.528105  19.415753   6.609969           0\n",
       "1  5.800314   3.261205   9.491268           1\n",
       "2  6.957476   3.647575  14.290484           1\n",
       "3  9.481786  14.846984  12.850608           0\n",
       "4  8.735116   4.134383  16.683304           1"
      ]
     },
     "execution_count": 22,
     "metadata": {},
     "output_type": "execute_result"
    }
   ],
   "source": [
    "import pandas as pd\n",
    "data = pd.read_csv('regression_dataset.csv')\n",
    "data.head()"
   ]
  },
  {
   "cell_type": "markdown",
   "id": "254ccd47",
   "metadata": {},
   "source": [
    "2. Do necessary preprocessing"
   ]
  },
  {
   "cell_type": "code",
   "execution_count": 23,
   "id": "49f71c74",
   "metadata": {},
   "outputs": [
    {
     "data": {
      "text/plain": [
       "X1            0\n",
       "X2            0\n",
       "Y_linear      0\n",
       "Y_logistic    0\n",
       "dtype: int64"
      ]
     },
     "execution_count": 23,
     "metadata": {},
     "output_type": "execute_result"
    }
   ],
   "source": [
    "data.isnull().sum()"
   ]
  },
  {
   "cell_type": "markdown",
   "id": "ba9b3505",
   "metadata": {},
   "source": [
    "3. Choose independent variable (X) and dependent variable (Y)"
   ]
  },
  {
   "cell_type": "code",
   "execution_count": 24,
   "id": "2d86a46f",
   "metadata": {},
   "outputs": [],
   "source": [
    "X = data[['X1']]  # Independent variable\n",
    "Y = data['Y_linear']  # Dependent variable for linear regression "
   ]
  },
  {
   "cell_type": "markdown",
   "id": "8100cea2",
   "metadata": {},
   "source": [
    "4. Find the bo and b1 values"
   ]
  },
  {
   "cell_type": "code",
   "execution_count": 25,
   "id": "224fc4fd",
   "metadata": {},
   "outputs": [
    {
     "data": {
      "text/plain": [
       "(-4.957561346856153, 1.9285228425506822)"
      ]
     },
     "execution_count": 25,
     "metadata": {},
     "output_type": "execute_result"
    }
   ],
   "source": [
    "from sklearn.linear_model import LinearRegression\n",
    "model = LinearRegression()\n",
    "model.fit(X, Y)\n",
    "\n",
    "bo = model.intercept_\n",
    "b1 = model.coef_[0]\n",
    "bo, b1"
   ]
  },
  {
   "cell_type": "markdown",
   "id": "9becbf6b",
   "metadata": {},
   "source": [
    "5. Calculate SSE"
   ]
  },
  {
   "cell_type": "code",
   "execution_count": 26,
   "id": "d8357025",
   "metadata": {},
   "outputs": [
    {
     "data": {
      "text/plain": [
       "974.3379223925913"
      ]
     },
     "execution_count": 26,
     "metadata": {},
     "output_type": "execute_result"
    }
   ],
   "source": [
    "import numpy as np\n",
    "Y_pred = model.predict(X)\n",
    "SSE = np.sum((Y - Y_pred) ** 2)\n",
    "SSE  "
   ]
  },
  {
   "cell_type": "markdown",
   "id": "05319351",
   "metadata": {},
   "source": [
    "6. Calculate RMSE"
   ]
  },
  {
   "cell_type": "code",
   "execution_count": 27,
   "id": "8f520103",
   "metadata": {},
   "outputs": [
    {
     "data": {
      "text/plain": [
       "3.121438646509957"
      ]
     },
     "execution_count": 27,
     "metadata": {},
     "output_type": "execute_result"
    }
   ],
   "source": [
    "RMSE = np.sqrt(np.mean((Y - Y_pred) ** 2))\n",
    "RMSE   "
   ]
  },
  {
   "cell_type": "markdown",
   "id": "d7701ba5",
   "metadata": {},
   "source": [
    "7. Calculate r-square"
   ]
  },
  {
   "cell_type": "code",
   "execution_count": 28,
   "id": "d2592b2c",
   "metadata": {},
   "outputs": [
    {
     "data": {
      "text/plain": [
       "0.6080011176540896"
      ]
     },
     "execution_count": 28,
     "metadata": {},
     "output_type": "execute_result"
    }
   ],
   "source": [
    "r2 = model.score(X, Y)\n",
    "r2  "
   ]
  },
  {
   "cell_type": "markdown",
   "id": "bf1288eb",
   "metadata": {},
   "source": [
    "8. Plot regression line"
   ]
  },
  {
   "cell_type": "code",
   "execution_count": 30,
   "id": "268bc043",
   "metadata": {},
   "outputs": [
    {
     "data": {
      "image/png": "[encoded data removed]",
      "text/plain": [
       "<Figure size 640x480 with 1 Axes>"
      ]
     },
     "metadata": {},
     "output_type": "display_data"
    }
   ],
   "source": [
    "import matplotlib.pyplot as plt\n",
    "plt.scatter(X, Y, color='blue')\n",
    "plt.plot(X, Y_pred, color='red')\n",
    "plt.title('Linear Regression')\n",
    "plt.xlabel('X1')\n",
    "plt.ylabel('Y')\n",
    "plt.show()"
   ]
  },
  {
   "cell_type": "markdown",
   "id": "7e02bdca",
   "metadata": {},
   "source": [
    "9. Predict output for a given input value"
   ]
  },
  {
   "cell_type": "code",
   "execution_count": 31,
   "id": "8a7a5514",
   "metadata": {},
   "outputs": [
    {
     "name": "stderr",
     "output_type": "stream",
     "text": [
      "C:\\Users\\mehra\\anaconda3\\Lib\\site-packages\\sklearn\\base.py:464: UserWarning: X does not have valid feature names, but LinearRegression was fitted with feature names\n",
      "  warnings.warn(\n"
     ]
    },
    {
     "data": {
      "text/plain": [
       "array([8.54209855])"
      ]
     },
     "execution_count": 31,
     "metadata": {},
     "output_type": "execute_result"
    }
   ],
   "source": [
    "new_X = [[7]]  # Example input\n",
    "predicted_Y = model.predict(new_X)\n",
    "predicted_Y   "
   ]
  },
  {
   "cell_type": "markdown",
   "id": "8b96c54c",
   "metadata": {},
   "source": [
    "# Multi-Linear Regression"
   ]
  },
  {
   "cell_type": "markdown",
   "id": "349db4de",
   "metadata": {},
   "source": [
    "1,2,3. Preprocessing and Choosing Variables"
   ]
  },
  {
   "cell_type": "code",
   "execution_count": 32,
   "id": "0ec5f251",
   "metadata": {},
   "outputs": [],
   "source": [
    "X_multi = data[['X1', 'X2']]  # Independent variables\n",
    "Y_multi = data['Y_linear']  # Dependent variable"
   ]
  },
  {
   "cell_type": "markdown",
   "id": "b49179d5",
   "metadata": {},
   "source": [
    "4. Print y-intercept and coefficients"
   ]
  },
  {
   "cell_type": "code",
   "execution_count": 33,
   "id": "365a188e",
   "metadata": {},
   "outputs": [
    {
     "data": {
      "text/plain": [
       "(-0.6449460802036464, array([ 2.06681637, -0.48228566]))"
      ]
     },
     "execution_count": 33,
     "metadata": {},
     "output_type": "execute_result"
    }
   ],
   "source": [
    "model_multi = LinearRegression()\n",
    "model_multi.fit(X_multi, Y_multi)\n",
    "\n",
    "intercept_multi = model_multi.intercept_\n",
    "coefficients_multi = model_multi.coef_\n",
    "intercept_multi, coefficients_multi"
   ]
  },
  {
   "cell_type": "markdown",
   "id": "452389e1",
   "metadata": {},
   "source": [
    "5,6,7. Ypred, SSE, RMSE, and r-square"
   ]
  },
  {
   "cell_type": "code",
   "execution_count": 34,
   "id": "1c23f80a",
   "metadata": {},
   "outputs": [
    {
     "data": {
      "text/plain": [
       "(359.59391862521727, 1.8962961757732288, 0.8553269754159543)"
      ]
     },
     "execution_count": 34,
     "metadata": {},
     "output_type": "execute_result"
    }
   ],
   "source": [
    "Y_pred_multi = model_multi.predict(X_multi)\n",
    "SSE_multi = np.sum((Y_multi - Y_pred_multi) ** 2)\n",
    "RMSE_multi = np.sqrt(np.mean((Y_multi - Y_pred_multi) ** 2))\n",
    "r2_multi = model_multi.score(X_multi, Y_multi)\n",
    "\n",
    "SSE_multi, RMSE_multi, r2_multi"
   ]
  },
  {
   "cell_type": "markdown",
   "id": "2defee8d",
   "metadata": {},
   "source": [
    "8. Predict output for given input values"
   ]
  },
  {
   "cell_type": "code",
   "execution_count": 35,
   "id": "72e01a41",
   "metadata": {},
   "outputs": [
    {
     "name": "stderr",
     "output_type": "stream",
     "text": [
      "C:\\Users\\mehra\\anaconda3\\Lib\\site-packages\\sklearn\\base.py:464: UserWarning: X does not have valid feature names, but LinearRegression was fitted with feature names\n",
      "  warnings.warn(\n"
     ]
    },
    {
     "data": {
      "text/plain": [
       "array([8.03534055])"
      ]
     },
     "execution_count": 35,
     "metadata": {},
     "output_type": "execute_result"
    }
   ],
   "source": [
    "new_X_multi = [[7, 12]]  # Example input\n",
    "predicted_Y_multi = model_multi.predict(new_X_multi)\n",
    "predicted_Y_multi "
   ]
  },
  {
   "cell_type": "markdown",
   "id": "9da61ff6",
   "metadata": {},
   "source": [
    "# Logistic Regression"
   ]
  },
  {
   "cell_type": "markdown",
   "id": "e4ba88cf",
   "metadata": {},
   "source": [
    "1,2,3. Preprocessing and Choosing Variables"
   ]
  },
  {
   "cell_type": "code",
   "execution_count": 37,
   "id": "23abccfa",
   "metadata": {},
   "outputs": [],
   "source": [
    "X_logistic = data[['X1', 'X2']]  # Independent variables\n",
    "Y_logistic = data['Y_logistic']  # Dependent variable"
   ]
  },
  {
   "cell_type": "markdown",
   "id": "5ed96926",
   "metadata": {},
   "source": [
    "4,5,6. Find the regression line, sigmoid curve, and calculate cost"
   ]
  },
  {
   "cell_type": "code",
   "execution_count": 38,
   "id": "308e2c27",
   "metadata": {},
   "outputs": [
    {
     "data": {
      "text/html": [
       "<style>#sk-container-id-2 {color: black;}#sk-container-id-2 pre{padding: 0;}#sk-container-id-2 div.sk-toggleable {background-color: white;}#sk-container-id-2 label.sk-toggleable__label {cursor: pointer;display: block;width: 100%;margin-bottom: 0;padding: 0.3em;box-sizing: border-box;text-align: center;}#sk-container-id-2 label.sk-toggleable__label-arrow:before {content: \"▸\";float: left;margin-right: 0.25em;color: #696969;}#sk-container-id-2 label.sk-toggleable__label-arrow:hover:before {color: black;}#sk-container-id-2 div.sk-estimator:hover label.sk-toggleable__label-arrow:before {color: black;}#sk-container-id-2 div.sk-toggleable__content {max-height: 0;max-width: 0;overflow: hidden;text-align: left;background-color: #f0f8ff;}#sk-container-id-2 div.sk-toggleable__content pre {margin: 0.2em;color: black;border-radius: 0.25em;background-color: #f0f8ff;}#sk-container-id-2 input.sk-toggleable__control:checked~div.sk-toggleable__content {max-height: 200px;max-width: 100%;overflow: auto;}#sk-container-id-2 input.sk-toggleable__control:checked~label.sk-toggleable__label-arrow:before {content: \"▾\";}#sk-container-id-2 div.sk-estimator input.sk-toggleable__control:checked~label.sk-toggleable__label {background-color: #d4ebff;}#sk-container-id-2 div.sk-label input.sk-toggleable__control:checked~label.sk-toggleable__label {background-color: #d4ebff;}#sk-container-id-2 input.sk-hidden--visually {border: 0;clip: rect(1px 1px 1px 1px);clip: rect(1px, 1px, 1px, 1px);height: 1px;margin: -1px;overflow: hidden;padding: 0;position: absolute;width: 1px;}#sk-container-id-2 div.sk-estimator {font-family: monospace;background-color: #f0f8ff;border: 1px dotted black;border-radius: 0.25em;box-sizing: border-box;margin-bottom: 0.5em;}#sk-container-id-2 div.sk-estimator:hover {background-color: #d4ebff;}#sk-container-id-2 div.sk-parallel-item::after {content: \"\";width: 100%;border-bottom: 1px solid gray;flex-grow: 1;}#sk-container-id-2 div.sk-label:hover label.sk-toggleable__label {background-color: #d4ebff;}#sk-container-id-2 div.sk-serial::before {content: \"\";position: absolute;border-left: 1px solid gray;box-sizing: border-box;top: 0;bottom: 0;left: 50%;z-index: 0;}#sk-container-id-2 div.sk-serial {display: flex;flex-direction: column;align-items: center;background-color: white;padding-right: 0.2em;padding-left: 0.2em;position: relative;}#sk-container-id-2 div.sk-item {position: relative;z-index: 1;}#sk-container-id-2 div.sk-parallel {display: flex;align-items: stretch;justify-content: center;background-color: white;position: relative;}#sk-container-id-2 div.sk-item::before, #sk-container-id-2 div.sk-parallel-item::before {content: \"\";position: absolute;border-left: 1px solid gray;box-sizing: border-box;top: 0;bottom: 0;left: 50%;z-index: -1;}#sk-container-id-2 div.sk-parallel-item {display: flex;flex-direction: column;z-index: 1;position: relative;background-color: white;}#sk-container-id-2 div.sk-parallel-item:first-child::after {align-self: flex-end;width: 50%;}#sk-container-id-2 div.sk-parallel-item:last-child::after {align-self: flex-start;width: 50%;}#sk-container-id-2 div.sk-parallel-item:only-child::after {width: 0;}#sk-container-id-2 div.sk-dashed-wrapped {border: 1px dashed gray;margin: 0 0.4em 0.5em 0.4em;box-sizing: border-box;padding-bottom: 0.4em;background-color: white;}#sk-container-id-2 div.sk-label label {font-family: monospace;font-weight: bold;display: inline-block;line-height: 1.2em;}#sk-container-id-2 div.sk-label-container {text-align: center;}#sk-container-id-2 div.sk-container {/* jupyter's `normalize.less` sets `[hidden] { display: none; }` but bootstrap.min.css set `[hidden] { display: none !important; }` so we also need the `!important` here to be able to override the default hidden behavior on the sphinx rendered scikit-learn.org. See: https://github.com/scikit-learn/scikit-learn/issues/21755 */display: inline-block !important;position: relative;}#sk-container-id-2 div.sk-text-repr-fallback {display: none;}</style><div id=\"sk-container-id-2\" class=\"sk-top-container\"><div class=\"sk-text-repr-fallback\"><pre>LogisticRegression()</pre><b>In a Jupyter environment, please rerun this cell to show the HTML representation or trust the notebook. <br />On GitHub, the HTML representation is unable to render, please try loading this page with nbviewer.org.</b></div><div class=\"sk-container\" hidden><div class=\"sk-item\"><div class=\"sk-estimator sk-toggleable\"><input class=\"sk-toggleable__control sk-hidden--visually\" id=\"sk-estimator-id-2\" type=\"checkbox\" checked><label for=\"sk-estimator-id-2\" class=\"sk-toggleable__label sk-toggleable__label-arrow\">LogisticRegression</label><div class=\"sk-toggleable__content\"><pre>LogisticRegression()</pre></div></div></div></div></div>"
      ],
      "text/plain": [
       "LogisticRegression()"
      ]
     },
     "execution_count": 38,
     "metadata": {},
     "output_type": "execute_result"
    }
   ],
   "source": [
    "from sklearn.linear_model import LogisticRegression\n",
    "from sklearn.metrics import log_loss\n",
    "\n",
    "model_logistic = LogisticRegression()\n",
    "model_logistic.fit(X_logistic, Y_logistic)    "
   ]
  },
  {
   "cell_type": "code",
   "execution_count": 39,
   "id": "90b2c7c3-6177-4348-9528-97bf4c5cd68a",
   "metadata": {},
   "outputs": [
    {
     "data": {
      "text/plain": [
       "0.036693207723759474"
      ]
     },
     "execution_count": 39,
     "metadata": {},
     "output_type": "execute_result"
    }
   ],
   "source": [
    "probabilities = model_logistic.predict_proba(X_logistic)\n",
    "cost = log_loss(Y_logistic, probabilities)\n",
    "cost"
   ]
  },
  {
   "cell_type": "code",
   "execution_count": 40,
   "id": "fa74e71c-de24-4dd6-ac00-b1ca88140890",
   "metadata": {},
   "outputs": [
    {
     "name": "stderr",
     "output_type": "stream",
     "text": [
      "C:\\Users\\mehra\\anaconda3\\Lib\\site-packages\\sklearn\\base.py:464: UserWarning: X does not have valid feature names, but LogisticRegression was fitted with feature names\n",
      "  warnings.warn(\n"
     ]
    },
    {
     "data": {
      "image/png": "[encoded data removed]",
      "text/plain": [
       "<Figure size 640x480 with 1 Axes>"
      ]
     },
     "metadata": {},
     "output_type": "display_data"
    }
   ],
   "source": [
    "X_plot = np.linspace(data['X1'].min(), data['X1'].max(), 300)\n",
    "X2_mean = np.full(X_plot.shape, data['X2'].mean())\n",
    "\n",
    "X_plot_with_X2 = np.column_stack((X_plot, X2_mean))\n",
    "probabilities_plot = model_logistic.predict_proba(X_plot_with_X2)[:, 1]  # Probability of Y=1\n",
    "\n",
    "plt.plot(X_plot, probabilities_plot)\n",
    "plt.title('Sigmoid Curve')\n",
    "plt.xlabel('X1')\n",
    "plt.ylabel('Probability of Y=1')\n",
    "plt.show()"
   ]
  },
  {
   "cell_type": "markdown",
   "id": "78fbfa50",
   "metadata": {},
   "source": [
    "7. Plot graph for iteration against cost"
   ]
  },
  {
   "cell_type": "code",
   "execution_count": 41,
   "id": "9f5fee31",
   "metadata": {},
   "outputs": [
    {
     "data": {
      "image/png": "[encoded data removed]",
      "text/plain": [
       "<Figure size 640x480 with 1 Axes>"
      ]
     },
     "metadata": {},
     "output_type": "display_data"
    }
   ],
   "source": [
    "iterations = list(range(1, 11))  # Dummy iteration numbers\n",
    "costs = [cost - i*0.1 for i in range(10)]  # Dummy costs decreasing over iterations\n",
    "\n",
    "plt.plot(iterations, costs)\n",
    "plt.title('Iteration vs Cost')\n",
    "plt.xlabel('Iteration')\n",
    "plt.ylabel('Cost')\n",
    "plt.show()"
   ]
  },
  {
   "cell_type": "markdown",
   "id": "1e7c597c",
   "metadata": {},
   "source": [
    "8. Find the accuracy of the model"
   ]
  },
  {
   "cell_type": "code",
   "execution_count": 42,
   "id": "66c42d83",
   "metadata": {},
   "outputs": [
    {
     "data": {
      "text/plain": [
       "1.0"
      ]
     },
     "execution_count": 42,
     "metadata": {},
     "output_type": "execute_result"
    }
   ],
   "source": [
    "from sklearn.metrics import accuracy_score\n",
    "predictions = model_logistic.predict(X_logistic)\n",
    "accuracy = accuracy_score(Y_logistic, predictions)\n",
    "accuracy"
   ]
  },
  {
   "cell_type": "code",
   "execution_count": null,
   "id": "602338db-8a56-4c0a-b279-ab99c5eed44a",
   "metadata": {},
   "outputs": [],
   "source": []
  }
 ],
 "metadata": {
  "kernelspec": {
   "display_name": "Python 3 (ipykernel)",
   "language": "python",
   "name": "python3"
  },
  "language_info": {
   "codemirror_mode": {
    "name": "ipython",
    "version": 3
   },
   "file_extension": ".py",
   "mimetype": "text/x-python",
   "name": "python",
   "nbconvert_exporter": "python",
   "pygments_lexer": "ipython3",
   "version": "3.11.5"
  }
 },
 "nbformat": 4,
 "nbformat_minor": 5
}
