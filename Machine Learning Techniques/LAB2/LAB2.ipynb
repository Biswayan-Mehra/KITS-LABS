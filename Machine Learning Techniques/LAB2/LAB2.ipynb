{
 "cells": [
  {
   "cell_type": "code",
   "execution_count": 13,
   "metadata": {
    "tags": []
   },
   "outputs": [],
   "source": [
    "import numpy as np\n",
    "import pandas as pd\n",
    "import seaborn as sns\n",
    "import matplotlib.pyplot as plt\n",
    "from scipy.stats import zscore\n",
    "from sklearn.model_selection import train_test_split\n",
    "from sklearn.preprocessing import StandardScaler\n",
    "from sklearn.feature_selection import SelectKBest, SelectPercentile, chi2, VarianceThreshold\n",
    "from sklearn.decomposition import PCA\n",
    "from sklearn.discriminant_analysis import LinearDiscriminantAnalysis"
   ]
  },
  {
   "cell_type": "code",
   "execution_count": null,
   "metadata": {},
   "outputs": [],
   "source": [
    "1. Read and analyze the data"
   ]
  },
  {
   "cell_type": "code",
   "execution_count": 14,
   "metadata": {
    "tags": []
   },
   "outputs": [
    {
     "name": "stdout",
     "output_type": "stream",
     "text": [
      "               Id  SepalLengthCm  SepalWidthCm  PetalLengthCm  PetalWidthCm\n",
      "count  150.000000     150.000000    150.000000     150.000000    148.000000\n",
      "mean    75.500000       5.843333      3.054000       3.758667      1.204730\n",
      "std     43.445368       0.828066      0.433594       1.764420      0.763837\n",
      "min      1.000000       4.300000      2.000000       1.000000      0.100000\n",
      "25%     38.250000       5.100000      2.800000       1.600000      0.300000\n",
      "50%     75.500000       5.800000      3.000000       4.350000      1.300000\n",
      "75%    112.750000       6.400000      3.300000       5.100000      1.800000\n",
      "max    150.000000       7.900000      4.400000       6.900000      2.500000\n"
     ]
    }
   ],
   "source": [
    "df = pd.read_csv('Iris.csv')\n",
    "print(df.describe())"
   ]
  },
  {
   "cell_type": "code",
   "execution_count": null,
   "metadata": {},
   "outputs": [],
   "source": [
    "5. Calculate the % of missing values in a column."
   ]
  },
  {
   "cell_type": "code",
   "execution_count": 15,
   "metadata": {
    "tags": []
   },
   "outputs": [
    {
     "name": "stdout",
     "output_type": "stream",
     "text": [
      "% of missing in Petal Color : 62.67\n"
     ]
    }
   ],
   "source": [
    "number_of_missing_values = ((df[\"Petal Color\"].isnull().sum())/(df[\"Id\"].count()))*100\n",
    "val = float(\"{:.2f}\".format(number_of_missing_values))\n",
    "print(f\"% of missing in Petal Color : {val}\")"
   ]
  },
  {
   "cell_type": "code",
   "execution_count": null,
   "metadata": {},
   "outputs": [],
   "source": [
    "6. Remove features with missing values (&gt;20%)"
   ]
  },
  {
   "cell_type": "code",
   "execution_count": 16,
   "metadata": {
    "tags": []
   },
   "outputs": [],
   "source": [
    "df = df.drop(['Petal Color'], axis=1)"
   ]
  },
  {
   "cell_type": "code",
   "execution_count": null,
   "metadata": {},
   "outputs": [],
   "source": [
    "7. If the missing values is &lt;20% ,do data imputation(mean/median)"
   ]
  },
  {
   "cell_type": "code",
   "execution_count": 17,
   "metadata": {
    "tags": []
   },
   "outputs": [
    {
     "name": "stdout",
     "output_type": "stream",
     "text": [
      "Number of nulls in PetalWidthCm:  2\n",
      "Number of nulls in PetalWidthCm:  0\n"
     ]
    }
   ],
   "source": [
    "print(\"Number of nulls in PetalWidthCm: \",df[\"PetalWidthCm\"].isnull().sum())\n",
    "df[\"PetalWidthCm\"].fillna(df[\"PetalWidthCm\"].median(),inplace=True)\n",
    "print(\"Number of nulls in PetalWidthCm: \",df[\"PetalWidthCm\"].isnull().sum())"
   ]
  },
  {
   "cell_type": "code",
   "execution_count": null,
   "metadata": {},
   "outputs": [],
   "source": [
    "8. Remove the outliers."
   ]
  },
  {
   "cell_type": "code",
   "execution_count": 18,
   "metadata": {},
   "outputs": [
    {
     "name": "stdout",
     "output_type": "stream",
     "text": [
      "Index of outliers: [14 15 32 33 60]\n"
     ]
    }
   ],
   "source": [
    "z_scores = zscore(df[\"SepalWidthCm\"])\n",
    "threshold = 2\n",
    "outlier_indices = np.where(np.abs(z_scores) > threshold)[0]\n",
    "print(\"Index of outliers:\", outlier_indices)\n",
    "df.drop(outlier_indices, inplace=True)"
   ]
  },
  {
   "cell_type": "code",
   "execution_count": null,
   "metadata": {},
   "outputs": [],
   "source": [
    "2. Split the dataset into train and test sets."
   ]
  },
  {
   "cell_type": "code",
   "execution_count": 19,
   "metadata": {
    "tags": []
   },
   "outputs": [],
   "source": [
    "X_train, X_test, Y_train, Y_test = train_test_split(df.iloc[:,:-1],df['Species'],test_size=0.3,random_state=42)"
   ]
  },
  {
   "cell_type": "code",
   "execution_count": null,
   "metadata": {},
   "outputs": [],
   "source": [
    "3. check shape of training and test sets"
   ]
  },
  {
   "cell_type": "code",
   "execution_count": 20,
   "metadata": {
    "tags": []
   },
   "outputs": [
    {
     "name": "stdout",
     "output_type": "stream",
     "text": [
      "Train Shape :  (101, 5)\n",
      "Test Shape :  (44, 5)\n"
     ]
    }
   ],
   "source": [
    "print(\"Train Shape : \",X_train.shape)\n",
    "print(\"Test Shape : \",X_test.shape)"
   ]
  },
  {
   "cell_type": "code",
   "execution_count": null,
   "metadata": {},
   "outputs": [],
   "source": [
    "4. Perform scaling in the data using Standard Scalar"
   ]
  },
  {
   "cell_type": "code",
   "execution_count": 21,
   "metadata": {
    "tags": []
   },
   "outputs": [],
   "source": [
    "scaler = StandardScaler()\n",
    "X_train_scaled = scaler.fit_transform(X_train)\n",
    "X_test_scaled = scaler.fit_transform(X_test)"
   ]
  },
  {
   "cell_type": "code",
   "execution_count": null,
   "metadata": {},
   "outputs": [],
   "source": [
    "9. Use sklearn variancethreshold to find the constant features and display the constant features"
   ]
  },
  {
   "cell_type": "code",
   "execution_count": 22,
   "metadata": {
    "tags": []
   },
   "outputs": [
    {
     "data": {
      "text/plain": [
       "[]"
      ]
     },
     "execution_count": 22,
     "metadata": {},
     "output_type": "execute_result"
    }
   ],
   "source": [
    "selector = VarianceThreshold(threshold=0)\n",
    "selector.fit(X_train)\n",
    "constant_features = [column for column in X_train.columns if column not in X_train.columns[selector.get_support()]]\n",
    "constant_features"
   ]
  },
  {
   "cell_type": "code",
   "execution_count": null,
   "metadata": {},
   "outputs": [],
   "source": [
    "10. Remove features with low variance"
   ]
  },
  {
   "cell_type": "code",
   "execution_count": 23,
   "metadata": {
    "tags": []
   },
   "outputs": [],
   "source": [
    "low_variance_features = VarianceThreshold(threshold=0.01)\n",
    "train_df_reduced = low_variance_features.fit_transform(X_train)"
   ]
  },
  {
   "cell_type": "code",
   "execution_count": null,
   "metadata": {},
   "outputs": [],
   "source": [
    "11. Remove highly correlated features"
   ]
  },
  {
   "cell_type": "code",
   "execution_count": 24,
   "metadata": {
    "tags": []
   },
   "outputs": [
    {
     "data": {
      "text/plain": [
       "<Axes: >"
      ]
     },
     "execution_count": 24,
     "metadata": {},
     "output_type": "execute_result"
    },
    {
     "data": {
      "image/png": "[encoded data removed]",
      "text/plain": [
       "<Figure size 640x480 with 2 Axes>"
      ]
     },
     "metadata": {},
     "output_type": "display_data"
    }
   ],
   "source": [
    "correlation_matrix = X_train[1:-1].corr()\n",
    "sns.heatmap(correlation_matrix, annot=True, cmap='coolwarm')"
   ]
  },
  {
   "cell_type": "code",
   "execution_count": 25,
   "metadata": {
    "tags": []
   },
   "outputs": [
    {
     "name": "stdout",
     "output_type": "stream",
     "text": [
      "{'PetalLengthCm', 'PetalWidthCm'}\n"
     ]
    },
    {
     "data": {
      "text/plain": [
       "(101, 5)"
      ]
     },
     "execution_count": 25,
     "metadata": {},
     "output_type": "execute_result"
    }
   ],
   "source": [
    "highly_correlated_features = set()\n",
    "for i in range(len(correlation_matrix.columns)):\n",
    "    for j in range(i):\n",
    "        if abs(correlation_matrix.iloc[i, j]) > 0.8:\n",
    "            colname = correlation_matrix.columns[i]\n",
    "            highly_correlated_features.add(colname)\n",
    "print(highly_correlated_features)\n",
    "train_df_reduced.shape"
   ]
  },
  {
   "cell_type": "code",
   "execution_count": 26,
   "metadata": {
    "tags": []
   },
   "outputs": [],
   "source": [
    "X_train.drop(['PetalWidthCm'], axis=1,inplace=True)"
   ]
  },
  {
   "cell_type": "code",
   "execution_count": 27,
   "metadata": {
    "tags": []
   },
   "outputs": [],
   "source": [
    "X_train_new = X_train[[\"SepalLengthCm\",\"SepalWidthCm\",\"PetalLengthCm\"]]"
   ]
  },
  {
   "cell_type": "code",
   "execution_count": null,
   "metadata": {},
   "outputs": [],
   "source": [
    "12. Perform Univariate feature selection(SelectKBest, SelectPercentile)"
   ]
  },
  {
   "cell_type": "code",
   "execution_count": 29,
   "metadata": {
    "tags": []
   },
   "outputs": [
    {
     "name": "stdout",
     "output_type": "stream",
     "text": [
      "2 best features are: ['SepalLengthCm' 'PetalLengthCm']\n"
     ]
    }
   ],
   "source": [
    "k = 2\n",
    "selector = SelectKBest(k = k)\n",
    "selector.fit(X_train_new, Y_train)\n",
    "print(k, 'best features are:', selector.get_feature_names_out())"
   ]
  },
  {
   "cell_type": "code",
   "execution_count": 30,
   "metadata": {
    "tags": []
   },
   "outputs": [
    {
     "name": "stdout",
     "output_type": "stream",
     "text": [
      "Features in top 50 percentile are: ['PetalLengthCm']\n"
     ]
    }
   ],
   "source": [
    "p = 50\n",
    "selector = SelectPercentile(percentile = p)\n",
    "selector.fit(X_train_new,Y_train)\n",
    "print('Features in top', p, 'percentile are:', selector.get_feature_names_out())"
   ]
  },
  {
   "cell_type": "code",
   "execution_count": null,
   "metadata": {},
   "outputs": [],
   "source": [
    "13. Apply Pearson Correlation Coefficient/Spearman's rank coefficient and find Correlation-Matrix with Heatmap"
   ]
  },
  {
   "cell_type": "code",
   "execution_count": 31,
   "metadata": {
    "tags": []
   },
   "outputs": [
    {
     "name": "stdout",
     "output_type": "stream",
     "text": [
      "Pearson correlation\n"
     ]
    },
    {
     "data": {
      "image/png": "[encoded data removed]",
      "text/plain": [
       "<Figure size 640x480 with 2 Axes>"
      ]
     },
     "metadata": {},
     "output_type": "display_data"
    },
    {
     "name": "stdout",
     "output_type": "stream",
     "text": [
      "Spearman correlation\n"
     ]
    },
    {
     "data": {
      "image/png": "[encoded data removed]",
      "text/plain": [
       "<Figure size 640x480 with 2 Axes>"
      ]
     },
     "metadata": {},
     "output_type": "display_data"
    }
   ],
   "source": [
    "print('Pearson correlation')\n",
    "sns.heatmap(X_train_new.corr(numeric_only=True, method = 'pearson'))\n",
    "plt.show()\n",
    "print('Spearman correlation')\n",
    "sns.heatmap(X_train_new.corr(numeric_only=True, method = 'spearman'))\n",
    "plt.show()"
   ]
  },
  {
   "cell_type": "code",
   "execution_count": null,
   "metadata": {},
   "outputs": [],
   "source": [
    "14. Apply Principal Component Analysis(PCA) for matrix factorization"
   ]
  },
  {
   "cell_type": "code",
   "execution_count": 32,
   "metadata": {
    "tags": []
   },
   "outputs": [
    {
     "name": "stdout",
     "output_type": "stream",
     "text": [
      "(101, 3)\n",
      "Top 3 features are:\n",
      "Index(['SepalLengthCm', 'PetalLengthCm', 'SepalWidthCm'], dtype='object')\n"
     ]
    },
    {
     "name": "stderr",
     "output_type": "stream",
     "text": [
      "C:\\Users\\mehra\\AppData\\Local\\Temp\\ipykernel_2964\\2059238613.py:4: SettingWithCopyWarning: \n",
      "A value is trying to be set on a copy of a slice from a DataFrame.\n",
      "Try using .loc[row_indexer,col_indexer] = value instead\n",
      "\n",
      "See the caveats in the documentation: https://pandas.pydata.org/pandas-docs/stable/user_guide/indexing.html#returning-a-view-versus-a-copy\n",
      "  pca_x[:] = scaler.fit_transform(pca_x)\n",
      "C:\\Users\\mehra\\AppData\\Local\\Temp\\ipykernel_2964\\2059238613.py:4: SettingWithCopyWarning: \n",
      "A value is trying to be set on a copy of a slice from a DataFrame\n",
      "\n",
      "See the caveats in the documentation: https://pandas.pydata.org/pandas-docs/stable/user_guide/indexing.html#returning-a-view-versus-a-copy\n",
      "  pca_x[:] = scaler.fit_transform(pca_x)\n"
     ]
    }
   ],
   "source": [
    "pca_x = X_train_new\n",
    "print(pca_x.shape)\n",
    "scaler = StandardScaler()\n",
    "pca_x[:] = scaler.fit_transform(pca_x)\n",
    "s = pca_x.cov()\n",
    "eg_val, eg_vect = np.linalg.eig(s)\n",
    "eg_vect = pd.DataFrame(eg_vect, columns = s.columns).set_index(s.index)\n",
    "eg_vect['EigenValue'] = eg_val\n",
    "top_n = 3\n",
    "top_vectors = eg_vect.sort_values(by = 'EigenValue', ascending = False).head(top_n)\n",
    "print('Top', top_n, 'features are:')\n",
    "print(top_vectors.index)"
   ]
  },
  {
   "cell_type": "code",
   "execution_count": null,
   "metadata": {},
   "outputs": [],
   "source": [
    "15. Apply Linear Discriminant Analysis (LDA) to perform feature extraction"
   ]
  },
  {
   "cell_type": "code",
   "execution_count": 33,
   "metadata": {
    "tags": []
   },
   "outputs": [
    {
     "name": "stdout",
     "output_type": "stream",
     "text": [
      "Selected columns are: ['SepalLengthCm', 'SepalWidthCm']\n"
     ]
    }
   ],
   "source": [
    "def extract_num(s):\n",
    "    return int(s.strip('abcdefghijklmnopqrstuvwxyz'))\n",
    "numeric_cols = [\"SepalLengthCm\",\"SepalWidthCm\",\"PetalLengthCm\"]\n",
    "selector = LinearDiscriminantAnalysis()\n",
    "selector.fit(X_train_new, Y_train)\n",
    "col_inds = map(extract_num, selector.get_feature_names_out(numeric_cols))\n",
    "print('Selected columns are:', [numeric_cols[i] for i in col_inds])"
   ]
  },
  {
   "cell_type": "code",
   "execution_count": null,
   "metadata": {},
   "outputs": [],
   "source": []
  }
 ],
 "metadata": {
  "kernelspec": {
   "display_name": "Python 3 (ipykernel)",
   "language": "python",
   "name": "python3"
  },
  "language_info": {
   "codemirror_mode": {
    "name": "ipython",
    "version": 3
   },
   "file_extension": ".py",
   "mimetype": "text/x-python",
   "name": "python",
   "nbconvert_exporter": "python",
   "pygments_lexer": "ipython3",
   "version": "3.11.5"
  }
 },
 "nbformat": 4,
 "nbformat_minor": 4
}
