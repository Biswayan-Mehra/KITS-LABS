{
 "cells": [
  {
   "cell_type": "raw",
   "id": "c0e8ffa2-c627-4585-90b2-532bb9b6ef7e",
   "metadata": {},
   "source": [
    "URK21CS1004"
   ]
  },
  {
   "cell_type": "code",
   "execution_count": null,
   "id": "eb1536ac-6eea-4f8b-bb7c-c90549aa27ab",
   "metadata": {},
   "outputs": [],
   "source": [
    "AIM \n",
    "    To implement feature selection and feature extraction techniques on a given dataset."
   ]
  },
  {
   "cell_type": "code",
   "execution_count": null,
   "id": "ca1e30dd-da25-438b-8e46-ba0fc2b7afd7",
   "metadata": {},
   "outputs": [],
   "source": [
    "DESCRIPTION \n",
    "\n",
    "    FEATURE SELECTION: \n",
    "        Process of selecting a subset of relevant features from the original features \n",
    "        to reducemodel complexity, enhance the computational efficiency of the models \n",
    "        and reduce generalization error introduced dur to noise by irrelevant features. \n",
    "        \n",
    "    Methods: \n",
    "        Remove unused columns \n",
    "        Remove column with outlier \n",
    "        Remove features with missing values \n",
    "        Remove features with low variance \n",
    "        Remove uncorrelated features with target \n",
    "        Remove highly correlated features - Multicollinearity Univariate feature selection \n",
    "        Information gain-based feature selection \n",
    "        \n",
    "    Univariate Feature Selection \n",
    "    \n",
    "        1)Statistical tests can help to select independent features that \n",
    "        have the strongestrelationship with the target feature \n",
    "        2)The Scikit-learn library provides the SelectKBest class that can be \n",
    "        used with asuite of different statistical tests to select a specific number of features. \n",
    "        3)Information gain-based feature selection \n",
    "            It calculates mutual information value for each of independent variables respectto\n",
    "            dependent variable, and selects the ones which has most information gain. \n",
    "            It basically measures the dependency of features with the target value. \n",
    "    FEATURE EXTRACTION: \n",
    "        • Feature extraction refers to the process of transforming original features into a newset of features\n",
    "        that preserve the information in the original data set. \n",
    "                It yields better results than applying machine learning directly to the raw data. \n",
    "    Principal Component Analysis \n",
    "        o PCA is a dimensionality reduction technique that enables you to identify correlations and patterns in the\n",
    "        data set so that it can be transformed into a data set of significantly lower dimension without loss of important information. \n",
    "    Linear Discriminant Analysis \n",
    "        PCA is an unsupervised dimensionality reduction technique while LDA is a supervised dimensionality reduction technique. \n",
    "        PCA summarizes the feature set without relying on the output. \n",
    "        LDA tries to reduce dimensions of the feature set while retaining the information. \n",
    "    DATA REDUCTION: \n",
    "        Data reduction techniques can be applied to obtain a reduced representation of the data set that is much smaller in volume,\n",
    "        yet closely maintains the integrity of the original data. \n",
    "            • Dimensionality reduction, numerosity reduction, data compression. \n",
    "            • Feature selection and Feature extraction \n",
    "            • Drop missing values \n",
    "            • Drop the outliers \n",
    "            • Drop duplicates \n",
    "    DIMENSIONALITY REDUCTION: \n",
    "        Feature extraction refers to the process of transforming raw data into numerical features that can be processed while\n",
    "        preserving the information in the original data set. It yields better results than applying machine learning directly to the \n",
    "        raw data. One-Hot encoding – creates additional features based on the number of unique values in the categorical feature,\n",
    "        create dummy variables. \n",
    "        There are various methods to reduce the dimensionality of the data: \n",
    "            1. Feature Selection Methods: Using Correlation Coefficient Methods \n",
    "            2. Matrix Factorization: PCA \n",
    "            3. Manifold Learning: t-SNE \n",
    "            4. Auto Encoders \n",
    "    Correlation Coefficient Methods \n",
    "        Some of the datasets have a large number of features, and only some of these features are correlated with the target class \n",
    "        label. Feature selection techniques use scoring or statistical methods to select which features to keep and which features to delete. \n",
    "        Techniques or algorithms used to reduce dimensions by Correlation Coefficient Methods are: \n",
    "        1. Pearson Correlation Coefficient \n",
    "        2. Spearman Correlation Coefficient \n",
    "        3. Chi-Squared Test \n",
    "        4. Kendall Tau Test \n",
    "    Matrix Factorization: \n",
    "        Matrix Factorization methods can be used for dimension reduction. Principal Component Analysis (PCA) is a matrix factorization technique to reduce higher dimension data to lower dimensions. PCA preserves the direction with maximal variance. \n",
    "    Steps to follow for PCA: \n",
    "        Given dataset X of shape (n-rows, d-features) \n",
    "        Standardize the dataset X \n",
    "        Compute covariance matrix (S) \n",
    "        Find eigenvalues and eigenvector from the covariance matrix. \n",
    "        To pick top f features, pick the eigenvectors having corresponding top x largest eigenvalues. \n"
   ]
  },
  {
   "cell_type": "code",
   "execution_count": 37,
   "id": "5094abd7-ca56-4f63-81f7-0f389f82248d",
   "metadata": {
    "tags": []
   },
   "outputs": [],
   "source": [
    "import pandas as pd\n",
    "import numpy as np\n",
    "import matplotlib.pyplot as plt\n",
    "from sklearn.model_selection import train_test_split"
   ]
  },
  {
   "cell_type": "code",
   "execution_count": null,
   "id": "5bffe0e4-e60f-4484-a7b0-63ad109fd9af",
   "metadata": {},
   "outputs": [],
   "source": [
    "1) Read and analyze the data "
   ]
  },
  {
   "cell_type": "code",
   "execution_count": 38,
   "id": "18200a75-665c-4e53-88ed-af994da86de6",
   "metadata": {
    "tags": []
   },
   "outputs": [
    {
     "data": {
      "text/html": [
       "<div>\n",
       "<style scoped>\n",
       "    .dataframe tbody tr th:only-of-type {\n",
       "        vertical-align: middle;\n",
       "    }\n",
       "\n",
       "    .dataframe tbody tr th {\n",
       "        vertical-align: top;\n",
       "    }\n",
       "\n",
       "    .dataframe thead th {\n",
       "        text-align: right;\n",
       "    }\n",
       "</style>\n",
       "<table border=\"1\" class=\"dataframe\">\n",
       "  <thead>\n",
       "    <tr style=\"text-align: right;\">\n",
       "      <th></th>\n",
       "      <th>age</th>\n",
       "      <th>bmi</th>\n",
       "      <th>children</th>\n",
       "      <th>charges</th>\n",
       "    </tr>\n",
       "  </thead>\n",
       "  <tbody>\n",
       "    <tr>\n",
       "      <th>count</th>\n",
       "      <td>1338.000000</td>\n",
       "      <td>1338.000000</td>\n",
       "      <td>1338.000000</td>\n",
       "      <td>1338.000000</td>\n",
       "    </tr>\n",
       "    <tr>\n",
       "      <th>mean</th>\n",
       "      <td>39.207025</td>\n",
       "      <td>30.663397</td>\n",
       "      <td>1.094918</td>\n",
       "      <td>13270.422265</td>\n",
       "    </tr>\n",
       "    <tr>\n",
       "      <th>std</th>\n",
       "      <td>14.049960</td>\n",
       "      <td>6.098187</td>\n",
       "      <td>1.205493</td>\n",
       "      <td>12110.011237</td>\n",
       "    </tr>\n",
       "    <tr>\n",
       "      <th>min</th>\n",
       "      <td>18.000000</td>\n",
       "      <td>15.960000</td>\n",
       "      <td>0.000000</td>\n",
       "      <td>1121.873900</td>\n",
       "    </tr>\n",
       "    <tr>\n",
       "      <th>25%</th>\n",
       "      <td>27.000000</td>\n",
       "      <td>26.296250</td>\n",
       "      <td>0.000000</td>\n",
       "      <td>4740.287150</td>\n",
       "    </tr>\n",
       "    <tr>\n",
       "      <th>50%</th>\n",
       "      <td>39.000000</td>\n",
       "      <td>30.400000</td>\n",
       "      <td>1.000000</td>\n",
       "      <td>9382.033000</td>\n",
       "    </tr>\n",
       "    <tr>\n",
       "      <th>75%</th>\n",
       "      <td>51.000000</td>\n",
       "      <td>34.693750</td>\n",
       "      <td>2.000000</td>\n",
       "      <td>16639.912515</td>\n",
       "    </tr>\n",
       "    <tr>\n",
       "      <th>max</th>\n",
       "      <td>64.000000</td>\n",
       "      <td>53.130000</td>\n",
       "      <td>5.000000</td>\n",
       "      <td>63770.428010</td>\n",
       "    </tr>\n",
       "  </tbody>\n",
       "</table>\n",
       "</div>"
      ],
      "text/plain": [
       "               age          bmi     children       charges\n",
       "count  1338.000000  1338.000000  1338.000000   1338.000000\n",
       "mean     39.207025    30.663397     1.094918  13270.422265\n",
       "std      14.049960     6.098187     1.205493  12110.011237\n",
       "min      18.000000    15.960000     0.000000   1121.873900\n",
       "25%      27.000000    26.296250     0.000000   4740.287150\n",
       "50%      39.000000    30.400000     1.000000   9382.033000\n",
       "75%      51.000000    34.693750     2.000000  16639.912515\n",
       "max      64.000000    53.130000     5.000000  63770.428010"
      ]
     },
     "execution_count": 38,
     "metadata": {},
     "output_type": "execute_result"
    }
   ],
   "source": [
    "df=pd.read_csv(\"insurance.csv\")\n",
    "df.describe()"
   ]
  },
  {
   "cell_type": "code",
   "execution_count": null,
   "id": "1222af67-0b7e-4cdd-8ca5-0d1bc3958be7",
   "metadata": {},
   "outputs": [],
   "source": [
    "2) Split the dataset into train and test sets"
   ]
  },
  {
   "cell_type": "code",
   "execution_count": 39,
   "id": "54757d95-11a0-488c-a1f8-9fa0e0fc9eba",
   "metadata": {
    "tags": []
   },
   "outputs": [],
   "source": [
    "y=df[\"smoker\"]\n",
    "x=df.loc[:,df.columns!='smoker']\n",
    "x_train,x_test,y_train,y_test=train_test_split(x,y,train_size=0.75)"
   ]
  },
  {
   "cell_type": "code",
   "execution_count": null,
   "id": "1b35bd9c-7c31-4566-9b39-0e2726b74051",
   "metadata": {},
   "outputs": [],
   "source": [
    "3) check shape of training and test sets"
   ]
  },
  {
   "cell_type": "code",
   "execution_count": 40,
   "id": "10b26920-d61f-4c70-8143-be3b5db7c9c7",
   "metadata": {
    "tags": []
   },
   "outputs": [
    {
     "name": "stdout",
     "output_type": "stream",
     "text": [
      "shape for train set (1003, 6) (1003,)\n",
      "shape for test set (335, 6) (335,)\n"
     ]
    }
   ],
   "source": [
    "print('shape for train set',x_train.shape,y_train.shape)\n",
    "print('shape for test set',x_test.shape,y_test.shape)"
   ]
  },
  {
   "cell_type": "code",
   "execution_count": null,
   "id": "02a0a793-1f22-467e-a361-8f6609b29ac1",
   "metadata": {},
   "outputs": [],
   "source": [
    "4) Perform scaling in the data using Standard Scalar"
   ]
  },
  {
   "cell_type": "code",
   "execution_count": 41,
   "id": "b65bdbb7-3635-465a-b773-0d77e03c72a9",
   "metadata": {
    "tags": []
   },
   "outputs": [],
   "source": [
    "from sklearn.preprocessing import StandardScaler\n",
    "scaler=StandardScaler()\n",
    "numeric_cols=[\"age\",\"bmi\",\"children\",\"charges\"]\n",
    "x_train[numeric_cols] = scaler.fit_transform(x_train[numeric_cols])\n",
    "x_test[numeric_cols] = scaler.transform(x_test[numeric_cols])"
   ]
  },
  {
   "cell_type": "code",
   "execution_count": null,
   "id": "89c03e12-cb14-4d86-ad90-b8e5d1345695",
   "metadata": {},
   "outputs": [],
   "source": [
    "5) Calculate the % of missing values in a column"
   ]
  },
  {
   "cell_type": "code",
   "execution_count": 42,
   "id": "bc678a5c-8184-42ef-9b9c-169847fa0db2",
   "metadata": {
    "tags": []
   },
   "outputs": [
    {
     "name": "stdout",
     "output_type": "stream",
     "text": [
      "Percent of missing values per column:\n"
     ]
    },
    {
     "data": {
      "text/plain": [
       "age         0.0\n",
       "sex         0.0\n",
       "bmi         0.0\n",
       "children    0.0\n",
       "smoker      0.0\n",
       "region      0.0\n",
       "charges     0.0\n",
       "dtype: float64"
      ]
     },
     "execution_count": 42,
     "metadata": {},
     "output_type": "execute_result"
    }
   ],
   "source": [
    "print('Percent of missing values per column:')\n",
    "100 - ((df.count() / df.shape[0]) * 100)"
   ]
  },
  {
   "cell_type": "code",
   "execution_count": null,
   "id": "f2589925-f840-417b-828a-b90191b0e722",
   "metadata": {},
   "outputs": [],
   "source": [
    "6) Remove features with missing values (&gt;20%) "
   ]
  },
  {
   "cell_type": "code",
   "execution_count": 43,
   "id": "447001be-0606-48fd-aa03-f5a4548e4a56",
   "metadata": {
    "tags": []
   },
   "outputs": [],
   "source": [
    "missing_vals = 100 - ((df.count() / df.shape[0]) * 100)\n",
    "df.drop(columns = df.columns[missing_vals > 20], inplace=True)"
   ]
  },
  {
   "cell_type": "code",
   "execution_count": null,
   "id": "d8a9e6da-8a3e-451c-a321-6a948eaa0e88",
   "metadata": {},
   "outputs": [],
   "source": [
    "7)If the missing values is &lt;20%,do data imputation(mean/median)"
   ]
  },
  {
   "cell_type": "code",
   "execution_count": 44,
   "id": "0953b371-96bb-42dc-8fb0-a58b1bc60529",
   "metadata": {
    "tags": []
   },
   "outputs": [
    {
     "name": "stdout",
     "output_type": "stream",
     "text": [
      "Percent of missing values per column:\n"
     ]
    },
    {
     "data": {
      "text/plain": [
       "age         0.0\n",
       "sex         0.0\n",
       "bmi         0.0\n",
       "children    0.0\n",
       "smoker      0.0\n",
       "region      0.0\n",
       "charges     0.0\n",
       "dtype: float64"
      ]
     },
     "execution_count": 44,
     "metadata": {},
     "output_type": "execute_result"
    }
   ],
   "source": [
    "cols_lt_20_nan = df.columns[(missing_vals > 0) & (missing_vals < 20)]\n",
    "df[cols_lt_20_nan] = df[cols_lt_20_nan].fillna(value = df[cols_lt_20_nan].mean())\n",
    "print('Percent of missing values per column:')\n",
    "100 - ((df.count() / df.shape[0]) * 100)"
   ]
  },
  {
   "cell_type": "code",
   "execution_count": null,
   "id": "0fcf78d9-b894-43eb-81d4-fe7a9408aced",
   "metadata": {},
   "outputs": [],
   "source": [
    "8) Remove the outliers"
   ]
  },
  {
   "cell_type": "code",
   "execution_count": 45,
   "id": "3d5511a2-f1ef-49c2-98ce-4e092a114bc9",
   "metadata": {
    "tags": []
   },
   "outputs": [
    {
     "data": {
      "text/html": [
       "<div>\n",
       "<style scoped>\n",
       "    .dataframe tbody tr th:only-of-type {\n",
       "        vertical-align: middle;\n",
       "    }\n",
       "\n",
       "    .dataframe tbody tr th {\n",
       "        vertical-align: top;\n",
       "    }\n",
       "\n",
       "    .dataframe thead th {\n",
       "        text-align: right;\n",
       "    }\n",
       "</style>\n",
       "<table border=\"1\" class=\"dataframe\">\n",
       "  <thead>\n",
       "    <tr style=\"text-align: right;\">\n",
       "      <th></th>\n",
       "      <th>age</th>\n",
       "      <th>sex</th>\n",
       "      <th>bmi</th>\n",
       "      <th>children</th>\n",
       "      <th>smoker</th>\n",
       "      <th>region</th>\n",
       "      <th>charges</th>\n",
       "    </tr>\n",
       "  </thead>\n",
       "  <tbody>\n",
       "    <tr>\n",
       "      <th>0</th>\n",
       "      <td>19</td>\n",
       "      <td>female</td>\n",
       "      <td>27.900</td>\n",
       "      <td>0</td>\n",
       "      <td>yes</td>\n",
       "      <td>southwest</td>\n",
       "      <td>16884.92400</td>\n",
       "    </tr>\n",
       "    <tr>\n",
       "      <th>1</th>\n",
       "      <td>18</td>\n",
       "      <td>male</td>\n",
       "      <td>33.770</td>\n",
       "      <td>1</td>\n",
       "      <td>no</td>\n",
       "      <td>southeast</td>\n",
       "      <td>1725.55230</td>\n",
       "    </tr>\n",
       "    <tr>\n",
       "      <th>2</th>\n",
       "      <td>28</td>\n",
       "      <td>male</td>\n",
       "      <td>33.000</td>\n",
       "      <td>3</td>\n",
       "      <td>no</td>\n",
       "      <td>southeast</td>\n",
       "      <td>4449.46200</td>\n",
       "    </tr>\n",
       "    <tr>\n",
       "      <th>3</th>\n",
       "      <td>33</td>\n",
       "      <td>male</td>\n",
       "      <td>22.705</td>\n",
       "      <td>0</td>\n",
       "      <td>no</td>\n",
       "      <td>northwest</td>\n",
       "      <td>21984.47061</td>\n",
       "    </tr>\n",
       "    <tr>\n",
       "      <th>4</th>\n",
       "      <td>32</td>\n",
       "      <td>male</td>\n",
       "      <td>28.880</td>\n",
       "      <td>0</td>\n",
       "      <td>no</td>\n",
       "      <td>northwest</td>\n",
       "      <td>3866.85520</td>\n",
       "    </tr>\n",
       "  </tbody>\n",
       "</table>\n",
       "</div>"
      ],
      "text/plain": [
       "   age     sex     bmi  children smoker     region      charges\n",
       "0   19  female  27.900         0    yes  southwest  16884.92400\n",
       "1   18    male  33.770         1     no  southeast   1725.55230\n",
       "2   28    male  33.000         3     no  southeast   4449.46200\n",
       "3   33    male  22.705         0     no  northwest  21984.47061\n",
       "4   32    male  28.880         0     no  northwest   3866.85520"
      ]
     },
     "execution_count": 45,
     "metadata": {},
     "output_type": "execute_result"
    }
   ],
   "source": [
    "from scipy.stats import zscore\n",
    "zscores = np.abs(zscore(df[numeric_cols]))\n",
    "df = df[(zscores <= 3).all(axis  = 1)]\n",
    "df.head()"
   ]
  },
  {
   "cell_type": "code",
   "execution_count": null,
   "id": "d290c1f8-a9e5-459c-8421-4ac693c688a1",
   "metadata": {},
   "outputs": [],
   "source": [
    "9) Use sklearn variancethreshold to find the constant features and display the constant features"
   ]
  },
  {
   "cell_type": "code",
   "execution_count": 46,
   "id": "e0a968d4-21c7-4717-9db6-12062c2b125d",
   "metadata": {
    "tags": []
   },
   "outputs": [
    {
     "name": "stdout",
     "output_type": "stream",
     "text": [
      "The constant columns are: \n",
      "['Constant_col']\n"
     ]
    }
   ],
   "source": [
    "df_copy = df.copy()\n",
    "new_col = np.empty(df_copy.shape[0])\n",
    "new_col.fill(5)\n",
    "df_copy['Constant_col'] = new_col\n",
    "copy_numeric = df_copy[numeric_cols + ['Constant_col']]\n",
    "from sklearn.feature_selection import VarianceThreshold\n",
    "selector = VarianceThreshold()\n",
    "selector.fit_transform(copy_numeric)\n",
    "print('The constant columns are: ')\n",
    "cols = np.setdiff1d(copy_numeric.columns, copy_numeric.columns[selector.get_support(indices=True)])\n",
    "print(cols)"
   ]
  },
  {
   "cell_type": "code",
   "execution_count": null,
   "id": "b68aef68-8383-4f8e-a0d3-cab87d755097",
   "metadata": {},
   "outputs": [],
   "source": [
    "10)Remove features with low variance "
   ]
  },
  {
   "cell_type": "code",
   "execution_count": 47,
   "id": "a8c730cd-3d1b-48ab-8b69-c5447471a0b2",
   "metadata": {
    "tags": []
   },
   "outputs": [
    {
     "data": {
      "text/html": [
       "<div>\n",
       "<style scoped>\n",
       "    .dataframe tbody tr th:only-of-type {\n",
       "        vertical-align: middle;\n",
       "    }\n",
       "\n",
       "    .dataframe tbody tr th {\n",
       "        vertical-align: top;\n",
       "    }\n",
       "\n",
       "    .dataframe thead th {\n",
       "        text-align: right;\n",
       "    }\n",
       "</style>\n",
       "<table border=\"1\" class=\"dataframe\">\n",
       "  <thead>\n",
       "    <tr style=\"text-align: right;\">\n",
       "      <th></th>\n",
       "      <th>age</th>\n",
       "      <th>sex</th>\n",
       "      <th>bmi</th>\n",
       "      <th>children</th>\n",
       "      <th>smoker</th>\n",
       "      <th>region</th>\n",
       "      <th>charges</th>\n",
       "    </tr>\n",
       "  </thead>\n",
       "  <tbody>\n",
       "    <tr>\n",
       "      <th>0</th>\n",
       "      <td>19</td>\n",
       "      <td>female</td>\n",
       "      <td>27.900</td>\n",
       "      <td>0</td>\n",
       "      <td>yes</td>\n",
       "      <td>southwest</td>\n",
       "      <td>16884.92400</td>\n",
       "    </tr>\n",
       "    <tr>\n",
       "      <th>1</th>\n",
       "      <td>18</td>\n",
       "      <td>male</td>\n",
       "      <td>33.770</td>\n",
       "      <td>1</td>\n",
       "      <td>no</td>\n",
       "      <td>southeast</td>\n",
       "      <td>1725.55230</td>\n",
       "    </tr>\n",
       "    <tr>\n",
       "      <th>2</th>\n",
       "      <td>28</td>\n",
       "      <td>male</td>\n",
       "      <td>33.000</td>\n",
       "      <td>3</td>\n",
       "      <td>no</td>\n",
       "      <td>southeast</td>\n",
       "      <td>4449.46200</td>\n",
       "    </tr>\n",
       "    <tr>\n",
       "      <th>3</th>\n",
       "      <td>33</td>\n",
       "      <td>male</td>\n",
       "      <td>22.705</td>\n",
       "      <td>0</td>\n",
       "      <td>no</td>\n",
       "      <td>northwest</td>\n",
       "      <td>21984.47061</td>\n",
       "    </tr>\n",
       "    <tr>\n",
       "      <th>4</th>\n",
       "      <td>32</td>\n",
       "      <td>male</td>\n",
       "      <td>28.880</td>\n",
       "      <td>0</td>\n",
       "      <td>no</td>\n",
       "      <td>northwest</td>\n",
       "      <td>3866.85520</td>\n",
       "    </tr>\n",
       "  </tbody>\n",
       "</table>\n",
       "</div>"
      ],
      "text/plain": [
       "   age     sex     bmi  children smoker     region      charges\n",
       "0   19  female  27.900         0    yes  southwest  16884.92400\n",
       "1   18    male  33.770         1     no  southeast   1725.55230\n",
       "2   28    male  33.000         3     no  southeast   4449.46200\n",
       "3   33    male  22.705         0     no  northwest  21984.47061\n",
       "4   32    male  28.880         0     no  northwest   3866.85520"
      ]
     },
     "execution_count": 47,
     "metadata": {},
     "output_type": "execute_result"
    }
   ],
   "source": [
    "df_copy.drop(columns = cols, inplace = True)\n",
    "df_copy.head(5)"
   ]
  },
  {
   "cell_type": "code",
   "execution_count": null,
   "id": "7ae38c17-307d-4854-8207-a1981d65c9e1",
   "metadata": {},
   "outputs": [],
   "source": [
    "11)Remove highly correlated features "
   ]
  },
  {
   "cell_type": "code",
   "execution_count": 48,
   "id": "06cf6dc3-f10b-4250-9fa8-eef65addd0a6",
   "metadata": {
    "tags": []
   },
   "outputs": [
    {
     "name": "stdout",
     "output_type": "stream",
     "text": [
      "There are no columns with high correlation\n"
     ]
    },
    {
     "ename": "ValueError",
     "evalue": "could not convert string to float: 'female'",
     "output_type": "error",
     "traceback": [
      "\u001b[1;31m---------------------------------------------------------------------------\u001b[0m",
      "\u001b[1;31mValueError\u001b[0m                                Traceback (most recent call last)",
      "Cell \u001b[1;32mIn[48], line 2\u001b[0m\n\u001b[0;32m      1\u001b[0m \u001b[38;5;28mprint\u001b[39m(\u001b[38;5;124m\"\u001b[39m\u001b[38;5;124mThere are no columns with high correlation\u001b[39m\u001b[38;5;124m\"\u001b[39m)\n\u001b[1;32m----> 2\u001b[0m (np\u001b[38;5;241m.\u001b[39mabs(df\u001b[38;5;241m.\u001b[39mcorr()) \u001b[38;5;241m>\u001b[39m \u001b[38;5;241m0.7\u001b[39m)\n",
      "File \u001b[1;32m~\\anaconda3\\Lib\\site-packages\\pandas\\core\\frame.py:10704\u001b[0m, in \u001b[0;36mDataFrame.corr\u001b[1;34m(self, method, min_periods, numeric_only)\u001b[0m\n\u001b[0;32m  10702\u001b[0m cols \u001b[38;5;241m=\u001b[39m data\u001b[38;5;241m.\u001b[39mcolumns\n\u001b[0;32m  10703\u001b[0m idx \u001b[38;5;241m=\u001b[39m cols\u001b[38;5;241m.\u001b[39mcopy()\n\u001b[1;32m> 10704\u001b[0m mat \u001b[38;5;241m=\u001b[39m data\u001b[38;5;241m.\u001b[39mto_numpy(dtype\u001b[38;5;241m=\u001b[39m\u001b[38;5;28mfloat\u001b[39m, na_value\u001b[38;5;241m=\u001b[39mnp\u001b[38;5;241m.\u001b[39mnan, copy\u001b[38;5;241m=\u001b[39m\u001b[38;5;28;01mFalse\u001b[39;00m)\n\u001b[0;32m  10706\u001b[0m \u001b[38;5;28;01mif\u001b[39;00m method \u001b[38;5;241m==\u001b[39m \u001b[38;5;124m\"\u001b[39m\u001b[38;5;124mpearson\u001b[39m\u001b[38;5;124m\"\u001b[39m:\n\u001b[0;32m  10707\u001b[0m     correl \u001b[38;5;241m=\u001b[39m libalgos\u001b[38;5;241m.\u001b[39mnancorr(mat, minp\u001b[38;5;241m=\u001b[39mmin_periods)\n",
      "File \u001b[1;32m~\\anaconda3\\Lib\\site-packages\\pandas\\core\\frame.py:1889\u001b[0m, in \u001b[0;36mDataFrame.to_numpy\u001b[1;34m(self, dtype, copy, na_value)\u001b[0m\n\u001b[0;32m   1887\u001b[0m \u001b[38;5;28;01mif\u001b[39;00m dtype \u001b[38;5;129;01mis\u001b[39;00m \u001b[38;5;129;01mnot\u001b[39;00m \u001b[38;5;28;01mNone\u001b[39;00m:\n\u001b[0;32m   1888\u001b[0m     dtype \u001b[38;5;241m=\u001b[39m np\u001b[38;5;241m.\u001b[39mdtype(dtype)\n\u001b[1;32m-> 1889\u001b[0m result \u001b[38;5;241m=\u001b[39m \u001b[38;5;28mself\u001b[39m\u001b[38;5;241m.\u001b[39m_mgr\u001b[38;5;241m.\u001b[39mas_array(dtype\u001b[38;5;241m=\u001b[39mdtype, copy\u001b[38;5;241m=\u001b[39mcopy, na_value\u001b[38;5;241m=\u001b[39mna_value)\n\u001b[0;32m   1890\u001b[0m \u001b[38;5;28;01mif\u001b[39;00m result\u001b[38;5;241m.\u001b[39mdtype \u001b[38;5;129;01mis\u001b[39;00m \u001b[38;5;129;01mnot\u001b[39;00m dtype:\n\u001b[0;32m   1891\u001b[0m     result \u001b[38;5;241m=\u001b[39m np\u001b[38;5;241m.\u001b[39marray(result, dtype\u001b[38;5;241m=\u001b[39mdtype, copy\u001b[38;5;241m=\u001b[39m\u001b[38;5;28;01mFalse\u001b[39;00m)\n",
      "File \u001b[1;32m~\\anaconda3\\Lib\\site-packages\\pandas\\core\\internals\\managers.py:1656\u001b[0m, in \u001b[0;36mBlockManager.as_array\u001b[1;34m(self, dtype, copy, na_value)\u001b[0m\n\u001b[0;32m   1654\u001b[0m         arr\u001b[38;5;241m.\u001b[39mflags\u001b[38;5;241m.\u001b[39mwriteable \u001b[38;5;241m=\u001b[39m \u001b[38;5;28;01mFalse\u001b[39;00m\n\u001b[0;32m   1655\u001b[0m \u001b[38;5;28;01melse\u001b[39;00m:\n\u001b[1;32m-> 1656\u001b[0m     arr \u001b[38;5;241m=\u001b[39m \u001b[38;5;28mself\u001b[39m\u001b[38;5;241m.\u001b[39m_interleave(dtype\u001b[38;5;241m=\u001b[39mdtype, na_value\u001b[38;5;241m=\u001b[39mna_value)\n\u001b[0;32m   1657\u001b[0m     \u001b[38;5;66;03m# The underlying data was copied within _interleave, so no need\u001b[39;00m\n\u001b[0;32m   1658\u001b[0m     \u001b[38;5;66;03m# to further copy if copy=True or setting na_value\u001b[39;00m\n\u001b[0;32m   1660\u001b[0m \u001b[38;5;28;01mif\u001b[39;00m na_value \u001b[38;5;129;01mis\u001b[39;00m lib\u001b[38;5;241m.\u001b[39mno_default:\n",
      "File \u001b[1;32m~\\anaconda3\\Lib\\site-packages\\pandas\\core\\internals\\managers.py:1715\u001b[0m, in \u001b[0;36mBlockManager._interleave\u001b[1;34m(self, dtype, na_value)\u001b[0m\n\u001b[0;32m   1713\u001b[0m     \u001b[38;5;28;01melse\u001b[39;00m:\n\u001b[0;32m   1714\u001b[0m         arr \u001b[38;5;241m=\u001b[39m blk\u001b[38;5;241m.\u001b[39mget_values(dtype)\n\u001b[1;32m-> 1715\u001b[0m     result[rl\u001b[38;5;241m.\u001b[39mindexer] \u001b[38;5;241m=\u001b[39m arr\n\u001b[0;32m   1716\u001b[0m     itemmask[rl\u001b[38;5;241m.\u001b[39mindexer] \u001b[38;5;241m=\u001b[39m \u001b[38;5;241m1\u001b[39m\n\u001b[0;32m   1718\u001b[0m \u001b[38;5;28;01mif\u001b[39;00m \u001b[38;5;129;01mnot\u001b[39;00m itemmask\u001b[38;5;241m.\u001b[39mall():\n",
      "\u001b[1;31mValueError\u001b[0m: could not convert string to float: 'female'"
     ]
    }
   ],
   "source": [
    "print(\"There are no columns with high correlation\")\n",
    "(np.abs(df.corr()) > 0.7)"
   ]
  },
  {
   "cell_type": "code",
   "execution_count": null,
   "id": "a3992b8d-dad5-4496-b7cf-56a611a8dd8e",
   "metadata": {},
   "outputs": [],
   "source": [
    "12) Perform Univariate feature selection(SelectKBest, SelectPercentile)"
   ]
  },
  {
   "cell_type": "code",
   "execution_count": 49,
   "id": "8894899f-69a8-490c-ae85-f74d98881804",
   "metadata": {
    "tags": []
   },
   "outputs": [
    {
     "name": "stdout",
     "output_type": "stream",
     "text": [
      "3 best features are: ['age' 'children' 'charges']\n",
      "Features in top 50 percentile are: ['age' 'charges']\n"
     ]
    }
   ],
   "source": [
    "from sklearn.feature_selection import SelectKBest, SelectPercentile\n",
    "y = df['smoker']\n",
    "x = df.loc[:, df.columns != 'smoker']\n",
    "k = 3\n",
    "selector = SelectKBest(k = k)\n",
    "selector.fit(x[numeric_cols], y)\n",
    "print(k, 'best features are:', selector.get_feature_names_out())\n",
    "p = 50\n",
    "selector = SelectPercentile(percentile = p)\n",
    "selector.fit(x[numeric_cols], y)\n",
    "print('Features in top', p, 'percentile are:', selector.get_feature_names_out())"
   ]
  },
  {
   "cell_type": "code",
   "execution_count": null,
   "id": "01dc5c91-5d59-46dc-b724-edf7e3c8de66",
   "metadata": {},
   "outputs": [],
   "source": [
    "13)Apply Pearson Correlation Coefficient/Spearmans rank coefficient and find Correlation-Matrix with Heatmap "
   ]
  },
  {
   "cell_type": "code",
   "execution_count": 50,
   "id": "26827110-a646-4164-bdd3-a8999065303d",
   "metadata": {
    "tags": []
   },
   "outputs": [
    {
     "name": "stdout",
     "output_type": "stream",
     "text": [
      "Pearson correlation\n"
     ]
    },
    {
     "data": {
      "image/png": "[encoded data removed]",
      "text/plain": [
       "<Figure size 640x480 with 2 Axes>"
      ]
     },
     "metadata": {},
     "output_type": "display_data"
    }
   ],
   "source": [
    "import seaborn as sns\n",
    "print('Pearson correlation')\n",
    "sns.heatmap(df.corr(numeric_only=True, method = 'pearson'),annot=True)\n",
    "plt.show()"
   ]
  },
  {
   "cell_type": "code",
   "execution_count": 51,
   "id": "07dce81e-166a-44ca-829b-7776fc10964d",
   "metadata": {
    "tags": []
   },
   "outputs": [
    {
     "name": "stdout",
     "output_type": "stream",
     "text": [
      "Spearman correlation\n"
     ]
    },
    {
     "data": {
      "image/png": "[encoded data removed]",
      "text/plain": [
       "<Figure size 640x480 with 2 Axes>"
      ]
     },
     "metadata": {},
     "output_type": "display_data"
    }
   ],
   "source": [
    "print('Spearman correlation')\n",
    "sns.heatmap(df.corr(numeric_only=True, method = 'spearman'),annot=True)\n",
    "plt.show()"
   ]
  },
  {
   "cell_type": "code",
   "execution_count": null,
   "id": "649d7a1e-203c-478c-9e8e-db23243cecf7",
   "metadata": {},
   "outputs": [],
   "source": [
    "14) Apply Principal Component Analysis (PCA) for matrix factorization "
   ]
  },
  {
   "cell_type": "code",
   "execution_count": 52,
   "id": "6348afd1-574a-47cf-81fd-23415a5fe3ac",
   "metadata": {
    "tags": []
   },
   "outputs": [
    {
     "name": "stdout",
     "output_type": "stream",
     "text": [
      "(1309, 4)\n"
     ]
    },
    {
     "name": "stderr",
     "output_type": "stream",
     "text": [
      "C:\\Users\\mehra\\AppData\\Local\\Temp\\ipykernel_5676\\1913622300.py:4: SettingWithCopyWarning: \n",
      "A value is trying to be set on a copy of a slice from a DataFrame.\n",
      "Try using .loc[row_indexer,col_indexer] = value instead\n",
      "\n",
      "See the caveats in the documentation: https://pandas.pydata.org/pandas-docs/stable/user_guide/indexing.html#returning-a-view-versus-a-copy\n",
      "  pca_x[:] = scaler.fit_transform(pca_x)\n"
     ]
    }
   ],
   "source": [
    "pca_x = x[numeric_cols]\n",
    "print(pca_x.shape)\n",
    "scaler = StandardScaler()\n",
    "pca_x[:] = scaler.fit_transform(pca_x)"
   ]
  },
  {
   "cell_type": "code",
   "execution_count": 53,
   "id": "6edc1acd-96fc-4ced-a505-c7cf6a18894e",
   "metadata": {
    "tags": []
   },
   "outputs": [
    {
     "data": {
      "text/html": [
       "<div>\n",
       "<style scoped>\n",
       "    .dataframe tbody tr th:only-of-type {\n",
       "        vertical-align: middle;\n",
       "    }\n",
       "\n",
       "    .dataframe tbody tr th {\n",
       "        vertical-align: top;\n",
       "    }\n",
       "\n",
       "    .dataframe thead th {\n",
       "        text-align: right;\n",
       "    }\n",
       "</style>\n",
       "<table border=\"1\" class=\"dataframe\">\n",
       "  <thead>\n",
       "    <tr style=\"text-align: right;\">\n",
       "      <th></th>\n",
       "      <th>age</th>\n",
       "      <th>bmi</th>\n",
       "      <th>children</th>\n",
       "      <th>charges</th>\n",
       "    </tr>\n",
       "  </thead>\n",
       "  <tbody>\n",
       "    <tr>\n",
       "      <th>age</th>\n",
       "      <td>1.000765</td>\n",
       "      <td>0.118268</td>\n",
       "      <td>0.059145</td>\n",
       "      <td>0.305496</td>\n",
       "    </tr>\n",
       "    <tr>\n",
       "      <th>bmi</th>\n",
       "      <td>0.118268</td>\n",
       "      <td>1.000765</td>\n",
       "      <td>0.029939</td>\n",
       "      <td>0.191599</td>\n",
       "    </tr>\n",
       "    <tr>\n",
       "      <th>children</th>\n",
       "      <td>0.059145</td>\n",
       "      <td>0.029939</td>\n",
       "      <td>1.000765</td>\n",
       "      <td>0.100515</td>\n",
       "    </tr>\n",
       "    <tr>\n",
       "      <th>charges</th>\n",
       "      <td>0.305496</td>\n",
       "      <td>0.191599</td>\n",
       "      <td>0.100515</td>\n",
       "      <td>1.000765</td>\n",
       "    </tr>\n",
       "  </tbody>\n",
       "</table>\n",
       "</div>"
      ],
      "text/plain": [
       "               age       bmi  children   charges\n",
       "age       1.000765  0.118268  0.059145  0.305496\n",
       "bmi       0.118268  1.000765  0.029939  0.191599\n",
       "children  0.059145  0.029939  1.000765  0.100515\n",
       "charges   0.305496  0.191599  0.100515  1.000765"
      ]
     },
     "execution_count": 53,
     "metadata": {},
     "output_type": "execute_result"
    }
   ],
   "source": [
    "s = pca_x.cov()\n",
    "s"
   ]
  },
  {
   "cell_type": "code",
   "execution_count": 54,
   "id": "e97d9f77-266d-4bfa-b4b9-eb170ae167af",
   "metadata": {
    "tags": []
   },
   "outputs": [
    {
     "data": {
      "text/html": [
       "<div>\n",
       "<style scoped>\n",
       "    .dataframe tbody tr th:only-of-type {\n",
       "        vertical-align: middle;\n",
       "    }\n",
       "\n",
       "    .dataframe tbody tr th {\n",
       "        vertical-align: top;\n",
       "    }\n",
       "\n",
       "    .dataframe thead th {\n",
       "        text-align: right;\n",
       "    }\n",
       "</style>\n",
       "<table border=\"1\" class=\"dataframe\">\n",
       "  <thead>\n",
       "    <tr style=\"text-align: right;\">\n",
       "      <th></th>\n",
       "      <th>age</th>\n",
       "      <th>bmi</th>\n",
       "      <th>children</th>\n",
       "      <th>charges</th>\n",
       "      <th>EigenValue</th>\n",
       "    </tr>\n",
       "  </thead>\n",
       "  <tbody>\n",
       "    <tr>\n",
       "      <th>age</th>\n",
       "      <td>0.581195</td>\n",
       "      <td>0.619362</td>\n",
       "      <td>0.518312</td>\n",
       "      <td>-0.099778</td>\n",
       "      <td>1.450803+0.000000j</td>\n",
       "    </tr>\n",
       "    <tr>\n",
       "      <th>bmi</th>\n",
       "      <td>0.440671</td>\n",
       "      <td>0.210507</td>\n",
       "      <td>-0.808767</td>\n",
       "      <td>-0.327706</td>\n",
       "      <td>0.680929+0.000000j</td>\n",
       "    </tr>\n",
       "    <tr>\n",
       "      <th>children</th>\n",
       "      <td>0.248093</td>\n",
       "      <td>0.101318</td>\n",
       "      <td>-0.218638</td>\n",
       "      <td>0.938287</td>\n",
       "      <td>0.892412+0.000000j</td>\n",
       "    </tr>\n",
       "    <tr>\n",
       "      <th>charges</th>\n",
       "      <td>0.637551</td>\n",
       "      <td>-0.749542</td>\n",
       "      <td>0.171597</td>\n",
       "      <td>-0.047653</td>\n",
       "      <td>0.978914+0.000000j</td>\n",
       "    </tr>\n",
       "  </tbody>\n",
       "</table>\n",
       "</div>"
      ],
      "text/plain": [
       "               age       bmi  children   charges          EigenValue\n",
       "age       0.581195  0.619362  0.518312 -0.099778  1.450803+0.000000j\n",
       "bmi       0.440671  0.210507 -0.808767 -0.327706  0.680929+0.000000j\n",
       "children  0.248093  0.101318 -0.218638  0.938287  0.892412+0.000000j\n",
       "charges   0.637551 -0.749542  0.171597 -0.047653  0.978914+0.000000j"
      ]
     },
     "execution_count": 54,
     "metadata": {},
     "output_type": "execute_result"
    }
   ],
   "source": [
    "from scipy import linalg\n",
    "eg_val, eg_vect = linalg.eig(s)\n",
    "eg_vect = pd.DataFrame(eg_vect, columns = s.columns).set_index(s.index)\n",
    "eg_vect['EigenValue'] = eg_val\n",
    "eg_vect.head()"
   ]
  },
  {
   "cell_type": "code",
   "execution_count": 55,
   "id": "757c87b6-bebf-4c22-b418-b1843e68af35",
   "metadata": {
    "tags": []
   },
   "outputs": [
    {
     "data": {
      "text/html": [
       "<div>\n",
       "<style scoped>\n",
       "    .dataframe tbody tr th:only-of-type {\n",
       "        vertical-align: middle;\n",
       "    }\n",
       "\n",
       "    .dataframe tbody tr th {\n",
       "        vertical-align: top;\n",
       "    }\n",
       "\n",
       "    .dataframe thead th {\n",
       "        text-align: right;\n",
       "    }\n",
       "</style>\n",
       "<table border=\"1\" class=\"dataframe\">\n",
       "  <thead>\n",
       "    <tr style=\"text-align: right;\">\n",
       "      <th></th>\n",
       "      <th>age</th>\n",
       "      <th>bmi</th>\n",
       "      <th>children</th>\n",
       "      <th>charges</th>\n",
       "      <th>EigenValue</th>\n",
       "    </tr>\n",
       "  </thead>\n",
       "  <tbody>\n",
       "    <tr>\n",
       "      <th>age</th>\n",
       "      <td>0.581195</td>\n",
       "      <td>0.619362</td>\n",
       "      <td>0.518312</td>\n",
       "      <td>-0.099778</td>\n",
       "      <td>1.450803+0.000000j</td>\n",
       "    </tr>\n",
       "    <tr>\n",
       "      <th>charges</th>\n",
       "      <td>0.637551</td>\n",
       "      <td>-0.749542</td>\n",
       "      <td>0.171597</td>\n",
       "      <td>-0.047653</td>\n",
       "      <td>0.978914+0.000000j</td>\n",
       "    </tr>\n",
       "    <tr>\n",
       "      <th>children</th>\n",
       "      <td>0.248093</td>\n",
       "      <td>0.101318</td>\n",
       "      <td>-0.218638</td>\n",
       "      <td>0.938287</td>\n",
       "      <td>0.892412+0.000000j</td>\n",
       "    </tr>\n",
       "  </tbody>\n",
       "</table>\n",
       "</div>"
      ],
      "text/plain": [
       "               age       bmi  children   charges          EigenValue\n",
       "age       0.581195  0.619362  0.518312 -0.099778  1.450803+0.000000j\n",
       "charges   0.637551 -0.749542  0.171597 -0.047653  0.978914+0.000000j\n",
       "children  0.248093  0.101318 -0.218638  0.938287  0.892412+0.000000j"
      ]
     },
     "execution_count": 55,
     "metadata": {},
     "output_type": "execute_result"
    }
   ],
   "source": [
    "top_n = 3\n",
    "top_vectors = eg_vect.sort_values(by = 'EigenValue', ascending = False).head(top_n)\n",
    "top_vectors"
   ]
  },
  {
   "cell_type": "code",
   "execution_count": 56,
   "id": "b342fdec-116d-4aa3-a4bf-ab8a079551d2",
   "metadata": {
    "tags": []
   },
   "outputs": [
    {
     "name": "stdout",
     "output_type": "stream",
     "text": [
      "Top 3 features are:\n",
      "Index(['age', 'charges', 'children'], dtype='object')\n"
     ]
    }
   ],
   "source": [
    "print('Top', top_n, 'features are:')\n",
    "print(top_vectors.index)"
   ]
  },
  {
   "cell_type": "code",
   "execution_count": null,
   "id": "28086f7b-2aaf-4893-b922-92c2bc569760",
   "metadata": {},
   "outputs": [],
   "source": [
    "15)Apply Linear Discriminant Analysis (LDA) to perform feature extraction"
   ]
  },
  {
   "cell_type": "code",
   "execution_count": 29,
   "id": "add3e6e7-10b9-4d35-9cc5-ffa969c211d5",
   "metadata": {
    "tags": []
   },
   "outputs": [],
   "source": [
    "from sklearn.discriminant_analysis import LinearDiscriminantAnalysis"
   ]
  },
  {
   "cell_type": "code",
   "execution_count": 57,
   "id": "b554b142-efb7-4e01-a94b-cea991bde812",
   "metadata": {
    "tags": []
   },
   "outputs": [
    {
     "name": "stdout",
     "output_type": "stream",
     "text": [
      "Selected columns are: ['age']\n"
     ]
    }
   ],
   "source": [
    "def extract_num(s):\n",
    "    return int(s.strip('abcdefghijklmnopqrstuvwxyz'))\n",
    "selector = LinearDiscriminantAnalysis()\n",
    "selector.fit(x[numeric_cols], y)\n",
    "col_inds = map(extract_num, selector.get_feature_names_out(numeric_cols))\n",
    "print('Selected columns are:', [numeric_cols[i] for i in col_inds])"
   ]
  },
  {
   "cell_type": "code",
   "execution_count": null,
   "id": "a04f58a8-c18b-4d7b-b262-94afe6769a91",
   "metadata": {},
   "outputs": [],
   "source": [
    "RESULT\n",
    "     Feature extraction and Feature selection is done successfully using python program and output is verified."
   ]
  }
 ],
 "metadata": {
  "kernelspec": {
   "display_name": "Python 3 (ipykernel)",
   "language": "python",
   "name": "python3"
  },
  "language_info": {
   "codemirror_mode": {
    "name": "ipython",
    "version": 3
   },
   "file_extension": ".py",
   "mimetype": "text/x-python",
   "name": "python",
   "nbconvert_exporter": "python",
   "pygments_lexer": "ipython3",
   "version": "3.11.5"
  }
 },
 "nbformat": 4,
 "nbformat_minor": 5
}
