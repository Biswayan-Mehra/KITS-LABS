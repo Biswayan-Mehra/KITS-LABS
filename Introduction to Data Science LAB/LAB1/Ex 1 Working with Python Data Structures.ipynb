{
 "cells": [
  {
   "cell_type": "code",
   "execution_count": null,
   "id": "543b5dfe-2222-4af0-b058-57a45ddd80f6",
   "metadata": {},
   "outputs": [],
   "source": [
    "URK21CS1004                                                          12/07/2023"
   ]
  },
  {
   "cell_type": "code",
   "execution_count": null,
   "id": "df7c81ea-d7c3-47d3-a3cc-b9aa2d911f55",
   "metadata": {},
   "outputs": [],
   "source": [
    "AIM: To execute the basic data structures in Python."
   ]
  },
  {
   "cell_type": "code",
   "execution_count": null,
   "id": "cf29ab49-8d0d-4847-9395-f70efaed63eb",
   "metadata": {},
   "outputs": [],
   "source": [
    "DESCRIPTION:\n",
    "        \n",
    "    Dictionary:\n",
    "    In Python, a dictionary is a data structure that stores pairs of values, known as key-value pairs. It is created by enclosing a sequence of elements within curly braces {} and separating them with commas. The key in the key-value pair acts as the unique identifier, and the corresponding value represents the associated data.\n",
    "    \n",
    "    List:\n",
    "    Lists are a built-in data type in Python used to store multiple items in a single variable. They allow storing elements of different data types and are denoted by square brackets [].\n",
    "    \n",
    "    Set:\n",
    "    A set is an unordered collection data type in Python that is iterable, mutable, and does not allow duplicate elements. Sets are defined using curly braces {}.\n",
    "    \n",
    "    Tuple:\n",
    "    A tuple is similar to a list in terms of indexing and nested objects, but unlike lists, tuples are immutable, meaning their elements cannot be changed after creation. Tuples are defined using parentheses ().\n",
    "\n",
    "    NumPy:\n",
    "    NumPy is a powerful library in Python used for array processing and scientific computing. It provides a high-performance multidimensional array object called numpy.ndarray.\n",
    "    \n",
    "    .csv files:\n",
    "    To read or access .csv files in Python, we need to use the csv library. This library provides functionalities to work with comma-separated value (CSV) files."
   ]
  },
  {
   "cell_type": "code",
   "execution_count": null,
   "id": "f45d7ba6-1af3-442f-b0f0-40ce419aaa33",
   "metadata": {},
   "outputs": [],
   "source": [
    "PROGRAM:"
   ]
  },
  {
   "cell_type": "code",
   "execution_count": 1,
   "id": "9083d478-8c65-49a0-8eaf-3e3cb1831036",
   "metadata": {},
   "outputs": [],
   "source": [
    "import pandas as pd"
   ]
  },
  {
   "cell_type": "code",
   "execution_count": null,
   "id": "6a168f5e-23da-4669-8d2a-630cfe7c04fe",
   "metadata": {},
   "outputs": [],
   "source": [
    "1. Create an empty dictionary and fill with some sub_code and sub_name as pair by user input. Then take one sub_code as input from the user and traverse through dictionary to find the corresponding sub_name and display the same."
   ]
  },
  {
   "cell_type": "code",
   "execution_count": 2,
   "id": "bf765e3a-4159-43d5-81a3-9b9166b9f096",
   "metadata": {},
   "outputs": [
    {
     "name": "stdout",
     "output_type": "stream",
     "text": [
      "BISWAYAN MEHRA \n",
      "URK21CS1004\n"
     ]
    },
    {
     "name": "stdin",
     "output_type": "stream",
     "text": [
      "Enter the number of subjects you want to add:  2\n",
      "Enter subject code:  2004\n",
      "Enter subject name:  Maths\n",
      "Enter subject code:  2006\n",
      "Enter subject name:  Physics\n",
      "Enter the subject code to find its name:  2006\n"
     ]
    },
    {
     "name": "stdout",
     "output_type": "stream",
     "text": [
      "The subject name for code 2006 is: Physics\n"
     ]
    }
   ],
   "source": [
    "print(\"BISWAYAN MEHRA \\nURK21CS1004\")\n",
    "subject_dict = {}\n",
    "num_subjects = int(input(\"Enter the number of subjects you want to add: \"))\n",
    "for _ in range(num_subjects):\n",
    "    sub_code = input(\"Enter subject code: \")\n",
    "    sub_name = input(\"Enter subject name: \")\n",
    "    subject_dict[sub_code] = sub_name\n",
    "\n",
    "sub_code_to_find = input(\"Enter the subject code to find its name: \")\n",
    "sub_name = subject_dict.get(sub_code_to_find)\n",
    "if sub_name is not None:\n",
    "    print(f\"The subject name for code {sub_code_to_find} is: {sub_name}\")\n",
    "else:\n",
    "    print(f\"Subject code {sub_code_to_find} not found in the dictionary.\")"
   ]
  },
  {
   "cell_type": "code",
   "execution_count": null,
   "id": "a0b583ad-f15b-4686-b61d-c6e048fb2ad2",
   "metadata": {},
   "outputs": [],
   "source": [
    "2. Create an empty list and fill with list of words by user input. Find the list of words that are longer than n from a given list of words."
   ]
  },
  {
   "cell_type": "code",
   "execution_count": 3,
   "id": "e85f9c4f-9ba6-4c81-a481-f77f67349572",
   "metadata": {},
   "outputs": [
    {
     "name": "stdout",
     "output_type": "stream",
     "text": [
      "BISWAYAN MEHRA \n",
      "URK21CS1004\n"
     ]
    },
    {
     "name": "stdin",
     "output_type": "stream",
     "text": [
      "Enter n:  3\n",
      "Enter the number of words:  4\n",
      "Enter word 1:  the\n",
      "Enter word 2:  quick\n",
      "Enter word 3:  brown\n",
      "Enter word 4:  fox\n"
     ]
    },
    {
     "name": "stdout",
     "output_type": "stream",
     "text": [
      "Words longer than 3 are: ['quick', 'brown']\n"
     ]
    }
   ],
   "source": [
    "print(\"BISWAYAN MEHRA \\nURK21CS1004\")\n",
    "word_list = []\n",
    "n = int(input(\"Enter n: \"))\n",
    "num_words = int(input(\"Enter the number of words: \"))\n",
    "for i in range(num_words):\n",
    "    word = input(f\"Enter word {i+1}: \")\n",
    "    word_list.append(word)\n",
    "longer_than_n = [word for word in word_list if len(word) > n]\n",
    "print(\"Words longer than\", n, \"are:\", longer_than_n)"
   ]
  },
  {
   "cell_type": "code",
   "execution_count": null,
   "id": "f4bc7205-63eb-4544-9ce9-8118ec541800",
   "metadata": {},
   "outputs": [],
   "source": [
    "3. Create an empty set and fill with some values by user input. Check if a given value is present in a set or not."
   ]
  },
  {
   "cell_type": "code",
   "execution_count": 4,
   "id": "1e29e405-c184-47f8-8244-933d941005a7",
   "metadata": {},
   "outputs": [
    {
     "name": "stdout",
     "output_type": "stream",
     "text": [
      "BISWAYAN MEHRA \n",
      "URK21CS1004\n"
     ]
    },
    {
     "name": "stdin",
     "output_type": "stream",
     "text": [
      "Enter the number of values:  4\n",
      "Enter value 1:  50\n",
      "Enter value 2:  10\n",
      "Enter value 3:  60\n",
      "Enter value 4:  50\n",
      "Enter the value to check:  50\n"
     ]
    },
    {
     "name": "stdout",
     "output_type": "stream",
     "text": [
      "50 is present in the set.\n"
     ]
    }
   ],
   "source": [
    "print(\"BISWAYAN MEHRA \\nURK21CS1004\")\n",
    "value_set = set()\n",
    "num_values = int(input(\"Enter the number of values: \"))\n",
    "for i in range(num_values):\n",
    "    value = input(f\"Enter value {i+1}: \")\n",
    "    value_set.add(value)\n",
    "value_to_check = input(\"Enter the value to check: \")\n",
    "if value_to_check in value_set:\n",
    "    print(f\"{value_to_check} is present in the set.\")\n",
    "else:\n",
    "    print(f\"{value_to_check} is NOT present in the set.\")"
   ]
  },
  {
   "cell_type": "code",
   "execution_count": null,
   "id": "1bf4625e-906b-40a8-a1c2-3ce0c4619e6c",
   "metadata": {},
   "outputs": [],
   "source": [
    "4. Create an empty tuple and fill with some values by user input. Count the occurrence of a given input number in the tuple."
   ]
  },
  {
   "cell_type": "code",
   "execution_count": 5,
   "id": "d8436106-e3ea-43e1-9edd-fdee62fd3938",
   "metadata": {},
   "outputs": [
    {
     "name": "stdout",
     "output_type": "stream",
     "text": [
      "BISWAYAN MEHRA \n",
      "URK21CS1004\n"
     ]
    },
    {
     "name": "stdin",
     "output_type": "stream",
     "text": [
      "Enter the number of values:  4\n",
      "Enter value 1:  50\n",
      "Enter value 2:  10\n",
      "Enter value 3:  60\n",
      "Enter value 4:  50\n",
      "Enter n:  50\n"
     ]
    },
    {
     "name": "stdout",
     "output_type": "stream",
     "text": [
      "The number 50 appears 2 times in the tuple.\n"
     ]
    }
   ],
   "source": [
    "print(\"BISWAYAN MEHRA \\nURK21CS1004\")\n",
    "value_tuple = ()\n",
    "num_values = int(input(\"Enter the number of values: \"))\n",
    "for i in range(num_values):\n",
    "    value = int(input(f\"Enter value {i+1}: \"))\n",
    "    value_tuple += (value,)\n",
    "number_to_count = int(input(\"Enter n: \"))\n",
    "count_occurrences = value_tuple.count(number_to_count)\n",
    "print(f\"The number {number_to_count} appears {count_occurrences} times in the tuple.\")"
   ]
  },
  {
   "cell_type": "code",
   "execution_count": null,
   "id": "eb63b368-2a43-454a-9a3d-725868d69cca",
   "metadata": {},
   "outputs": [],
   "source": [
    "5. Create a 2D array and perform matrix subtraction using numpy."
   ]
  },
  {
   "cell_type": "code",
   "execution_count": 6,
   "id": "92d6950e-e614-4cf7-a7c0-d78dd2726b4f",
   "metadata": {},
   "outputs": [
    {
     "name": "stdout",
     "output_type": "stream",
     "text": [
      "BISWAYAN MEHRA \n",
      "URK21CS1004\n",
      "Matrix 1:\n",
      "[[1 2 3]\n",
      " [4 5 6]\n",
      " [7 8 9]]\n",
      "\n",
      "Matrix 2:\n",
      "[[9 8 7]\n",
      " [6 5 4]\n",
      " [3 2 1]]\n",
      "\n",
      "Result:\n",
      "[[-8 -6 -4]\n",
      " [-2  0  2]\n",
      " [ 4  6  8]]\n"
     ]
    }
   ],
   "source": [
    "print(\"BISWAYAN MEHRA \\nURK21CS1004\")\n",
    "import numpy as np\n",
    "matrix1 = np.array([[1, 2, 3], [4, 5, 6], [7, 8, 9]])\n",
    "matrix2 = np.array([[9, 8, 7], [6, 5, 4], [3, 2, 1]])\n",
    "result_matrix = matrix1 - matrix2\n",
    "print(\"Matrix 1:\")\n",
    "print(matrix1)\n",
    "print(\"\\nMatrix 2:\")\n",
    "print(matrix2)\n",
    "print(\"\\nResult:\")\n",
    "print(result_matrix)"
   ]
  },
  {
   "cell_type": "code",
   "execution_count": null,
   "id": "d78d68be-8719-440a-8e03-e5ace4639c87",
   "metadata": {},
   "outputs": [],
   "source": [
    "6. Read an .csv file and display the basic details."
   ]
  },
  {
   "cell_type": "code",
   "execution_count": 7,
   "id": "8db570bc-f1bd-4b3e-808f-32f6c3e57b3e",
   "metadata": {},
   "outputs": [
    {
     "name": "stdout",
     "output_type": "stream",
     "text": [
      "BISWAYAN MEHRA \n",
      "URK21CS1004\n",
      "     Unnamed: 0  Age  Sex     ChestPain  RestBP  Chol  Fbs  RestECG  MaxHR  \\\n",
      "0             1   63    1       typical     145   233    1        2    150   \n",
      "1             2   67    1  asymptomatic     160   286    0        2    108   \n",
      "2             3   67    1  asymptomatic     120   229    0        2    129   \n",
      "3             4   37    1    nonanginal     130   250    0        0    187   \n",
      "4             5   41    0    nontypical     130   204    0        2    172   \n",
      "..          ...  ...  ...           ...     ...   ...  ...      ...    ...   \n",
      "298         299   45    1       typical     110   264    0        0    132   \n",
      "299         300   68    1  asymptomatic     144   193    1        0    141   \n",
      "300         301   57    1  asymptomatic     130   131    0        0    115   \n",
      "301         302   57    0    nontypical     130   236    0        2    174   \n",
      "302         303   38    1    nonanginal     138   175    0        0    173   \n",
      "\n",
      "     ExAng  Oldpeak  Slope  Ca        Thal  AHD  \n",
      "0        0      2.3      3   0       fixed   No  \n",
      "1        1      1.5      2   3      normal  Yes  \n",
      "2        1      2.6      2   2  reversable  Yes  \n",
      "3        0      3.5      3   0      normal   No  \n",
      "4        0      1.4      1   0      normal   No  \n",
      "..     ...      ...    ...  ..         ...  ...  \n",
      "298      0      1.2      2   0  reversable  Yes  \n",
      "299      0      3.4      2   2  reversable  Yes  \n",
      "300      1      1.2      2   1  reversable  Yes  \n",
      "301      0      0.0      2   1      normal  Yes  \n",
      "302      0      0.0      1   0      normal   No  \n",
      "\n",
      "[303 rows x 15 columns]\n"
     ]
    }
   ],
   "source": [
    "print(\"BISWAYAN MEHRA \\nURK21CS1004\")\n",
    "df = pd.read_csv(\"Heart.csv\")\n",
    "print(df)"
   ]
  },
  {
   "cell_type": "code",
   "execution_count": null,
   "id": "18ac26c7-9e5b-4e35-8790-4e0e2c0e3375",
   "metadata": {},
   "outputs": [],
   "source": [
    "RESULT: Thus, the python programs using data structures were executed and verified successfully."
   ]
  }
 ],
 "metadata": {
  "kernelspec": {
   "display_name": "Python 3 (ipykernel)",
   "language": "python",
   "name": "python3"
  },
  "language_info": {
   "codemirror_mode": {
    "name": "ipython",
    "version": 3
   },
   "file_extension": ".py",
   "mimetype": "text/x-python",
   "name": "python",
   "nbconvert_exporter": "python",
   "pygments_lexer": "ipython3",
   "version": "3.10.12"
  }
 },
 "nbformat": 4,
 "nbformat_minor": 5
}
