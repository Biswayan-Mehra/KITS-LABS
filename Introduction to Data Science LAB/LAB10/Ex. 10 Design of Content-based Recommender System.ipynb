{
 "cells": [
  {
   "cell_type": "code",
   "execution_count": null,
   "id": "20af663e-2dd6-4c0d-bb01-d1363ad6f2e4",
   "metadata": {},
   "outputs": [],
   "source": [
    "URK21CS1004                                                          18/10/2023"
   ]
  },
  {
   "cell_type": "code",
   "execution_count": null,
   "id": "5e2568b1-3e0a-4107-99b7-96b78559303e",
   "metadata": {},
   "outputs": [],
   "source": [
    "AIM: To design a Content-based Recommender System using the scikit-learn."
   ]
  },
  {
   "cell_type": "code",
   "execution_count": null,
   "id": "0d4098c5-462f-4d70-82af-5dd928dbfee6",
   "metadata": {},
   "outputs": [],
   "source": [
    "DESCRIPTION:\n",
    "    TfidfVectorizer: \n",
    "        The TfidfVectorizer in scikit-learn is a feature extraction method that transforms a collection of raw text documents into a matrix of numerical features. It calculates the Term Frequency-Inverse Document Frequency (TF-IDF) values for each term in the documents.\n",
    "            TF-IDF is a crucial concept in text analysis. It quantifies the importance of words within documents by considering both their frequency within a specific document and their uniqueness within the entire corpus. The TfidfVectorizer calculates these values, which are used to represent the content of documents in a numerical format for further analysis.\n",
    "    \n",
    "    linear_kernel:\n",
    "        linear_kernel is a function provided by scikit-learn that computes the linear (dot) product between two arrays. It is frequently employed to determine the cosine similarity between vectors, such as those representing the content of documents or items.\n",
    "            In content-based recommendation systems, cosine similarity is a common metric used to assess the similarity between items. The linear_kernel function is utilized to compute the cosine similarity, which measures the cosine of the angle between two vectors. High cosine similarity values indicate that items have similar content, making them suitable for recommendations.\n",
    "    \n",
    "    Content-Based Recommendation:\n",
    "        Content-based recommendation is a recommendation system approach that suggests items to users based on the characteristics or attributes of the items they have previously shown interest in. It focuses on the content or features of items and aims to provide personalized recommendations by identifying items with similar attributes.\n",
    "            Content-based recommendation systems analyze the content, descriptions, and attributes of items to find those that closely match the characteristics of items that a user has expressed interest in. This approach is particularly useful when user preferences are known, and recommendations are based on item similarity in terms of content.\n",
    "    \n",
    "    Term Frequency-Inverse Document Frequency (TF-IDF):\n",
    "        Term Frequency-Inverse Document Frequency (TF-IDF) is a numerical statistic used in text mining and information retrieval to evaluate the importance of words or terms within a document relative to a collection of documents (corpus). It is computed for each term in a document and is employed for feature extraction in text analysis.\n",
    "            TF-IDF combines two important concepts: Term Frequency (TF) measures how often a term appears in a document, and Inverse Document Frequency (IDF) quantifies how unique or rare a term is across the entire corpus. By combining these two components, TF-IDF provides a value that reflects the significance of a term within a document and helps in representing text data in a meaningful and numerical way.\n",
    "    \n",
    "    Cosine Similarity:\n",
    "        Cosine similarity is a similarity metric used to compare the similarity between two non-zero vectors. It measures the cosine of the angle between the vectors and is often used in content-based recommendation systems to assess the similarity between items.\n",
    "            Cosine similarity quantifies the alignment of vectors, indicating how similar or dissimilar they are. In content-based recommendation, it is applied to vectors representing the content or characteristics of items. High cosine similarity values suggest that items are more alike, making them suitable candidates for recommendations to users who have shown interest in similar items."
   ]
  },
  {
   "cell_type": "code",
   "execution_count": null,
   "id": "03f3176d-1644-48ea-9138-4250f11cf42d",
   "metadata": {},
   "outputs": [],
   "source": [
    "PROGRAM:"
   ]
  },
  {
   "cell_type": "code",
   "execution_count": null,
   "id": "91679cb6-e900-4d80-945b-ffc4d0f728e6",
   "metadata": {},
   "outputs": [],
   "source": [
    "2. Develop an E-commerce item recommender system with content-based recommendation using the scikit-learn"
   ]
  },
  {
   "cell_type": "code",
   "execution_count": 10,
   "id": "24342525-80a0-4d42-92b2-6419ca924468",
   "metadata": {
    "tags": []
   },
   "outputs": [
    {
     "name": "stdout",
     "output_type": "stream",
     "text": [
      "BISWAYAN MEHRA \n",
      "URK21CS1004\n"
     ]
    }
   ],
   "source": [
    "print(\"BISWAYAN MEHRA \\nURK21CS1004\")\n",
    "import pandas as pd\n",
    "from sklearn.feature_extraction.text import TfidfVectorizer\n",
    "from sklearn.metrics.pairwise import linear_kernel\n",
    "df = pd.read_csv('shop_details.csv')"
   ]
  },
  {
   "cell_type": "code",
   "execution_count": null,
   "id": "8f008f2f-c04a-4bed-af65-14845f7197f0",
   "metadata": {},
   "outputs": [],
   "source": [
    "a. Use the column: 'product'. "
   ]
  },
  {
   "cell_type": "code",
   "execution_count": 11,
   "id": "b0d236d1-2393-4309-b153-4569d5e2ba8a",
   "metadata": {
    "tags": []
   },
   "outputs": [
    {
     "name": "stdout",
     "output_type": "stream",
     "text": [
      "BISWAYAN MEHRA \n",
      "URK21CS1004\n"
     ]
    }
   ],
   "source": [
    "print(\"BISWAYAN MEHRA \\nURK21CS1004\")\n",
    "df.dropna(subset=['product'], inplace=True)"
   ]
  },
  {
   "cell_type": "code",
   "execution_count": null,
   "id": "23804cc8-f7d8-450a-a94c-36cfd9cd9e28",
   "metadata": {},
   "outputs": [],
   "source": [
    "b. Remove the leading and trailing whitespaces in that column. "
   ]
  },
  {
   "cell_type": "code",
   "execution_count": 12,
   "id": "79f21e00-2daf-4dcd-8162-105225b8fde1",
   "metadata": {
    "tags": []
   },
   "outputs": [
    {
     "name": "stdout",
     "output_type": "stream",
     "text": [
      "BISWAYAN MEHRA \n",
      "URK21CS1004\n"
     ]
    }
   ],
   "source": [
    "print(\"BISWAYAN MEHRA \\nURK21CS1004\")\n",
    "df['product'] = df['product'].str.strip()"
   ]
  },
  {
   "cell_type": "code",
   "execution_count": null,
   "id": "cc1d9167-b41b-477f-abd7-52437544875e",
   "metadata": {},
   "outputs": [],
   "source": [
    "c. Perform feature extraction using Term Frequency Inverse Document Frequency (TF-IDF). "
   ]
  },
  {
   "cell_type": "code",
   "execution_count": 13,
   "id": "fbe9498c-407f-4257-9680-384a58e246b4",
   "metadata": {
    "tags": []
   },
   "outputs": [
    {
     "name": "stdout",
     "output_type": "stream",
     "text": [
      "BISWAYAN MEHRA \n",
      "URK21CS1004\n"
     ]
    }
   ],
   "source": [
    "print(\"BISWAYAN MEHRA \\nURK21CS1004\")\n",
    "tfidf_vectorizer = TfidfVectorizer(stop_words='english')\n",
    "tfidf_matrix = tfidf_vectorizer.fit_transform(df['product'])"
   ]
  },
  {
   "cell_type": "code",
   "execution_count": null,
   "id": "d6ed5d51-e713-4463-9b6d-30be390729d0",
   "metadata": {},
   "outputs": [],
   "source": [
    "d. Compute the cosine similarity. "
   ]
  },
  {
   "cell_type": "code",
   "execution_count": 14,
   "id": "f52724da-d258-448f-bc30-4736258b0c6f",
   "metadata": {
    "tags": []
   },
   "outputs": [
    {
     "name": "stdout",
     "output_type": "stream",
     "text": [
      "BISWAYAN MEHRA \n",
      "URK21CS1004\n"
     ]
    }
   ],
   "source": [
    "print(\"BISWAYAN MEHRA \\nURK21CS1004\")\n",
    "cosine_sim = linear_kernel(tfidf_matrix, tfidf_matrix)"
   ]
  },
  {
   "cell_type": "code",
   "execution_count": null,
   "id": "68d34205-08b4-4cd8-8b33-022dd6c270af",
   "metadata": {},
   "outputs": [],
   "source": [
    "e. Display the top 'n' suggestions with the similarity score for the given user input. "
   ]
  },
  {
   "cell_type": "code",
   "execution_count": 15,
   "id": "f2e8c66a-2827-4aff-99d2-176c155f1847",
   "metadata": {
    "tags": []
   },
   "outputs": [
    {
     "name": "stdout",
     "output_type": "stream",
     "text": [
      "BISWAYAN MEHRA \n",
      "URK21CS1004\n"
     ]
    }
   ],
   "source": [
    "print(\"BISWAYAN MEHRA \\nURK21CS1004\")\n",
    "def get_recommendations(product_name, num_recommendations=5):\n",
    "    idx = df[df['product'] == product_name].index[0]\n",
    "    sim_scores = list(enumerate(cosine_sim[idx]))\n",
    "    sim_scores = sorted(sim_scores, key=lambda x: x[1], reverse=True)\n",
    "    sim_scores = sim_scores[1:num_recommendations+1]\n",
    "    product_indices = [i[0] for i in sim_scores]\n",
    "    recommendations = df['product'].iloc[product_indices].tolist()\n",
    "    similarity_scores = [i[1] for i in sim_scores]\n",
    "    return recommendations, similarity_scores"
   ]
  },
  {
   "cell_type": "code",
   "execution_count": null,
   "id": "1237399c-fb62-4e03-b713-dda672ff2919",
   "metadata": {},
   "outputs": [],
   "source": [
    "Input: product_name, number of recommendations"
   ]
  },
  {
   "cell_type": "code",
   "execution_count": 17,
   "id": "915ae5f2-7383-43ba-9e92-dfed635f6ead",
   "metadata": {
    "tags": []
   },
   "outputs": [
    {
     "name": "stdout",
     "output_type": "stream",
     "text": [
      "BISWAYAN MEHRA \n",
      "URK21CS1004\n",
      "Recommendation 1: Active sport briefs (Similarity Score: 0.85)\n",
      "Recommendation 2: Active boxer briefs (Similarity Score: 0.85)\n",
      "Recommendation 3: Active briefs (Similarity Score: 0.65)\n",
      "Recommendation 4: Active briefs (Similarity Score: 0.65)\n",
      "Recommendation 5: Cap 1 boxer briefs (Similarity Score: 0.65)\n"
     ]
    }
   ],
   "source": [
    "print(\"BISWAYAN MEHRA \\nURK21CS1004\")\n",
    "user_input = \"Active sport boxer briefs\"\n",
    "num_recommendations = 5\n",
    "recommendations, similarity_scores = get_recommendations(user_input, num_recommendations)\n",
    "for i, (product, score) in enumerate(zip(recommendations, similarity_scores)):\n",
    "    print(f\"Recommendation {i+1}: {product} (Similarity Score: {score:.2f})\")"
   ]
  },
  {
   "cell_type": "code",
   "execution_count": null,
   "id": "363c1c8e-6b8c-4b8c-94fa-7dbe45681656",
   "metadata": {},
   "outputs": [],
   "source": [
    "RESULT:\n",
    "    Thus, the program to design the Content-based Recommender System using scikit-learn was executed and verified successfully."
   ]
  }
 ],
 "metadata": {
  "kernelspec": {
   "display_name": "Python 3 (ipykernel)",
   "language": "python",
   "name": "python3"
  },
  "language_info": {
   "codemirror_mode": {
    "name": "ipython",
    "version": 3
   },
   "file_extension": ".py",
   "mimetype": "text/x-python",
   "name": "python",
   "nbconvert_exporter": "python",
   "pygments_lexer": "ipython3",
   "version": "3.10.12"
  }
 },
 "nbformat": 4,
 "nbformat_minor": 5
}
