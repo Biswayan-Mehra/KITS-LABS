{
 "cells": [
  {
   "cell_type": "code",
   "execution_count": null,
   "id": "541ecbc7-863f-4142-9928-a5c0d416be1a",
   "metadata": {},
   "outputs": [],
   "source": [
    "URK21CS1004                                                          19/07/2023"
   ]
  },
  {
   "cell_type": "code",
   "execution_count": null,
   "id": "0ba25c5e-ce29-4af4-906a-59a111e34bc8",
   "metadata": {},
   "outputs": [],
   "source": [
    "AIM: To execute the programs in Python using Pandas."
   ]
  },
  {
   "cell_type": "code",
   "execution_count": null,
   "id": "f641d5e1-97d7-4915-ac6d-fa3e284c362f",
   "metadata": {},
   "outputs": [],
   "source": [
    "DESCRIPTION:\n",
    "    Pandas is an open-source library that is built on top of NumPy library. It is a Python package that offers various data structures and operations f manipulating numerical data and time series. It is mainly popular for importing and analyzing data much easier. Pandas is fast and it has high-performance & productivity for users.\n",
    "\n",
    "    DataFrame: \n",
    "        min():\n",
    "            The min() method returns the smallest value(s) from a DataFrame/Series. The following methods can accomplish this task: The DataFrame.min() method.\n",
    "\n",
    "        max():\n",
    "            The max() method returns the largest value(s) from a DataFrame/Series. The following methods can accomplish this task: The DataFrame.max() method.\n",
    "\n",
    "        mean():\n",
    "            The mean() method returns the average of the DataFrame/Series across a requested axis. If a DataFrame is used, the results will return a Series. If a Series is used, the result will return a single number (float). The following methods can accomplish this task: The DataFrame.mean() method.\n",
    "\n",
    "        median():\n",
    "            The median() method calculates and returns the median of DataFrame/Series elements across a requested axis.\n",
    "\n",
    "    Pandas :\n",
    "        sort_values():\n",
    "            This function sorts a data frame in Ascending or Descending order of passed Column.\n",
    "\n",
    "        groupby():\n",
    "            This is used for grouping the data according to the categories and applying a function to the categories. It also helps to aggregate data efficiently. The Pandas groupby() is a very powerful function with a lot of variations."
   ]
  },
  {
   "cell_type": "code",
   "execution_count": null,
   "id": "cbde00be-4493-46e7-94db-6846be895ad6",
   "metadata": {},
   "outputs": [],
   "source": [
    "PROGRAM:"
   ]
  },
  {
   "cell_type": "code",
   "execution_count": 1,
   "id": "18ca325b-f847-4654-8a73-ed53e59e15b8",
   "metadata": {},
   "outputs": [
    {
     "data": {
      "text/html": [
       "<div>\n",
       "<style scoped>\n",
       "    .dataframe tbody tr th:only-of-type {\n",
       "        vertical-align: middle;\n",
       "    }\n",
       "\n",
       "    .dataframe tbody tr th {\n",
       "        vertical-align: top;\n",
       "    }\n",
       "\n",
       "    .dataframe thead th {\n",
       "        text-align: right;\n",
       "    }\n",
       "</style>\n",
       "<table border=\"1\" class=\"dataframe\">\n",
       "  <thead>\n",
       "    <tr style=\"text-align: right;\">\n",
       "      <th></th>\n",
       "      <th>Price</th>\n",
       "      <th>Age</th>\n",
       "      <th>KM</th>\n",
       "      <th>FuelType</th>\n",
       "      <th>HP</th>\n",
       "      <th>MetColor</th>\n",
       "      <th>Automatic</th>\n",
       "      <th>CC</th>\n",
       "      <th>Doors</th>\n",
       "      <th>Weight</th>\n",
       "    </tr>\n",
       "  </thead>\n",
       "  <tbody>\n",
       "    <tr>\n",
       "      <th>0</th>\n",
       "      <td>13500</td>\n",
       "      <td>23</td>\n",
       "      <td>46986</td>\n",
       "      <td>Diesel</td>\n",
       "      <td>90</td>\n",
       "      <td>1</td>\n",
       "      <td>0</td>\n",
       "      <td>2000</td>\n",
       "      <td>3</td>\n",
       "      <td>1165</td>\n",
       "    </tr>\n",
       "    <tr>\n",
       "      <th>1</th>\n",
       "      <td>13750</td>\n",
       "      <td>23</td>\n",
       "      <td>72937</td>\n",
       "      <td>Diesel</td>\n",
       "      <td>90</td>\n",
       "      <td>1</td>\n",
       "      <td>0</td>\n",
       "      <td>2000</td>\n",
       "      <td>3</td>\n",
       "      <td>1165</td>\n",
       "    </tr>\n",
       "  </tbody>\n",
       "</table>\n",
       "</div>"
      ],
      "text/plain": [
       "   Price  Age     KM FuelType  HP  MetColor  Automatic    CC  Doors  Weight\n",
       "0  13500   23  46986   Diesel  90         1          0  2000      3    1165\n",
       "1  13750   23  72937   Diesel  90         1          0  2000      3    1165"
      ]
     },
     "execution_count": 1,
     "metadata": {},
     "output_type": "execute_result"
    }
   ],
   "source": [
    "import pandas as pd\n",
    "df = pd.read_csv(\"Toyota.csv\")\n",
    "df.head(2)"
   ]
  },
  {
   "cell_type": "code",
   "execution_count": null,
   "id": "dd131240-3026-4c8b-bd43-17791174d3ab",
   "metadata": {},
   "outputs": [],
   "source": [
    "1. Find maximum value in a KM column and the minimum value in weight column"
   ]
  },
  {
   "cell_type": "code",
   "execution_count": 2,
   "id": "ebd1c62e-1163-4f8f-9e79-12a40990c1df",
   "metadata": {},
   "outputs": [
    {
     "name": "stdout",
     "output_type": "stream",
     "text": [
      "BISWAYAN MEHRA \n",
      "URK21CS1004\n",
      "Maximum KM: 243000\n",
      "Minimum Weight: 1015\n"
     ]
    }
   ],
   "source": [
    "print(\"BISWAYAN MEHRA \\nURK21CS1004\")\n",
    "print(\"Maximum KM:\", df['KM'].max())\n",
    "print(\"Minimum Weight:\", df['Weight'].min())"
   ]
  },
  {
   "cell_type": "code",
   "execution_count": null,
   "id": "e2105b8a-89ba-4619-939e-ff4b707173fc",
   "metadata": {},
   "outputs": [],
   "source": [
    "2. Find the mean and median of CC column"
   ]
  },
  {
   "cell_type": "code",
   "execution_count": 3,
   "id": "83a86b9c-1077-48df-b58d-7a45fccf948f",
   "metadata": {},
   "outputs": [
    {
     "name": "stdout",
     "output_type": "stream",
     "text": [
      "BISWAYAN MEHRA \n",
      "URK21CS1004\n",
      "Mean CC: 1610.3587174348697\n",
      "Median CC: 1600.0\n"
     ]
    }
   ],
   "source": [
    "print(\"BISWAYAN MEHRA \\nURK21CS1004\")\n",
    "print(\"Mean CC:\", df['CC'].mean())\n",
    "print(\"Median CC:\", df['CC'].median())"
   ]
  },
  {
   "cell_type": "code",
   "execution_count": null,
   "id": "3753de05-67f4-4bb4-9c6c-3669320b674a",
   "metadata": {},
   "outputs": [],
   "source": [
    "3. Create the new column ‘Current Price ‘with value Current Price = (Price*2) +100"
   ]
  },
  {
   "cell_type": "code",
   "execution_count": 4,
   "id": "f0e1ddc6-5204-4a5f-9753-36fa34859abc",
   "metadata": {},
   "outputs": [
    {
     "name": "stdout",
     "output_type": "stream",
     "text": [
      "BISWAYAN MEHRA \n",
      "URK21CS1004\n"
     ]
    },
    {
     "data": {
      "text/html": [
       "<div>\n",
       "<style scoped>\n",
       "    .dataframe tbody tr th:only-of-type {\n",
       "        vertical-align: middle;\n",
       "    }\n",
       "\n",
       "    .dataframe tbody tr th {\n",
       "        vertical-align: top;\n",
       "    }\n",
       "\n",
       "    .dataframe thead th {\n",
       "        text-align: right;\n",
       "    }\n",
       "</style>\n",
       "<table border=\"1\" class=\"dataframe\">\n",
       "  <thead>\n",
       "    <tr style=\"text-align: right;\">\n",
       "      <th></th>\n",
       "      <th>Price</th>\n",
       "      <th>Age</th>\n",
       "      <th>KM</th>\n",
       "      <th>FuelType</th>\n",
       "      <th>HP</th>\n",
       "      <th>MetColor</th>\n",
       "      <th>Automatic</th>\n",
       "      <th>CC</th>\n",
       "      <th>Doors</th>\n",
       "      <th>Weight</th>\n",
       "      <th>Current Price</th>\n",
       "    </tr>\n",
       "  </thead>\n",
       "  <tbody>\n",
       "    <tr>\n",
       "      <th>0</th>\n",
       "      <td>13500</td>\n",
       "      <td>23</td>\n",
       "      <td>46986</td>\n",
       "      <td>Diesel</td>\n",
       "      <td>90</td>\n",
       "      <td>1</td>\n",
       "      <td>0</td>\n",
       "      <td>2000</td>\n",
       "      <td>3</td>\n",
       "      <td>1165</td>\n",
       "      <td>27100</td>\n",
       "    </tr>\n",
       "  </tbody>\n",
       "</table>\n",
       "</div>"
      ],
      "text/plain": [
       "   Price  Age     KM FuelType  HP  MetColor  Automatic    CC  Doors  Weight  \\\n",
       "0  13500   23  46986   Diesel  90         1          0  2000      3    1165   \n",
       "\n",
       "   Current Price  \n",
       "0          27100  "
      ]
     },
     "execution_count": 4,
     "metadata": {},
     "output_type": "execute_result"
    }
   ],
   "source": [
    "print(\"BISWAYAN MEHRA \\nURK21CS1004\")\n",
    "df['Current Price'] = (df['Price'] * 2) + 100\n",
    "df.head(1)"
   ]
  },
  {
   "cell_type": "code",
   "execution_count": null,
   "id": "8b3197a6-6ab1-4cd2-9dbf-e8725cc80684",
   "metadata": {},
   "outputs": [],
   "source": [
    "4. Display the first 50 Price, Age and CC such that age in ascending order"
   ]
  },
  {
   "cell_type": "code",
   "execution_count": 5,
   "id": "c3a4381b-4d1b-47fd-8ecf-848ea37d5764",
   "metadata": {},
   "outputs": [
    {
     "name": "stdout",
     "output_type": "stream",
     "text": [
      "BISWAYAN MEHRA \n",
      "URK21CS1004\n",
      "\n",
      "Displaying first 50 Price, Age, and CC in ascending order of Age:\n",
      "      Price  Age    CC\n",
      "185  18245    1  1600\n",
      "184  17795    1  1400\n",
      "183  21500    2  1600\n",
      "182  21125    2  1400\n",
      "110  31000    4  2000\n",
      "111  31275    4  2000\n",
      "109  32500    4  2000\n",
      "179  22500    6  1600\n",
      "177  19950    7  1600\n",
      "114  22950    7  2000\n",
      "117  17900    7  1600\n",
      "181  18700    7  1400\n",
      "180  18500    7  1600\n",
      "113  24950    8  2000\n",
      "115  24990    8  2000\n",
      "116  21950    8  2000\n",
      "172  19500    8  1400\n",
      "112  24950    8  2000\n",
      "173  18950    8  1400\n",
      "174  21950    8  1600\n",
      "175  19950    8  1600\n",
      "176  18950    8  1600\n",
      "178  21950    8  1600\n",
      "171  23750    8  1600\n",
      "162  19600    9  1600\n",
      "170  18245    9  1600\n",
      "169  17795    9  1400\n",
      "152  18450   10  1400\n",
      "157  18900   11  1600\n",
      "98   18750   11  1600\n",
      "138  23000   11  2000\n",
      "164  17650   11  1400\n",
      "104  19450   11  1600\n",
      "103  18500   11  1600\n",
      "168  20500   12  1600\n",
      "153  19500   12  1600\n",
      "142  19950   13  1600\n",
      "137  16250   13  1600\n",
      "133  15950   13  1600\n",
      "129  15850   13  1600\n",
      "120  18950   13  1600\n",
      "102  18500   13  1400\n",
      "147  24500   13  1600\n",
      "154  21750   13  1600\n",
      "122  16350   14  1600\n",
      "106  18800   14  1600\n",
      "166  19950   14  1600\n",
      "149  20950   14  1600\n",
      "165  19950   14  1600\n",
      "163  19500   14  1600\n"
     ]
    }
   ],
   "source": [
    "print(\"BISWAYAN MEHRA \\nURK21CS1004\")\n",
    "print(\"\\nDisplaying first 50 Price, Age, and CC in ascending order of Age:\\n\", df[['Price', 'Age', 'CC']].sort_values(by='Age').head(50))"
   ]
  },
  {
   "cell_type": "code",
   "execution_count": null,
   "id": "0c9c2aeb-c12f-48c6-92d8-ca257d544bdd",
   "metadata": {},
   "outputs": [],
   "source": [
    "5. Group the data frame by Fuel Type and Metal Colour"
   ]
  },
  {
   "cell_type": "code",
   "execution_count": 6,
   "id": "5d8fc93d-4972-4a25-92df-d665e3ed6e7e",
   "metadata": {},
   "outputs": [
    {
     "name": "stdout",
     "output_type": "stream",
     "text": [
      "BISWAYAN MEHRA \n",
      "URK21CS1004\n",
      "\n",
      "Data Frame grouped by Fuel Type and Metal Colour:\n",
      "      Price  Age      KM FuelType   HP  MetColor  Automatic    CC  Doors  \\\n",
      "0    13500   23   46986   Diesel   90         1          0  2000      3   \n",
      "1    13750   23   72937   Diesel   90         1          0  2000      3   \n",
      "3    14950   26   48000   Diesel   90         0          0  2000      3   \n",
      "4    13750   30   38500   Diesel   90         0          0  2000      3   \n",
      "8    21500   27   19700   Petrol  192         0          0  1800      3   \n",
      "10   20950   25   31461   Petrol  192         0          0  1800      3   \n",
      "13   21500   31   23000   Petrol  192         1          0  1800      3   \n",
      "14   22500   32   34131   Petrol  192         1          0  1800      3   \n",
      "189   7750   43  178858      CNG  110         0          0  1600      3   \n",
      "199  11950   39   98823      CNG  110         1          0  1600      5   \n",
      "209  11950   37   82743      CNG  110         1          0  1600      5   \n",
      "387   9250   48  142130      CNG  110         0          0  1600      5   \n",
      "\n",
      "     Weight  Current Price  \n",
      "0      1165          27100  \n",
      "1      1165          27600  \n",
      "3      1165          30000  \n",
      "4      1170          27600  \n",
      "8      1185          43100  \n",
      "10     1185          42000  \n",
      "13     1185          43100  \n",
      "14     1185          45100  \n",
      "189    1084          15600  \n",
      "199    1119          24000  \n",
      "209    1121          24000  \n",
      "387    1119          18600  \n"
     ]
    }
   ],
   "source": [
    "print(\"BISWAYAN MEHRA \\nURK21CS1004\")\n",
    "grouped_df = df.groupby(['FuelType', 'MetColor'])\n",
    "print(\"\\nData Frame grouped by Fuel Type and Metal Colour:\\n\", grouped_df.head(2))"
   ]
  },
  {
   "cell_type": "code",
   "execution_count": null,
   "id": "cc798e48-783a-4344-9834-93ce27ad5980",
   "metadata": {},
   "outputs": [],
   "source": [
    "6. Count the null values in the data frame and fill the null values in CC column by ‘0’"
   ]
  },
  {
   "cell_type": "code",
   "execution_count": 7,
   "id": "fae95c99-6b49-4ec5-b499-946c73e27ffc",
   "metadata": {},
   "outputs": [
    {
     "name": "stdout",
     "output_type": "stream",
     "text": [
      "BISWAYAN MEHRA \n",
      "URK21CS1004\n",
      "\n",
      "Number of null values: Price            0\n",
      "Age              0\n",
      "KM               0\n",
      "FuelType         0\n",
      "HP               0\n",
      "MetColor         0\n",
      "Automatic        0\n",
      "CC               0\n",
      "Doors            0\n",
      "Weight           0\n",
      "Current Price    0\n",
      "dtype: int64\n",
      "\n",
      "Data Frame after filling null values in CC column with '0':\n",
      "      Price  Age     KM FuelType   HP  MetColor  Automatic    CC  Doors  \\\n",
      "0    13500   23  46986   Diesel   90         1          0  2000      3   \n",
      "1    13750   23  72937   Diesel   90         1          0  2000      3   \n",
      "2    13950   24  41711   Diesel   90         1          0  2000      3   \n",
      "3    14950   26  48000   Diesel   90         0          0  2000      3   \n",
      "4    13750   30  38500   Diesel   90         0          0  2000      3   \n",
      "..     ...  ...    ...      ...  ...       ...        ...   ...    ...   \n",
      "494  11950   54  58745   Petrol  110         1          0  1600      4   \n",
      "495  11250   52  58596   Petrol  110         1          0  1600      3   \n",
      "496  11750   54  58530   Petrol  110         0          0  1600      5   \n",
      "497  10950   55  58377   Petrol  110         1          0  1600      3   \n",
      "498  11250   56  58142   Petrol  110         1          0  1600      5   \n",
      "\n",
      "     Weight  Current Price  \n",
      "0      1165          27100  \n",
      "1      1165          27600  \n",
      "2      1165          28000  \n",
      "3      1165          30000  \n",
      "4      1170          27600  \n",
      "..      ...            ...  \n",
      "494    1035          24000  \n",
      "495    1045          22600  \n",
      "496    1075          23600  \n",
      "497    1050          22000  \n",
      "498    1080          22600  \n",
      "\n",
      "[499 rows x 11 columns]\n"
     ]
    }
   ],
   "source": [
    "print(\"BISWAYAN MEHRA \\nURK21CS1004\")\n",
    "print(\"\\nNumber of null values:\", df.isnull().sum())\n",
    "df['CC'].fillna(0, inplace=True)\n",
    "print(\"\\nData Frame after filling null values in CC column with '0':\\n\", df)"
   ]
  },
  {
   "cell_type": "code",
   "execution_count": null,
   "id": "61e7a78f-8da7-4707-bf9d-34b532750b6d",
   "metadata": {},
   "outputs": [],
   "source": [
    "7. Append 3 new rows in the data frame and display it"
   ]
  },
  {
   "cell_type": "code",
   "execution_count": 8,
   "id": "477d2d4e-ebd3-44b0-838e-f0fb63c038cf",
   "metadata": {},
   "outputs": [
    {
     "name": "stdout",
     "output_type": "stream",
     "text": [
      "BISWAYAN MEHRA \n",
      "URK21CS1004\n",
      "\n",
      "Data Frame after appending 3 new rows:\n",
      "      Price  Age    KM FuelType   HP  MetColor  Automatic    CC  Doors  Weight  \\\n",
      "499  20000    3  5000      NaN  150       NaN        NaN  1800    NaN     NaN   \n",
      "500  18000    5  8000      NaN  120       NaN        NaN  1600    NaN     NaN   \n",
      "501  22000    2  2000      NaN  180       NaN        NaN  2000    NaN     NaN   \n",
      "\n",
      "     Current Price Fuel Type MetColour  weight  \n",
      "499            NaN  Gasoline    Silver  1200.0  \n",
      "500            NaN    Diesel     Black  1300.0  \n",
      "501            NaN  Gasoline     White  1400.0  \n"
     ]
    }
   ],
   "source": [
    "print(\"BISWAYAN MEHRA \\nURK21CS1004\")\n",
    "new_rows = [\n",
    "    {'Price': 20000, 'Age': 3, 'CC': 1800, 'KM': 5000, 'Fuel Type': 'Gasoline', 'MetColour': 'Silver', 'weight': 1200, 'HP': 150},\n",
    "    {'Price': 18000, 'Age': 5, 'CC': 1600, 'KM': 8000, 'Fuel Type': 'Diesel', 'MetColour': 'Black', 'weight': 1300, 'HP': 120},\n",
    "    {'Price': 22000, 'Age': 2, 'CC': 2000, 'KM': 2000, 'Fuel Type': 'Gasoline', 'MetColour': 'White', 'weight': 1400, 'HP': 180}\n",
    "]\n",
    "\n",
    "new_df = pd.DataFrame(new_rows)\n",
    "df = pd.concat([df, new_df], ignore_index=True)\n",
    "print(\"\\nData Frame after appending 3 new rows:\\n\", df.tail(3))"
   ]
  },
  {
   "cell_type": "code",
   "execution_count": null,
   "id": "ac73d5a4-aff6-41aa-b570-508d81236e5c",
   "metadata": {},
   "outputs": [],
   "source": [
    "8. Drop the HP column in the data frame and display it"
   ]
  },
  {
   "cell_type": "code",
   "execution_count": 11,
   "id": "ebbb2862-e88b-445d-a225-4dafc39b6e3d",
   "metadata": {},
   "outputs": [
    {
     "name": "stdout",
     "output_type": "stream",
     "text": [
      "BISWAYAN MEHRA \n",
      "URK21CS1004\n",
      "\n",
      "Data Frame after dropping the 'HP' column:\n",
      "    Price  Age     KM FuelType  MetColor  Automatic    CC  Doors  Weight  \\\n",
      "0  13500   23  46986   Diesel       1.0        0.0  2000    3.0  1165.0   \n",
      "1  13750   23  72937   Diesel       1.0        0.0  2000    3.0  1165.0   \n",
      "\n",
      "   Current Price Fuel Type MetColour  weight  \n",
      "0        27100.0       NaN       NaN     NaN  \n",
      "1        27600.0       NaN       NaN     NaN  \n"
     ]
    }
   ],
   "source": [
    "print(\"BISWAYAN MEHRA \\nURK21CS1004\")\n",
    "df.drop('HP', axis=1, inplace=True)\n",
    "print(\"\\nData Frame after dropping the 'HP' column:\\n\", df.head(2))"
   ]
  },
  {
   "cell_type": "code",
   "execution_count": null,
   "id": "4158dc45-a14b-4a42-8e53-9627c52ed6ba",
   "metadata": {},
   "outputs": [],
   "source": [
    "9. Drop the 50th and 100th row in the data frame"
   ]
  },
  {
   "cell_type": "code",
   "execution_count": 9,
   "id": "dc0e51e0-3add-49f4-ad09-6d5c56975281",
   "metadata": {},
   "outputs": [
    {
     "name": "stdout",
     "output_type": "stream",
     "text": [
      "BISWAYAN MEHRA \n",
      "URK21CS1004\n",
      "\n",
      "Data Frame after dropping the 50th and 100th rows:\n",
      "    Price  Age     KM FuelType  HP  MetColor  Automatic    CC  Doors  Weight  \\\n",
      "0  13500   23  46986   Diesel  90       1.0        0.0  2000    3.0  1165.0   \n",
      "1  13750   23  72937   Diesel  90       1.0        0.0  2000    3.0  1165.0   \n",
      "2  13950   24  41711   Diesel  90       1.0        0.0  2000    3.0  1165.0   \n",
      "3  14950   26  48000   Diesel  90       0.0        0.0  2000    3.0  1165.0   \n",
      "4  13750   30  38500   Diesel  90       0.0        0.0  2000    3.0  1170.0   \n",
      "\n",
      "   Current Price Fuel Type MetColour  weight  \n",
      "0        27100.0       NaN       NaN     NaN  \n",
      "1        27600.0       NaN       NaN     NaN  \n",
      "2        28000.0       NaN       NaN     NaN  \n",
      "3        30000.0       NaN       NaN     NaN  \n",
      "4        27600.0       NaN       NaN     NaN  \n"
     ]
    }
   ],
   "source": [
    "print(\"BISWAYAN MEHRA \\nURK21CS1004\")\n",
    "df.drop([49, 99], inplace=True)\n",
    "print(\"\\nData Frame after dropping the 50th and 100th rows:\\n\", df.head())"
   ]
  },
  {
   "cell_type": "code",
   "execution_count": null,
   "id": "c92c90d8-7b4f-4e1a-8932-4e59eb292f98",
   "metadata": {},
   "outputs": [],
   "source": [
    "10.Display the price, KM and HP of first 100 values with 'CC' greater than 1600"
   ]
  },
  {
   "cell_type": "code",
   "execution_count": 10,
   "id": "7fecbf16-a5b9-4f5b-b0fd-2274570cace9",
   "metadata": {},
   "outputs": [
    {
     "name": "stdout",
     "output_type": "stream",
     "text": [
      "BISWAYAN MEHRA \n",
      "URK21CS1004\n",
      "\n",
      "Price, KM, and HP of first 100 values with 'CC' greater than 1600:\n",
      "      Price     KM   HP\n",
      "0    13500  46986   90\n",
      "1    13750  72937   90\n",
      "2    13950  41711   90\n",
      "3    14950  48000   90\n",
      "4    13750  38500   90\n",
      "..     ...    ...  ...\n",
      "465  11450  68520   72\n",
      "480  11500  63000   69\n",
      "487   8950  61000   69\n",
      "499  20000   5000  150\n",
      "501  22000   2000  180\n",
      "\n",
      "[93 rows x 3 columns]\n"
     ]
    }
   ],
   "source": [
    "print(\"BISWAYAN MEHRA \\nURK21CS1004\")\n",
    "result_df = df[df['CC'] > 1600].head(100)[['Price', 'KM', 'HP']]\n",
    "print(\"\\nPrice, KM, and HP of first 100 values with 'CC' greater than 1600:\\n\", result_df)"
   ]
  },
  {
   "cell_type": "code",
   "execution_count": null,
   "id": "f8566184-ccea-416a-933d-ed26356fe09f",
   "metadata": {},
   "outputs": [],
   "source": [
    "RESULT: Thus, the Python programs using Pandas were executed and verfied successfully."
   ]
  }
 ],
 "metadata": {
  "kernelspec": {
   "display_name": "Python 3 (ipykernel)",
   "language": "python",
   "name": "python3"
  },
  "language_info": {
   "codemirror_mode": {
    "name": "ipython",
    "version": 3
   },
   "file_extension": ".py",
   "mimetype": "text/x-python",
   "name": "python",
   "nbconvert_exporter": "python",
   "pygments_lexer": "ipython3",
   "version": "3.10.12"
  }
 },
 "nbformat": 4,
 "nbformat_minor": 5
}
