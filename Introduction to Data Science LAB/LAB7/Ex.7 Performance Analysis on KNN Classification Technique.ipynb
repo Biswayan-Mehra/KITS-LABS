{
 "cells": [
  {
   "cell_type": "code",
   "execution_count": null,
   "id": "1ca80a23-5abe-4b2e-83a0-3e6cc5504cb4",
   "metadata": {},
   "outputs": [],
   "source": [
    "URK21CS1004                                                          20/09/2023"
   ]
  },
  {
   "cell_type": "code",
   "execution_count": null,
   "id": "eeaf1dc0-fe03-4cf4-872d-ed9f61e17e2f",
   "metadata": {},
   "outputs": [],
   "source": [
    "AIM: To demonstrate Performance Analysis on KNN Classification Technique"
   ]
  },
  {
   "cell_type": "code",
   "execution_count": null,
   "id": "da117247-a7cd-4b33-920a-0977b95bdceb",
   "metadata": {},
   "outputs": [],
   "source": [
    "DESCRIPTION:\n",
    "    K-nearest neighbors (KNN) algorithm is a type of supervised ML algorithm which can be used for both classification as well as regression predictive problems. However, it is mainly used for classification predictive problems in industry. The following two properties would define KNN well:\n",
    "Lazy learning algorithm: KNN is a lazy learning algorithm because it does not have a specialized training phase and uses all the data for training while classification. \n",
    "Non-parametric learning algorithm: KNN is also a non-parametric learning algorithm because it doesn't assume anything about the underlying data.\n",
    "Working of KNN Algorithm\n",
    "    K-nearest neighbors (KNN) algorithm uses 'feature similarity' to predict the values of new datapoints which further means that the new data point will be assigned a value based on how closely it matches the points in the training set. We can understand its working with the help of following steps:\n",
    "Step1: For implementing any algorithm, we need dataset. So, during the first step of KNN, load the training as well as test data. \n",
    "Step2: Choose the value of K i.e. the nearest data points. K can be any integer. \n",
    "Step3: For each point in the test data do the following: \n",
    "    3.1: Calculate the distance between test data and each row of training data with the help of any of the method namely: Euclidean, Manhattan or Hamming distance. The most commonly used method to calculate distance is Euclidean. \n",
    "    3.2: Now, based on the distance value, sort them in ascending order. \n",
    "    3.3: Next, it will choose the top K rows from the sorted array. 3.4: Now, it will assign a class to the test point based on most frequent class of these rows. Step4: End Performance Metrics for Classification Problems\n",
    "Various performance metrics that can be used to evaluate predictions for classification problems are given below\n",
    "Confusion Matrix\n",
    " It is the easiest way to measure the performance of a classification problem where the output can be of two or more type of classes. A confusion matrix is nothing but a table with two dimensions viz.\"Actual\" and \"Predicted\" and furthermore, both the dimensions have \"True Positives (TP)\", \"True Negatives (TN)\", \"False Positives (FP)\", \"False Negatives (FN)\"\n",
    "True Positives (TP): It is the case when both actual class and predicted class of data point is 1. True Negatives (TN): It is the case when both actual class and predicted class of data point is 0. False Positives (FP): It is the case when actual class of data point is 0 & predicted class of data point is 1. False Negatives (FN): It is the case when actual class of data point is 1 & predicted class of 1 data point is 0. confusion_matrix function of sklearn.metrics to compute Confusion Matrix of our classification model. \n",
    "Classification Accuracy\n",
    " It is most common performance metric for classification algorithms. It may be defined as the number of correct predictions made as a ratio of all predictions made. accuracy_score function of sklearn.metrics is used to compute accuracy of the classification model.\n",
    "Classification Report\n",
    "    This report consists of the scores of Precisions, Recall, F1 and Support. They are Precision, used in document retrievals, may be defined as the number of correct documents returned by classification model.\n",
    "Recall or Sensitivity\n",
    "Recall may be defined as the number of positives returned by classification model. It can be calculated from the confusion matrix\n",
    "Specificity\n",
    " Specificity, in contrast to recall, may be defined as the number of negatives returned by the classification model. Support may be defined as the number of samples of the true response that lies in each class of target values. F1 Score This score will give us the harmonic mean of precision and recall. Mathematically, F1 score is the weighted average of the precision and recall. The best value of F1 would be 1 and worst would be 0. F1 score will be calculated with the help of following formula: F1 = 2 * (precision * recall) / (precision + recall) F1 score is having equal relative contribution of precision and recall. classification_report function of sklearn.metrics is used to get the classification report of classification model.\n",
    "AUC (Area Under ROC curve)\n",
    "    AUC (Area Under Curve)-ROC (Receiver Operating Characteristic) is a performance metric, based on varying threshold values, for classification problems. As name suggests, ROC is a probability curve and AUC measure the separability. In simple words, AUC-ROC metric will tell us about the capability of model in distinguishing the classes. Higher the AUC, better the model. Mathematically, it can be created by plotting TPR (True Positive Rate) i.e. Sensitivity or recall vs FPR (False Positive Rate) i.e. 1-Specificity, at various threshold values. roc_auc_score function of sklearn.metrics is used to compute AUC-ROC"
   ]
  },
  {
   "cell_type": "code",
   "execution_count": null,
   "id": "05d249f1-5144-48a7-a989-9b30e1e8bc67",
   "metadata": {},
   "outputs": [],
   "source": [
    "PROGRAMS:"
   ]
  },
  {
   "cell_type": "code",
   "execution_count": 41,
   "id": "1ff17be5-bc69-407a-9456-01d745b6cf98",
   "metadata": {
    "tags": []
   },
   "outputs": [],
   "source": [
    "import pandas as pd\n",
    "import numpy as np\n",
    "from sklearn.model_selection import train_test_split\n",
    "from sklearn.neighbors import KNeighborsClassifier\n",
    "import matplotlib.pyplot as plt\n",
    "from sklearn.metrics import confusion_matrix, accuracy_score, classification_report, roc_auc_score, roc_curve, f1_score"
   ]
  },
  {
   "cell_type": "code",
   "execution_count": null,
   "id": "d7b44dcd-8736-4595-9218-f6b61d0c9d71",
   "metadata": {
    "tags": []
   },
   "outputs": [],
   "source": [
    "import sklearn\n",
    "dir(sklearn.metrics)"
   ]
  },
  {
   "cell_type": "code",
   "execution_count": null,
   "id": "db8f89b9-699a-4dd8-91bd-f1cac681d636",
   "metadata": {},
   "outputs": [],
   "source": [
    "1. Develop a KNN classification model for the wine dataset using the scikit-learn"
   ]
  },
  {
   "cell_type": "code",
   "execution_count": null,
   "id": "2faed1c9-42d4-4e24-a33b-1512f46d7e2f",
   "metadata": {},
   "outputs": [],
   "source": [
    "a. Read the data"
   ]
  },
  {
   "cell_type": "code",
   "execution_count": 42,
   "id": "199a12e7-845f-462e-8de8-e6653527076d",
   "metadata": {
    "tags": []
   },
   "outputs": [
    {
     "name": "stdout",
     "output_type": "stream",
     "text": [
      "BISWAYAN MEHRA \n",
      "URK21CS1004\n"
     ]
    },
    {
     "data": {
      "text/html": [
       "<div>\n",
       "<style scoped>\n",
       "    .dataframe tbody tr th:only-of-type {\n",
       "        vertical-align: middle;\n",
       "    }\n",
       "\n",
       "    .dataframe tbody tr th {\n",
       "        vertical-align: top;\n",
       "    }\n",
       "\n",
       "    .dataframe thead th {\n",
       "        text-align: right;\n",
       "    }\n",
       "</style>\n",
       "<table border=\"1\" class=\"dataframe\">\n",
       "  <thead>\n",
       "    <tr style=\"text-align: right;\">\n",
       "      <th></th>\n",
       "      <th>fixed acidity</th>\n",
       "      <th>volatile acidity</th>\n",
       "      <th>citric acid</th>\n",
       "      <th>residual sugar</th>\n",
       "      <th>chlorides</th>\n",
       "      <th>free sulfur dioxide</th>\n",
       "      <th>total sulfur dioxide</th>\n",
       "      <th>density</th>\n",
       "      <th>pH</th>\n",
       "      <th>sulphates</th>\n",
       "      <th>alcohol</th>\n",
       "      <th>quality</th>\n",
       "    </tr>\n",
       "  </thead>\n",
       "  <tbody>\n",
       "    <tr>\n",
       "      <th>0</th>\n",
       "      <td>7.4</td>\n",
       "      <td>0.70</td>\n",
       "      <td>0.0</td>\n",
       "      <td>1.9</td>\n",
       "      <td>0.076</td>\n",
       "      <td>11.0</td>\n",
       "      <td>34</td>\n",
       "      <td>0.9978</td>\n",
       "      <td>3.51</td>\n",
       "      <td>0.56</td>\n",
       "      <td>9.4</td>\n",
       "      <td>bad</td>\n",
       "    </tr>\n",
       "    <tr>\n",
       "      <th>1</th>\n",
       "      <td>7.8</td>\n",
       "      <td>0.88</td>\n",
       "      <td>0.0</td>\n",
       "      <td>2.6</td>\n",
       "      <td>0.098</td>\n",
       "      <td>25.0</td>\n",
       "      <td>67</td>\n",
       "      <td>0.9968</td>\n",
       "      <td>3.20</td>\n",
       "      <td>0.68</td>\n",
       "      <td>9.8</td>\n",
       "      <td>bad</td>\n",
       "    </tr>\n",
       "  </tbody>\n",
       "</table>\n",
       "</div>"
      ],
      "text/plain": [
       "   fixed acidity  volatile acidity  citric acid  residual sugar  chlorides  \\\n",
       "0            7.4              0.70          0.0             1.9      0.076   \n",
       "1            7.8              0.88          0.0             2.6      0.098   \n",
       "\n",
       "   free sulfur dioxide  total sulfur dioxide  density    pH  sulphates  \\\n",
       "0                 11.0                    34   0.9978  3.51       0.56   \n",
       "1                 25.0                    67   0.9968  3.20       0.68   \n",
       "\n",
       "   alcohol quality  \n",
       "0      9.4     bad  \n",
       "1      9.8     bad  "
      ]
     },
     "execution_count": 42,
     "metadata": {},
     "output_type": "execute_result"
    }
   ],
   "source": [
    "print(\"BISWAYAN MEHRA \\nURK21CS1004\")\n",
    "data = pd.read_csv('wine.csv')\n",
    "data.head(2)"
   ]
  },
  {
   "cell_type": "code",
   "execution_count": null,
   "id": "6c8e43fa-0752-4396-bc1b-b2e8b99e4d58",
   "metadata": {},
   "outputs": [],
   "source": [
    "b. Data Cleaning\n",
    "    a. Replace 0 in ['chlorides', 'density', 'pH', 'sulphates'] column with NaN value\n",
    "    b. Identify the columns with null value\n",
    "    c. Filling the null values by imputing the mean values in the corresponding column"
   ]
  },
  {
   "cell_type": "code",
   "execution_count": 43,
   "id": "6473cd20-6991-4120-86ca-f918daf018eb",
   "metadata": {
    "tags": []
   },
   "outputs": [
    {
     "name": "stdout",
     "output_type": "stream",
     "text": [
      "BISWAYAN MEHRA \n",
      "URK21CS1004\n",
      "['citric acid', 'residual sugar', 'chlorides', 'density', 'pH', 'sulphates']\n"
     ]
    }
   ],
   "source": [
    "print(\"BISWAYAN MEHRA \\nURK21CS1004\")\n",
    "cols_to_replace_zero = ['chlorides', 'density', 'pH', 'sulphates']\n",
    "data[cols_to_replace_zero] = data[cols_to_replace_zero].replace(0, float('nan'))\n",
    "columns_with_null = data.columns[data.isnull().any()].tolist()\n",
    "data[columns_with_null] = data[columns_with_null].fillna(data.mean(numeric_only=True))\n",
    "print(columns_with_null)"
   ]
  },
  {
   "cell_type": "code",
   "execution_count": null,
   "id": "e00692bc-afb9-4709-aace-56b4fd1d8e77",
   "metadata": {},
   "outputs": [],
   "source": [
    "c. Use the columns: ['fixed acidity', 'volatile acidity', 'citric acid', 'residual sugar', 'chlorides', 'free sulfur dioxide'] as the independent variables"
   ]
  },
  {
   "cell_type": "code",
   "execution_count": 44,
   "id": "ba2f9d5e-1188-4d4a-b6e6-ad12cb373165",
   "metadata": {
    "tags": []
   },
   "outputs": [
    {
     "name": "stdout",
     "output_type": "stream",
     "text": [
      "BISWAYAN MEHRA \n",
      "URK21CS1004\n"
     ]
    },
    {
     "data": {
      "text/html": [
       "<div>\n",
       "<style scoped>\n",
       "    .dataframe tbody tr th:only-of-type {\n",
       "        vertical-align: middle;\n",
       "    }\n",
       "\n",
       "    .dataframe tbody tr th {\n",
       "        vertical-align: top;\n",
       "    }\n",
       "\n",
       "    .dataframe thead th {\n",
       "        text-align: right;\n",
       "    }\n",
       "</style>\n",
       "<table border=\"1\" class=\"dataframe\">\n",
       "  <thead>\n",
       "    <tr style=\"text-align: right;\">\n",
       "      <th></th>\n",
       "      <th>fixed acidity</th>\n",
       "      <th>volatile acidity</th>\n",
       "      <th>citric acid</th>\n",
       "      <th>residual sugar</th>\n",
       "      <th>chlorides</th>\n",
       "      <th>free sulfur dioxide</th>\n",
       "    </tr>\n",
       "  </thead>\n",
       "  <tbody>\n",
       "    <tr>\n",
       "      <th>0</th>\n",
       "      <td>7.4</td>\n",
       "      <td>0.70</td>\n",
       "      <td>0.0</td>\n",
       "      <td>1.9</td>\n",
       "      <td>0.076</td>\n",
       "      <td>11.0</td>\n",
       "    </tr>\n",
       "    <tr>\n",
       "      <th>1</th>\n",
       "      <td>7.8</td>\n",
       "      <td>0.88</td>\n",
       "      <td>0.0</td>\n",
       "      <td>2.6</td>\n",
       "      <td>0.098</td>\n",
       "      <td>25.0</td>\n",
       "    </tr>\n",
       "  </tbody>\n",
       "</table>\n",
       "</div>"
      ],
      "text/plain": [
       "   fixed acidity  volatile acidity  citric acid  residual sugar  chlorides  \\\n",
       "0            7.4              0.70          0.0             1.9      0.076   \n",
       "1            7.8              0.88          0.0             2.6      0.098   \n",
       "\n",
       "   free sulfur dioxide  \n",
       "0                 11.0  \n",
       "1                 25.0  "
      ]
     },
     "execution_count": 44,
     "metadata": {},
     "output_type": "execute_result"
    }
   ],
   "source": [
    "print(\"BISWAYAN MEHRA \\nURK21CS1004\")\n",
    "X = data[['fixed acidity', 'volatile acidity', 'citric acid', 'residual sugar','chlorides', 'free sulfur dioxide']]\n",
    "X.head(2)"
   ]
  },
  {
   "cell_type": "code",
   "execution_count": null,
   "id": "289d2d21-0774-4a25-ac1d-6c86f2d7e54b",
   "metadata": {},
   "outputs": [],
   "source": [
    "d. Use the target variable as 'quality' ('good' and 'bad' based on score >5 and <5)"
   ]
  },
  {
   "cell_type": "code",
   "execution_count": 45,
   "id": "538ca0bc-22c6-4dc3-8a1e-99b8c2aa5e5e",
   "metadata": {
    "tags": []
   },
   "outputs": [
    {
     "name": "stdout",
     "output_type": "stream",
     "text": [
      "BISWAYAN MEHRA \n",
      "URK21CS1004\n"
     ]
    },
    {
     "data": {
      "text/plain": [
       "0     bad\n",
       "1     bad\n",
       "2     bad\n",
       "3    good\n",
       "Name: quality, dtype: object"
      ]
     },
     "execution_count": 45,
     "metadata": {},
     "output_type": "execute_result"
    }
   ],
   "source": [
    "print(\"BISWAYAN MEHRA \\nURK21CS1004\")\n",
    "y = data['quality']\n",
    "y.head(4)"
   ]
  },
  {
   "cell_type": "code",
   "execution_count": null,
   "id": "2063cceb-986e-474d-9246-dd09e8535cde",
   "metadata": {},
   "outputs": [],
   "source": [
    "e. Encode the categorical value of the target column to numerical value"
   ]
  },
  {
   "cell_type": "code",
   "execution_count": 46,
   "id": "030fa848-cfbb-4b54-a567-8c75e9414a90",
   "metadata": {
    "tags": []
   },
   "outputs": [
    {
     "name": "stdout",
     "output_type": "stream",
     "text": [
      "BISWAYAN MEHRA \n",
      "URK21CS1004\n"
     ]
    },
    {
     "data": {
      "text/plain": [
       "0    1\n",
       "1    1\n",
       "2    1\n",
       "3    0\n",
       "Name: quality, dtype: int64"
      ]
     },
     "execution_count": 46,
     "metadata": {},
     "output_type": "execute_result"
    }
   ],
   "source": [
    "print(\"BISWAYAN MEHRA \\nURK21CS1004\")\n",
    "y = y.replace({'good':0, 'bad':1})\n",
    "y.head(4)"
   ]
  },
  {
   "cell_type": "code",
   "execution_count": null,
   "id": "0db8acf0-7058-4ced-bb41-54b9a422c0d4",
   "metadata": {},
   "outputs": [],
   "source": [
    "f. Divide the data into training (75%) and testing set (25%)"
   ]
  },
  {
   "cell_type": "code",
   "execution_count": 47,
   "id": "c3791b5b-0854-4ee2-ae03-f56a28d0849b",
   "metadata": {
    "tags": []
   },
   "outputs": [
    {
     "name": "stdout",
     "output_type": "stream",
     "text": [
      "BISWAYAN MEHRA \n",
      "URK21CS1004\n"
     ]
    }
   ],
   "source": [
    "print(\"BISWAYAN MEHRA \\nURK21CS1004\")\n",
    "X_train, X_test, y_train, y_test = train_test_split(X, y, test_size=0.25, random_state=42)"
   ]
  },
  {
   "cell_type": "code",
   "execution_count": null,
   "id": "5a0fdbbe-a2b5-4ac9-8ca0-ccd61cb0027b",
   "metadata": {},
   "outputs": [],
   "source": [
    "g. Perform the classification with K=3"
   ]
  },
  {
   "cell_type": "code",
   "execution_count": 48,
   "id": "8871f406-58cd-434d-b0ba-942968d8ef81",
   "metadata": {
    "tags": []
   },
   "outputs": [
    {
     "name": "stdout",
     "output_type": "stream",
     "text": [
      "BISWAYAN MEHRA \n",
      "URK21CS1004\n"
     ]
    },
    {
     "data": {
      "text/html": [
       "<style>#sk-container-id-3 {color: black;}#sk-container-id-3 pre{padding: 0;}#sk-container-id-3 div.sk-toggleable {background-color: white;}#sk-container-id-3 label.sk-toggleable__label {cursor: pointer;display: block;width: 100%;margin-bottom: 0;padding: 0.3em;box-sizing: border-box;text-align: center;}#sk-container-id-3 label.sk-toggleable__label-arrow:before {content: \"▸\";float: left;margin-right: 0.25em;color: #696969;}#sk-container-id-3 label.sk-toggleable__label-arrow:hover:before {color: black;}#sk-container-id-3 div.sk-estimator:hover label.sk-toggleable__label-arrow:before {color: black;}#sk-container-id-3 div.sk-toggleable__content {max-height: 0;max-width: 0;overflow: hidden;text-align: left;background-color: #f0f8ff;}#sk-container-id-3 div.sk-toggleable__content pre {margin: 0.2em;color: black;border-radius: 0.25em;background-color: #f0f8ff;}#sk-container-id-3 input.sk-toggleable__control:checked~div.sk-toggleable__content {max-height: 200px;max-width: 100%;overflow: auto;}#sk-container-id-3 input.sk-toggleable__control:checked~label.sk-toggleable__label-arrow:before {content: \"▾\";}#sk-container-id-3 div.sk-estimator input.sk-toggleable__control:checked~label.sk-toggleable__label {background-color: #d4ebff;}#sk-container-id-3 div.sk-label input.sk-toggleable__control:checked~label.sk-toggleable__label {background-color: #d4ebff;}#sk-container-id-3 input.sk-hidden--visually {border: 0;clip: rect(1px 1px 1px 1px);clip: rect(1px, 1px, 1px, 1px);height: 1px;margin: -1px;overflow: hidden;padding: 0;position: absolute;width: 1px;}#sk-container-id-3 div.sk-estimator {font-family: monospace;background-color: #f0f8ff;border: 1px dotted black;border-radius: 0.25em;box-sizing: border-box;margin-bottom: 0.5em;}#sk-container-id-3 div.sk-estimator:hover {background-color: #d4ebff;}#sk-container-id-3 div.sk-parallel-item::after {content: \"\";width: 100%;border-bottom: 1px solid gray;flex-grow: 1;}#sk-container-id-3 div.sk-label:hover label.sk-toggleable__label {background-color: #d4ebff;}#sk-container-id-3 div.sk-serial::before {content: \"\";position: absolute;border-left: 1px solid gray;box-sizing: border-box;top: 0;bottom: 0;left: 50%;z-index: 0;}#sk-container-id-3 div.sk-serial {display: flex;flex-direction: column;align-items: center;background-color: white;padding-right: 0.2em;padding-left: 0.2em;position: relative;}#sk-container-id-3 div.sk-item {position: relative;z-index: 1;}#sk-container-id-3 div.sk-parallel {display: flex;align-items: stretch;justify-content: center;background-color: white;position: relative;}#sk-container-id-3 div.sk-item::before, #sk-container-id-3 div.sk-parallel-item::before {content: \"\";position: absolute;border-left: 1px solid gray;box-sizing: border-box;top: 0;bottom: 0;left: 50%;z-index: -1;}#sk-container-id-3 div.sk-parallel-item {display: flex;flex-direction: column;z-index: 1;position: relative;background-color: white;}#sk-container-id-3 div.sk-parallel-item:first-child::after {align-self: flex-end;width: 50%;}#sk-container-id-3 div.sk-parallel-item:last-child::after {align-self: flex-start;width: 50%;}#sk-container-id-3 div.sk-parallel-item:only-child::after {width: 0;}#sk-container-id-3 div.sk-dashed-wrapped {border: 1px dashed gray;margin: 0 0.4em 0.5em 0.4em;box-sizing: border-box;padding-bottom: 0.4em;background-color: white;}#sk-container-id-3 div.sk-label label {font-family: monospace;font-weight: bold;display: inline-block;line-height: 1.2em;}#sk-container-id-3 div.sk-label-container {text-align: center;}#sk-container-id-3 div.sk-container {/* jupyter's `normalize.less` sets `[hidden] { display: none; }` but bootstrap.min.css set `[hidden] { display: none !important; }` so we also need the `!important` here to be able to override the default hidden behavior on the sphinx rendered scikit-learn.org. See: https://github.com/scikit-learn/scikit-learn/issues/21755 */display: inline-block !important;position: relative;}#sk-container-id-3 div.sk-text-repr-fallback {display: none;}</style><div id=\"sk-container-id-3\" class=\"sk-top-container\"><div class=\"sk-text-repr-fallback\"><pre>KNeighborsClassifier(n_neighbors=3)</pre><b>In a Jupyter environment, please rerun this cell to show the HTML representation or trust the notebook. <br />On GitHub, the HTML representation is unable to render, please try loading this page with nbviewer.org.</b></div><div class=\"sk-container\" hidden><div class=\"sk-item\"><div class=\"sk-estimator sk-toggleable\"><input class=\"sk-toggleable__control sk-hidden--visually\" id=\"sk-estimator-id-3\" type=\"checkbox\" checked><label for=\"sk-estimator-id-3\" class=\"sk-toggleable__label sk-toggleable__label-arrow\">KNeighborsClassifier</label><div class=\"sk-toggleable__content\"><pre>KNeighborsClassifier(n_neighbors=3)</pre></div></div></div></div></div>"
      ],
      "text/plain": [
       "KNeighborsClassifier(n_neighbors=3)"
      ]
     },
     "execution_count": 48,
     "metadata": {},
     "output_type": "execute_result"
    }
   ],
   "source": [
    "print(\"BISWAYAN MEHRA \\nURK21CS1004\")\n",
    "knn = KNeighborsClassifier(n_neighbors=3)\n",
    "knn.fit(X_train, y_train)"
   ]
  },
  {
   "cell_type": "code",
   "execution_count": null,
   "id": "58d46807-7a18-4e35-87a4-729eff5d8ed3",
   "metadata": {},
   "outputs": [],
   "source": [
    "h. Analyse the performance of the classifier with various performance measures and display such as confusion matrix, accuracy, recall, precision, specificity, f-score, Receiver operating characteristic (ROC) curve and Area Under Curve (AUC) score"
   ]
  },
  {
   "cell_type": "code",
   "execution_count": 51,
   "id": "942e391b-bd4a-42fc-a5fb-aaf394663843",
   "metadata": {
    "tags": []
   },
   "outputs": [
    {
     "name": "stdout",
     "output_type": "stream",
     "text": [
      "BISWAYAN MEHRA \n",
      "URK21CS1004\n",
      "Confusion Matrix:\n",
      " [[73 61]\n",
      " [37 79]]\n",
      "Accuracy: 0.608\n",
      "Classification Report:\n",
      "               precision    recall  f1-score   support\n",
      "\n",
      "           0       0.66      0.54      0.60       134\n",
      "           1       0.56      0.68      0.62       116\n",
      "\n",
      "    accuracy                           0.61       250\n",
      "   macro avg       0.61      0.61      0.61       250\n",
      "weighted avg       0.62      0.61      0.61       250\n",
      "\n",
      "Precision: 0.5642857142857143\n",
      "Recall: 0.6810344827586207\n",
      "Specificity: 0.5447761194029851\n",
      "F-score: 0.6171874999999999\n"
     ]
    },
    {
     "data": {
      "image/png": "[encoded data removed]",
      "text/plain": [
       "<Figure size 400x400 with 1 Axes>"
      ]
     },
     "metadata": {},
     "output_type": "display_data"
    },
    {
     "name": "stdout",
     "output_type": "stream",
     "text": [
      "AUC Score: 0.6129053010808028\n"
     ]
    }
   ],
   "source": [
    "print(\"BISWAYAN MEHRA \\nURK21CS1004\")\n",
    "\n",
    "y_pred = knn.predict(X_test)\n",
    "\n",
    "conf_matrix = confusion_matrix(y_test, y_pred)\n",
    "print(\"Confusion Matrix:\\n\", conf_matrix)\n",
    "\n",
    "accuracy = accuracy_score(y_test, y_pred)\n",
    "print(\"Accuracy:\", accuracy)\n",
    "\n",
    "class_report = classification_report(y_test, y_pred)\n",
    "print(\"Classification Report:\\n\", class_report)\n",
    "\n",
    "precision = conf_matrix[1, 1] / (conf_matrix[1, 1] + conf_matrix[0, 1])\n",
    "recall = conf_matrix[1, 1] / (conf_matrix[1, 1] + conf_matrix[1, 0])\n",
    "specificity = conf_matrix[0, 0] / (conf_matrix[0, 0] + conf_matrix[0, 1])\n",
    "f_score = 2 * (precision * recall) / (precision + recall)\n",
    "\n",
    "print(\"Precision:\", precision)\n",
    "print(\"Recall:\", recall)\n",
    "print(\"Specificity:\", specificity)\n",
    "print(\"F-score:\", f1_score(y_test, y_pred))\n",
    "\n",
    "fpr, tpr, thresholds = roc_curve(y_test, knn.predict_proba(X_test)[:, 1])\n",
    "roc_auc = roc_auc_score(y_test, y_pred)\n",
    "\n",
    "plt.figure(figsize=(4, 4))\n",
    "plt.plot(fpr, tpr, color='darkorange', lw=2, label='ROC curve (area = {:.2f})'.format(roc_auc))\n",
    "plt.plot([0, 1], [0, 1], color='navy', lw=2, linestyle='--')\n",
    "plt.xlabel('False Positive Rate')\n",
    "plt.ylabel('True Positive Rate')\n",
    "plt.title('Receiver Operating Characteristic (ROC) Curve')\n",
    "plt.legend(loc=\"lower right\")\n",
    "plt.show()\n",
    "\n",
    "print(\"AUC Score:\", roc_auc)\n"
   ]
  },
  {
   "cell_type": "code",
   "execution_count": null,
   "id": "4cf629e5-859d-4328-8620-3de4cda988f0",
   "metadata": {},
   "outputs": [],
   "source": [
    "i. Change the value of K in KNN with 5,7,9,11 and tabulate the various TP, TN, accuracy, f-score and AUC score obtained"
   ]
  },
  {
   "cell_type": "code",
   "execution_count": 36,
   "id": "dd053a68-16aa-4f1c-8ba9-f4e97379a6a7",
   "metadata": {
    "tags": []
   },
   "outputs": [
    {
     "name": "stdout",
     "output_type": "stream",
     "text": [
      "BISWAYAN MEHRA \n",
      "URK21CS1004\n",
      "Confusion Matrix:\n",
      " [[68 66]\n",
      " [46 70]]\n",
      "Accuracy: 0.552\n",
      "Classification Report:\n",
      "               precision    recall  f1-score   support\n",
      "\n",
      "           0       0.60      0.51      0.55       134\n",
      "           1       0.51      0.60      0.56       116\n",
      "\n",
      "    accuracy                           0.55       250\n",
      "   macro avg       0.56      0.56      0.55       250\n",
      "weighted avg       0.56      0.55      0.55       250\n",
      "\n",
      "AUC Score: 0.5554554812146166\n",
      "Confusion Matrix:\n",
      " [[64 70]\n",
      " [43 73]]\n",
      "Accuracy: 0.548\n",
      "Classification Report:\n",
      "               precision    recall  f1-score   support\n",
      "\n",
      "           0       0.60      0.48      0.53       134\n",
      "           1       0.51      0.63      0.56       116\n",
      "\n",
      "    accuracy                           0.55       250\n",
      "   macro avg       0.55      0.55      0.55       250\n",
      "weighted avg       0.56      0.55      0.55       250\n",
      "\n",
      "AUC Score: 0.5534611425630469\n",
      "Confusion Matrix:\n",
      " [[68 66]\n",
      " [42 74]]\n",
      "Accuracy: 0.568\n",
      "Classification Report:\n",
      "               precision    recall  f1-score   support\n",
      "\n",
      "           0       0.62      0.51      0.56       134\n",
      "           1       0.53      0.64      0.58       116\n",
      "\n",
      "    accuracy                           0.57       250\n",
      "   macro avg       0.57      0.57      0.57       250\n",
      "weighted avg       0.58      0.57      0.57       250\n",
      "\n",
      "AUC Score: 0.5726968605249615\n",
      "Confusion Matrix:\n",
      " [[73 61]\n",
      " [47 69]]\n",
      "Accuracy: 0.568\n",
      "Classification Report:\n",
      "               precision    recall  f1-score   support\n",
      "\n",
      "           0       0.61      0.54      0.57       134\n",
      "           1       0.53      0.59      0.56       116\n",
      "\n",
      "    accuracy                           0.57       250\n",
      "   macro avg       0.57      0.57      0.57       250\n",
      "weighted avg       0.57      0.57      0.57       250\n",
      "\n",
      "AUC Score: 0.5698018528049409\n"
     ]
    }
   ],
   "source": [
    "print(\"BISWAYAN MEHRA \\nURK21CS1004\")\n",
    "for i in [5,7,9,11]:\n",
    "    knn = KNeighborsClassifier(n_neighbors=i)\n",
    "    knn.fit(X_train, y_train)\n",
    "    y_pred = knn.predict(X_test)\n",
    "    print(\"Confusion Matrix:\\n\", confusion_matrix(y_test, y_pred))\n",
    "    print(\"Accuracy:\", accuracy_score(y_test, y_pred))\n",
    "    print(\"Classification Report:\\n\", classification_report(y_test, y_pred))\n",
    "    print(\"AUC Score:\", roc_auc_score(y_test, y_pred))"
   ]
  },
  {
   "cell_type": "code",
   "execution_count": null,
   "id": "bb6426d6-7d8e-43ce-92d5-ae24ccd95af3",
   "metadata": {},
   "outputs": [],
   "source": [
    "j. Analyse and infer for which K value, the classification algorithm provides better performance."
   ]
  },
  {
   "cell_type": "code",
   "execution_count": null,
   "id": "45798894-81c0-46de-88b8-b13e8e7ce44c",
   "metadata": {
    "tags": []
   },
   "outputs": [],
   "source": [
    "print(\"BISWAYAN MEHRA \\nURK21CS1004\")\n",
    "The K value of n_neighbors = 9 provides better performance for the classification algorithm. This conclusion is based on the higher accuracy (0.568) and higher AUC score (0.5727) compared to the other tested K values (5, 7, and 11)."
   ]
  },
  {
   "cell_type": "code",
   "execution_count": null,
   "id": "029f9c23-28ac-4de0-aa5d-1719a392336a",
   "metadata": {},
   "outputs": [],
   "source": [
    "RESULT:\n",
    "    Thus, the programs To demonstrate Performance Analysis on KNN Classification Technique using Python was executed and verified successfully."
   ]
  }
 ],
 "metadata": {
  "kernelspec": {
   "display_name": "Python 3 (ipykernel)",
   "language": "python",
   "name": "python3"
  },
  "language_info": {
   "codemirror_mode": {
    "name": "ipython",
    "version": 3
   },
   "file_extension": ".py",
   "mimetype": "text/x-python",
   "name": "python",
   "nbconvert_exporter": "python",
   "pygments_lexer": "ipython3",
   "version": "3.10.12"
  }
 },
 "nbformat": 4,
 "nbformat_minor": 5
}
