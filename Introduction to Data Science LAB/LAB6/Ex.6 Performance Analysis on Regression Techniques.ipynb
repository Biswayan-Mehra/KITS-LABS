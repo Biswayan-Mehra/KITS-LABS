{
 "cells": [
  {
   "cell_type": "code",
   "execution_count": null,
   "id": "b823bad4-9b62-4026-b349-3c2a81e9f6af",
   "metadata": {},
   "outputs": [],
   "source": [
    "URK21CS1004                                                          20/09/2023"
   ]
  },
  {
   "cell_type": "code",
   "execution_count": null,
   "id": "0c6e88a2-3534-4535-ae31-66147114f672",
   "metadata": {},
   "outputs": [],
   "source": [
    "AIM: To demonstrate performance analysis using regression techniques."
   ]
  },
  {
   "cell_type": "code",
   "execution_count": null,
   "id": "29fa5d99-80b6-4498-9cab-8bf354ed69d2",
   "metadata": {},
   "outputs": [],
   "source": [
    "DESCRIPTION:\n",
    "    In statistical modeling, regression analysis is a set of statistical processes for estimating the relationships between a dependent variable and one or more independent variables. The most common form of regression analysis is linear regression, in which one finds the line that most closely fits the data according to a specific mathematical criterion.\n",
    "Performance Analysis of Regression Techniques:\n",
    "    Mean Squared Error (MSE):\n",
    "        - Measures the average squared difference between actual and predicted values.\n",
    "        - Larger errors are penalized more due to squaring.\n",
    "        - Not robust to outliers.\n",
    "        - MSE = Σ(y - ŷ)^2 / n\n",
    "    Mean Absolute Error (MAE):\n",
    "        - Measures the average absolute difference between actual and predicted values.\n",
    "        - Provides a more balanced view of errors.\n",
    "        - Robust to outliers.\n",
    "        - MAE = Σ|y - ŷ| / n\n",
    "    Root Mean Squared Error (RMSE):\n",
    "        - RMSE is the square root of MSE.\n",
    "        - Provides a measure in the same units as the target variable.\n",
    "        - Helps in interpreting the error more intuitively.\n",
    "        - RMSE = √(Σ(y - ŷ)^2 / n)\n",
    "    R-Squared (R2) or Coefficient of Determination:\n",
    "        - Represents the proportion of variance in the dependent variable explained by the independent variables.\n",
    "        - Ranges from 0 to 1, where 1 indicates a perfect fit.\n",
    "        - Useful for comparing different models.\n",
    "        - R2 = 1 - (Σ(y - ŷ)^2 / Σ(y - ȳ)^2)\n",
    "    Linear Regression:\n",
    "        b0 = (Σy - b1Σx) / n\n",
    "        b1 = (Σxy - nΣxy) / (Σx^2 - n(x)^2)"
   ]
  },
  {
   "cell_type": "code",
   "execution_count": null,
   "id": "4eedde2c-4388-4dcf-bf37-ecffe8316daa",
   "metadata": {},
   "outputs": [],
   "source": [
    "PROGRAMS:"
   ]
  },
  {
   "cell_type": "code",
   "execution_count": 16,
   "id": "6603079d-54ce-4ac5-80b6-15abbe9f23cb",
   "metadata": {},
   "outputs": [],
   "source": [
    "import pandas as pd\n",
    "import numpy as np\n",
    "import math\n",
    "import scipy.stats as stats\n",
    "import matplotlib.pyplot as plt\n",
    "import sklearn\n",
    "from sklearn.linear_model import LinearRegression\n",
    "from sklearn.model_selection import train_test_split\n",
    "from sklearn.metrics import mean_absolute_error, mean_squared_error, r2_score"
   ]
  },
  {
   "cell_type": "code",
   "execution_count": null,
   "id": "034dfb9a-50fd-4c29-8835-4fbe4b33a79b",
   "metadata": {},
   "outputs": [],
   "source": [
    "1. Develop the linear regression model for the given data by step-by-step manual procedure."
   ]
  },
  {
   "cell_type": "code",
   "execution_count": 17,
   "id": "a16ce832-4f90-459c-9228-2a0e1908dc81",
   "metadata": {
    "tags": []
   },
   "outputs": [
    {
     "name": "stdout",
     "output_type": "stream",
     "text": [
      "BISWAYAN MEHRA \n",
      "URK21CS1004\n"
     ]
    },
    {
     "data": {
      "text/html": [
       "<div>\n",
       "<style scoped>\n",
       "    .dataframe tbody tr th:only-of-type {\n",
       "        vertical-align: middle;\n",
       "    }\n",
       "\n",
       "    .dataframe tbody tr th {\n",
       "        vertical-align: top;\n",
       "    }\n",
       "\n",
       "    .dataframe thead th {\n",
       "        text-align: right;\n",
       "    }\n",
       "</style>\n",
       "<table border=\"1\" class=\"dataframe\">\n",
       "  <thead>\n",
       "    <tr style=\"text-align: right;\">\n",
       "      <th></th>\n",
       "      <th>Subject</th>\n",
       "      <th>Age X</th>\n",
       "      <th>Glucose Level Y</th>\n",
       "    </tr>\n",
       "  </thead>\n",
       "  <tbody>\n",
       "    <tr>\n",
       "      <th>0</th>\n",
       "      <td>1</td>\n",
       "      <td>43</td>\n",
       "      <td>99</td>\n",
       "    </tr>\n",
       "    <tr>\n",
       "      <th>1</th>\n",
       "      <td>2</td>\n",
       "      <td>21</td>\n",
       "      <td>65</td>\n",
       "    </tr>\n",
       "    <tr>\n",
       "      <th>2</th>\n",
       "      <td>3</td>\n",
       "      <td>25</td>\n",
       "      <td>79</td>\n",
       "    </tr>\n",
       "    <tr>\n",
       "      <th>3</th>\n",
       "      <td>4</td>\n",
       "      <td>42</td>\n",
       "      <td>75</td>\n",
       "    </tr>\n",
       "    <tr>\n",
       "      <th>4</th>\n",
       "      <td>5</td>\n",
       "      <td>57</td>\n",
       "      <td>87</td>\n",
       "    </tr>\n",
       "    <tr>\n",
       "      <th>5</th>\n",
       "      <td>6</td>\n",
       "      <td>59</td>\n",
       "      <td>81</td>\n",
       "    </tr>\n",
       "  </tbody>\n",
       "</table>\n",
       "</div>"
      ],
      "text/plain": [
       "   Subject  Age X  Glucose Level Y\n",
       "0        1     43               99\n",
       "1        2     21               65\n",
       "2        3     25               79\n",
       "3        4     42               75\n",
       "4        5     57               87\n",
       "5        6     59               81"
      ]
     },
     "execution_count": 17,
     "metadata": {},
     "output_type": "execute_result"
    }
   ],
   "source": [
    "print(\"BISWAYAN MEHRA \\nURK21CS1004\")\n",
    "df = pd.DataFrame({'Subject': [1, 2, 3, 4, 5, 6], 'Age X':[43, 21, 25, 42, 57, 59], 'Glucose Level Y':[99, 65, 79, 75, 87, 81]})\n",
    "df"
   ]
  },
  {
   "cell_type": "code",
   "execution_count": null,
   "id": "2338de61-59d8-407e-b720-2e35f4e1858f",
   "metadata": {},
   "outputs": [],
   "source": [
    "a. Calculate the intercept and regression coefficients in y=b0+xb1"
   ]
  },
  {
   "cell_type": "code",
   "execution_count": 18,
   "id": "5f055a12-1d11-4430-994a-fd496fc9b2ee",
   "metadata": {
    "tags": []
   },
   "outputs": [
    {
     "name": "stdout",
     "output_type": "stream",
     "text": [
      "BISWAYAN MEHRA \n",
      "URK21CS1004\n",
      "y =  65.1415715245131 + x 0.3852249832102082\n"
     ]
    }
   ],
   "source": [
    "print(\"BISWAYAN MEHRA \\nURK21CS1004\")\n",
    "x = df['Age X']\n",
    "y = df['Glucose Level Y']\n",
    "sx = np.sum(x)\n",
    "sy = np.sum(y)\n",
    "n = np.size(x)\n",
    "sx2 = np.sum(x*x)\n",
    "sxy = np.sum(x*y)\n",
    "b1 = (n*sxy - sx*sy) / (n*sx2 - (sx)**2)\n",
    "b0 = np.mean(y) - b1 * np.mean(x)\n",
    "y_pred = b0 + x*b1\n",
    "print(\"y = \",b0,\"+ x\",b1)"
   ]
  },
  {
   "cell_type": "code",
   "execution_count": null,
   "id": "e2fa7d3f-13d4-4cbe-b480-833b9fae5b2e",
   "metadata": {},
   "outputs": [],
   "source": [
    "b. Analyse the various performance metrics (Mean Squared Error, Mean Absolute Error, Root Mean Squared Error, and R-Squared)"
   ]
  },
  {
   "cell_type": "code",
   "execution_count": 19,
   "id": "3aa64009-9f1e-4479-a61b-f2de97637267",
   "metadata": {
    "tags": []
   },
   "outputs": [
    {
     "name": "stdout",
     "output_type": "stream",
     "text": [
      "BISWAYAN MEHRA \n",
      "URK21CS1004\n",
      "Mean Absolute Error :  7.173852697559885\n",
      "Mean Squared Error :  78.64374300425344\n",
      "Root Mean Squared Error :  8.86813075029081\n",
      "R2_error :  0.2806974725220722\n"
     ]
    }
   ],
   "source": [
    "print(\"BISWAYAN MEHRA \\nURK21CS1004\")\n",
    "print(\"Mean Absolute Error : \", mean_absolute_error(y, y_pred))\n",
    "print(\"Mean Squared Error : \",mean_squared_error(y, y_pred))\n",
    "print(\"Root Mean Squared Error : \",math.sqrt(mean_squared_error(y, y_pred)))\n",
    "print(\"R2_error : \", r2_score(y, y_pred))"
   ]
  },
  {
   "cell_type": "code",
   "execution_count": null,
   "id": "3e86395c-3e06-45b7-9721-2b3935ef8886",
   "metadata": {},
   "outputs": [],
   "source": [
    "2. Develop the linear regression model for the prediction of Graduate Admissions from an Indian perspective in-terms of GRE Scores, LOR, CGPA using the scikit-learn"
   ]
  },
  {
   "cell_type": "code",
   "execution_count": 20,
   "id": "d663aa80-9609-49d5-868a-7fcde3f0997a",
   "metadata": {
    "tags": []
   },
   "outputs": [
    {
     "name": "stdout",
     "output_type": "stream",
     "text": [
      "BISWAYAN MEHRA \n",
      "URK21CS1004\n"
     ]
    },
    {
     "data": {
      "text/html": [
       "<div>\n",
       "<style scoped>\n",
       "    .dataframe tbody tr th:only-of-type {\n",
       "        vertical-align: middle;\n",
       "    }\n",
       "\n",
       "    .dataframe tbody tr th {\n",
       "        vertical-align: top;\n",
       "    }\n",
       "\n",
       "    .dataframe thead th {\n",
       "        text-align: right;\n",
       "    }\n",
       "</style>\n",
       "<table border=\"1\" class=\"dataframe\">\n",
       "  <thead>\n",
       "    <tr style=\"text-align: right;\">\n",
       "      <th></th>\n",
       "      <th>Serial No.</th>\n",
       "      <th>GRE Score</th>\n",
       "      <th>TOEFL Score</th>\n",
       "      <th>University Rating</th>\n",
       "      <th>SOP</th>\n",
       "      <th>LOR</th>\n",
       "      <th>CGPA</th>\n",
       "      <th>Research</th>\n",
       "      <th>Chance of Admit</th>\n",
       "    </tr>\n",
       "  </thead>\n",
       "  <tbody>\n",
       "    <tr>\n",
       "      <th>0</th>\n",
       "      <td>1</td>\n",
       "      <td>337</td>\n",
       "      <td>118</td>\n",
       "      <td>4</td>\n",
       "      <td>4.5</td>\n",
       "      <td>4.5</td>\n",
       "      <td>9.65</td>\n",
       "      <td>1</td>\n",
       "      <td>0.92</td>\n",
       "    </tr>\n",
       "    <tr>\n",
       "      <th>1</th>\n",
       "      <td>2</td>\n",
       "      <td>324</td>\n",
       "      <td>107</td>\n",
       "      <td>4</td>\n",
       "      <td>4.0</td>\n",
       "      <td>4.5</td>\n",
       "      <td>8.87</td>\n",
       "      <td>1</td>\n",
       "      <td>0.76</td>\n",
       "    </tr>\n",
       "    <tr>\n",
       "      <th>2</th>\n",
       "      <td>3</td>\n",
       "      <td>316</td>\n",
       "      <td>104</td>\n",
       "      <td>3</td>\n",
       "      <td>3.0</td>\n",
       "      <td>3.5</td>\n",
       "      <td>8.00</td>\n",
       "      <td>1</td>\n",
       "      <td>0.72</td>\n",
       "    </tr>\n",
       "    <tr>\n",
       "      <th>3</th>\n",
       "      <td>4</td>\n",
       "      <td>322</td>\n",
       "      <td>110</td>\n",
       "      <td>3</td>\n",
       "      <td>3.5</td>\n",
       "      <td>2.5</td>\n",
       "      <td>8.67</td>\n",
       "      <td>1</td>\n",
       "      <td>0.80</td>\n",
       "    </tr>\n",
       "  </tbody>\n",
       "</table>\n",
       "</div>"
      ],
      "text/plain": [
       "   Serial No.  GRE Score  TOEFL Score  University Rating  SOP  LOR   CGPA  \\\n",
       "0           1        337          118                  4  4.5   4.5  9.65   \n",
       "1           2        324          107                  4  4.0   4.5  8.87   \n",
       "2           3        316          104                  3  3.0   3.5  8.00   \n",
       "3           4        322          110                  3  3.5   2.5  8.67   \n",
       "\n",
       "   Research  Chance of Admit   \n",
       "0         1              0.92  \n",
       "1         1              0.76  \n",
       "2         1              0.72  \n",
       "3         1              0.80  "
      ]
     },
     "execution_count": 20,
     "metadata": {},
     "output_type": "execute_result"
    }
   ],
   "source": [
    "print(\"BISWAYAN MEHRA \\nURK21CS1004\")\n",
    "df = pd.read_csv('Admission.csv')\n",
    "y = df['Chance of Admit ']\n",
    "x = df[['GRE Score','LOR ', 'CGPA']]\n",
    "df.head(4)"
   ]
  },
  {
   "cell_type": "code",
   "execution_count": null,
   "id": "39ce8ae0-c205-4661-8d90-cbdbc6d01757",
   "metadata": {},
   "outputs": [],
   "source": [
    "a. Divide the data into training (75%) and testing set (25%)"
   ]
  },
  {
   "cell_type": "code",
   "execution_count": 21,
   "id": "6395bf3a-4bd6-4b93-bb03-a8fc67274875",
   "metadata": {
    "tags": []
   },
   "outputs": [
    {
     "name": "stdout",
     "output_type": "stream",
     "text": [
      "BISWAYAN MEHRA \n",
      "URK21CS1004\n"
     ]
    }
   ],
   "source": [
    "print(\"BISWAYAN MEHRA \\nURK21CS1004\")\n",
    "x_train, x_test, y_train, y_test = train_test_split(x, y, test_size = 0.25,random_state=1)"
   ]
  },
  {
   "cell_type": "code",
   "execution_count": null,
   "id": "d903050a-df33-40c9-90b0-3e49f10674a5",
   "metadata": {},
   "outputs": [],
   "source": [
    "b. Display the intercept and regression coefficients for the following cases\n",
    "    1. Analyse the impact of GRE scores to the Chance of Admit\n",
    "    2. Analyse the impact of LOR to the Chance of Admit\n",
    "    3. Analyse the impact of CGPA to the Chance of Admit"
   ]
  },
  {
   "cell_type": "code",
   "execution_count": 25,
   "id": "c56f29d8-63e7-4d73-a87b-44a136ab7430",
   "metadata": {
    "tags": []
   },
   "outputs": [
    {
     "name": "stdout",
     "output_type": "stream",
     "text": [
      "BISWAYAN MEHRA \n",
      "URK21CS1004\n",
      "GRE Intercept: \n",
      " -2.4523042136228788 Regression coef:  0.010041674366200643\n",
      "LOR Intercept: \n",
      " 0.3966243656844233 Regression coef:  0.09357371603374526\n",
      "CGPA Intercept: \n",
      " -1.0435958755937387 Regression coef:  0.20599060928291213\n",
      "CGPA has the highest impact, as its coefficient has the highest weight\n"
     ]
    }
   ],
   "source": [
    "print(\"BISWAYAN MEHRA \\nURK21CS1004\")\n",
    "m_gre = LinearRegression()\n",
    "m_gre.fit(np.array(x_train['GRE Score']).reshape(-1, 1), y_train)\n",
    "print(\"GRE Intercept: \\n\", m_gre.intercept_, \"Regression coef: \", m_gre.coef_[0])\n",
    "m_lor = LinearRegression()\n",
    "m_lor.fit(np.array(x_train['LOR ']).reshape(-1, 1), y_train)\n",
    "print(\"LOR Intercept: \\n\", m_lor.intercept_, \"Regression coef: \", m_lor.coef_[0])\n",
    "m_cgpa = LinearRegression()\n",
    "m_cgpa.fit(np.array(x_train['CGPA']).reshape(-1, 1), y_train)\n",
    "print(\"CGPA Intercept: \\n\", m_cgpa.intercept_, \"Regression coef: \", m_cgpa.coef_[0])\n",
    "print(\"CGPA has the highest impact, as its coefficient has the highest weight\")"
   ]
  },
  {
   "cell_type": "code",
   "execution_count": null,
   "id": "64053d74-6cb5-42a7-9fe9-2ccdbe030618",
   "metadata": {},
   "outputs": [],
   "source": [
    "c. Predict the y value (y') for the testing set (x) and analyse the performance metrics with the actual value (y) and predicted values (y') for the above 3 cases"
   ]
  },
  {
   "cell_type": "code",
   "execution_count": 23,
   "id": "58aa1547-e19e-4662-ab79-7591a233193b",
   "metadata": {
    "tags": []
   },
   "outputs": [
    {
     "name": "stdout",
     "output_type": "stream",
     "text": [
      "BISWAYAN MEHRA \n",
      "URK21CS1004\n",
      "\n",
      "GRE\n",
      "Mean Absolute Error :  0.06264911695468028\n",
      "Mean Squared Error :  0.007625959038844998\n",
      "Root Mean Squared Error :  0.08732673725065536\n",
      "R2_error :  0.6260055317126945\n",
      "\n",
      "LOR\n",
      "Mean Absolute Error :  0.08129920544256705\n",
      "Mean Squared Error :  0.010893335796659088\n",
      "Root Mean Squared Error :  0.1043711444636835\n",
      "R2_error :  0.4657659045381354\n",
      "\n",
      "CGPA\n",
      "Mean Absolute Error :  0.04514566173687265\n",
      "Mean Squared Error :  0.004336070707235971\n",
      "Root Mean Squared Error :  0.06584884742526607\n",
      "R2_error :  0.7873491779396589\n",
      "CGPA will have the highest impact on the Chance of Admission, as its R2 error is closest to 1\n"
     ]
    }
   ],
   "source": [
    "print(\"BISWAYAN MEHRA \\nURK21CS1004\")\n",
    "y_pred = m_gre.predict(np.array(x_test['GRE Score']).reshape(-1,1))\n",
    "print(\"\\nGRE\")\n",
    "print(\"Mean Absolute Error : \", mean_absolute_error(y_test, y_pred))\n",
    "print(\"Mean Squared Error : \",mean_squared_error(y_test, y_pred))\n",
    "print(\"Root Mean Squared Error : \",math.sqrt(mean_squared_error(y_test, y_pred)))\n",
    "print(\"R2_error : \", r2_score(y_test, y_pred))\n",
    "y_pred = m_lor.predict(np.array(x_test['LOR ']).reshape(-1,1))\n",
    "print(\"\\nLOR\")\n",
    "print(\"Mean Absolute Error : \", mean_absolute_error(y_test, y_pred))\n",
    "print(\"Mean Squared Error : \",mean_squared_error(y_test, y_pred))\n",
    "print(\"Root Mean Squared Error : \",math.sqrt(mean_squared_error(y_test, y_pred)))\n",
    "print(\"R2_error : \", r2_score(y_test, y_pred))\n",
    "y_pred = m_cgpa.predict(np.array(x_test['CGPA']).reshape(-1,1))\n",
    "print(\"\\nCGPA\")\n",
    "print(\"Mean Absolute Error : \", mean_absolute_error(y_test, y_pred))\n",
    "print(\"Mean Squared Error : \",mean_squared_error(y_test, y_pred))\n",
    "print(\"Root Mean Squared Error : \",math.sqrt(mean_squared_error(y_test,y_pred)))\n",
    "print(\"R2_error : \", r2_score(y_test, y_pred))\n",
    "print(\"CGPA will have the highest impact on the Chance of Admission, as its R2 error is closest to 1\")"
   ]
  },
  {
   "cell_type": "code",
   "execution_count": null,
   "id": "d1b77e5c-2095-4f03-9492-5598293f86fc",
   "metadata": {},
   "outputs": [],
   "source": [
    "d. Identify the input parameter that has a greater impact in the prediction of Graduate Admissions from an Indian perspective"
   ]
  },
  {
   "cell_type": "code",
   "execution_count": 21,
   "id": "64cd2500-6576-4fda-b595-03d9aeab3f5f",
   "metadata": {
    "tags": []
   },
   "outputs": [
    {
     "name": "stdout",
     "output_type": "stream",
     "text": [
      "BISWAYAN MEHRA \n",
      "URK21CS1004\n",
      "Intercept :  -1.5752319171346554\n",
      "Coefficient of GRE :  0.0034347231307627784\n",
      "Coefficient of LOR :  0.017851154970096067\n",
      "Coefficient of CGPA :  0.13404573719036916\n",
      "CGPA has the highest impact on the Chance of Admission, because its coefficient has the highest weight\n"
     ]
    }
   ],
   "source": [
    "print(\"BISWAYAN MEHRA \\nURK21CS1004\")\n",
    "model = LinearRegression()\n",
    "model.fit(x_train, y_train)\n",
    "i = model.intercept_\n",
    "coefs = model.coef_\n",
    "print(\"Intercept : \", i)\n",
    "print(\"Coefficient of GRE : \", coefs[0])\n",
    "print(\"Coefficient of LOR : \", coefs[1])\n",
    "print(\"Coefficient of CGPA : \", coefs[2])\n",
    "print(\"CGPA has the highest impact on the Chance of Admission, because its coefficient has the highest weight\")"
   ]
  },
  {
   "cell_type": "code",
   "execution_count": null,
   "id": "31d2d4a4-8cf1-45a0-b475-a700a9ed1c1a",
   "metadata": {},
   "outputs": [],
   "source": [
    "e. Plot the regression line for the input parameter that has a greater impact in the prediction of Graduate Admissions from an Indian perspective"
   ]
  },
  {
   "cell_type": "code",
   "execution_count": 26,
   "id": "1e933202-21eb-4525-a8cd-fb9c49269927",
   "metadata": {
    "tags": []
   },
   "outputs": [
    {
     "name": "stdout",
     "output_type": "stream",
     "text": [
      "BISWAYAN MEHRA \n",
      "URK21CS1004\n"
     ]
    },
    {
     "data": {
      "image/png": "[encoded data removed]",
      "text/plain": [
       "<Figure size 640x480 with 1 Axes>"
      ]
     },
     "metadata": {},
     "output_type": "display_data"
    }
   ],
   "source": [
    "print(\"BISWAYAN MEHRA \\nURK21CS1004\")\n",
    "y_pred = m_cgpa.predict(np.array(x_test['CGPA']).reshape(-1,1))\n",
    "plt.scatter(x['CGPA'],y, marker='*',c='green')\n",
    "plt.plot(x_test['CGPA'], y_pred, c='red')\n",
    "plt.xlabel('CGPA')\n",
    "plt.ylabel('Chance of Admission')\n",
    "plt.show()"
   ]
  },
  {
   "cell_type": "code",
   "execution_count": null,
   "id": "8042eec0-0122-456f-99e0-3fed28ec4695",
   "metadata": {},
   "outputs": [],
   "source": [
    "RESULT: \n",
    "    Thus, the programs to demonstrate performance analysis using regression techniques was executed and verified successfully."
   ]
  }
 ],
 "metadata": {
  "kernelspec": {
   "display_name": "Python 3 (ipykernel)",
   "language": "python",
   "name": "python3"
  },
  "language_info": {
   "codemirror_mode": {
    "name": "ipython",
    "version": 3
   },
   "file_extension": ".py",
   "mimetype": "text/x-python",
   "name": "python",
   "nbconvert_exporter": "python",
   "pygments_lexer": "ipython3",
   "version": "3.10.12"
  }
 },
 "nbformat": 4,
 "nbformat_minor": 5
}
