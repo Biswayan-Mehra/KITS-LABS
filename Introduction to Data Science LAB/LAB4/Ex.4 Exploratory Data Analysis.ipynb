{
 "cells": [
  {
   "cell_type": "code",
   "execution_count": null,
   "id": "649162a4-cc1d-44e5-acea-784401bf2e58",
   "metadata": {},
   "outputs": [],
   "source": [
    "URK21CS1004                                                          09/08/2023"
   ]
  },
  {
   "cell_type": "code",
   "execution_count": null,
   "id": "26a90f6d-cb66-49b1-b449-31c2f345b73c",
   "metadata": {},
   "outputs": [],
   "source": [
    "AIM:\n",
    "    The aim of this experiment is to perform exploratory data analysis using Python on a given dataset to gain insights into its structure, distribution, and relationships among variables."
   ]
  },
  {
   "cell_type": "code",
   "execution_count": null,
   "id": "ecec3448-ea0d-41fb-affd-b35ce81ed135",
   "metadata": {},
   "outputs": [],
   "source": [
    "DESCRIPTION:\n",
    "    Exploratory Data Analysis (EDA) is a crucial preliminary step in data analysis that involves visually and statistically summarizing a dataset to uncover its underlying patterns, trends, anomalies, and potential insights. EDA provides a foundation for informed decision-making and hypothesis generation.\n",
    "    \n",
    "    Data Preprocessing:\n",
    "    - Eliminated 'Color' column with no analysis value.\n",
    "    - Removed duplicates to streamline the dataset.\n",
    "\n",
    "    Column Renaming:\n",
    "    - Renamed 'class' to 'Category' for clarity.\n",
    "\n",
    "    Central Tendency Analysis:\n",
    "    - Analyzed 'Score' column's central value and distribution.\n",
    "\n",
    "    Variability Assessment:\n",
    "    - Explored 'Score' spread using standard deviation.\n",
    "\n",
    "    Spread Measurement:\n",
    "    - Quantified spread via interquartile range (IQR).\n",
    "\n",
    "    Standardized Representation:\n",
    "    - Calculated z-scores to identify significant deviations.\n",
    "\n",
    "    Data Expansion:\n",
    "    - Added rows with predefined attributes.\n",
    "\n",
    "    Data Completion:\n",
    "    - Imputed 'petalwidth' using various strategies.\n",
    "\n",
    "    Visualizing Distribution and Outliers:\n",
    "    - Used plots to detect outliers and visualize distribution.\n",
    "\n",
    "    Outlier Identification: IQR Approach:\n",
    "    - Detected outliers using IQR method.\n",
    "\n",
    "    Outlier Identification: Z-Score Approach:\n",
    "    - Identified outliers with z-scores.\n",
    "\n",
    "    Correlation Exploration:\n",
    "    - Visualized variable relationships through a heatmap.\n",
    "\n",
    "    Data Removal and Restoration:\n",
    "    - Reverted dataset to original state by removing rows.\n"
   ]
  },
  {
   "cell_type": "code",
   "execution_count": null,
   "id": "da980b9d-6f4e-4fbe-a114-cd3992a538be",
   "metadata": {},
   "outputs": [],
   "source": [
    "PROGRAMS:"
   ]
  },
  {
   "cell_type": "code",
   "execution_count": 182,
   "id": "e6d2694e-5543-4484-a51f-0f79f938cbef",
   "metadata": {},
   "outputs": [],
   "source": [
    "import pandas as pd\n",
    "import numpy as np\n",
    "import matplotlib.pyplot as plt\n",
    "df = pd.read_csv(\"iris_EDA.csv\")"
   ]
  },
  {
   "cell_type": "code",
   "execution_count": null,
   "id": "0bf26a4d-1627-4f9f-bbad-52a16d010013",
   "metadata": {},
   "outputs": [],
   "source": [
    "1. Remove the irrelevant column 'Color' (inplace=True)"
   ]
  },
  {
   "cell_type": "code",
   "execution_count": 183,
   "id": "d5f8fe24-7dfc-462b-b38f-63e53b77d926",
   "metadata": {},
   "outputs": [
    {
     "name": "stdout",
     "output_type": "stream",
     "text": [
      "BISWAYAN MEHRA \n",
      "URK21CS1004\n",
      "Index(['sepallength', 'sepalwidth', 'petallength', 'petalwidth', 'class',\n",
      "       'Name', 'Score'],\n",
      "      dtype='object')\n"
     ]
    }
   ],
   "source": [
    "print(\"BISWAYAN MEHRA \\nURK21CS1004\")\n",
    "df.drop(columns=['Color'], inplace=True)\n",
    "print(df.columns)"
   ]
  },
  {
   "cell_type": "code",
   "execution_count": null,
   "id": "9feaa7d8-8b9d-460e-be9e-96ef30bf0d6b",
   "metadata": {},
   "outputs": [],
   "source": [
    "2. Remove the duplicate rows and analyze"
   ]
  },
  {
   "cell_type": "code",
   "execution_count": 184,
   "id": "3b507490-7816-4bc9-9461-c638e7e6584a",
   "metadata": {},
   "outputs": [
    {
     "name": "stdout",
     "output_type": "stream",
     "text": [
      "BISWAYAN MEHRA \n",
      "URK21CS1004\n",
      "Number of duplicate rows removed: 1\n"
     ]
    }
   ],
   "source": [
    "print(\"BISWAYAN MEHRA \\nURK21CS1004\")\n",
    "original_count = len(df)\n",
    "df.drop_duplicates(inplace=True)\n",
    "duplicate_count = original_count - len(df)\n",
    "print(\"Number of duplicate rows removed:\", duplicate_count)"
   ]
  },
  {
   "cell_type": "code",
   "execution_count": null,
   "id": "e338fda3-9822-480c-bff0-37d05cd6a06a",
   "metadata": {},
   "outputs": [],
   "source": [
    "3. Rename the column class to Category"
   ]
  },
  {
   "cell_type": "code",
   "execution_count": 185,
   "id": "220ca034-0088-4365-8361-eb926a30467f",
   "metadata": {},
   "outputs": [
    {
     "name": "stdout",
     "output_type": "stream",
     "text": [
      "BISWAYAN MEHRA \n",
      "URK21CS1004\n",
      "Index(['sepallength', 'sepalwidth', 'petallength', 'petalwidth', 'Category',\n",
      "       'Name', 'Score'],\n",
      "      dtype='object')\n"
     ]
    }
   ],
   "source": [
    "print(\"BISWAYAN MEHRA \\nURK21CS1004\")\n",
    "df.rename(columns={'class': 'Category'}, inplace=True)\n",
    "print(df.columns)"
   ]
  },
  {
   "cell_type": "code",
   "execution_count": null,
   "id": "1bda5610-e852-4b62-8065-f76162cf3840",
   "metadata": {},
   "outputs": [],
   "source": [
    "4. Calculate the central tendency measures for 'Score'"
   ]
  },
  {
   "cell_type": "code",
   "execution_count": 186,
   "id": "10f44bc9-fa50-4542-bae0-842b7563effb",
   "metadata": {},
   "outputs": [
    {
     "name": "stdout",
     "output_type": "stream",
     "text": [
      "BISWAYAN MEHRA \n",
      "URK21CS1004\n",
      "count    23.000000\n",
      "mean     20.956522\n",
      "std       5.732509\n",
      "min      11.000000\n",
      "25%      16.500000\n",
      "50%      22.000000\n",
      "75%      25.000000\n",
      "max      30.000000\n",
      "Name: Score, dtype: float64\n"
     ]
    }
   ],
   "source": [
    "print(\"BISWAYAN MEHRA \\nURK21CS1004\")\n",
    "central_tendency = df['Score'].describe()\n",
    "print(central_tendency)"
   ]
  },
  {
   "cell_type": "code",
   "execution_count": null,
   "id": "6a9d3744-8c65-4d0f-bb72-94af3f0c14b2",
   "metadata": {},
   "outputs": [],
   "source": [
    "5. Calculate the variability measures for 'Score'"
   ]
  },
  {
   "cell_type": "code",
   "execution_count": 187,
   "id": "84c2ce83-f04d-4ca4-b693-5c58c1e60a53",
   "metadata": {},
   "outputs": [
    {
     "name": "stdout",
     "output_type": "stream",
     "text": [
      "BISWAYAN MEHRA \n",
      "URK21CS1004\n",
      "5.732509056168284\n"
     ]
    }
   ],
   "source": [
    "print(\"BISWAYAN MEHRA \\nURK21CS1004\")\n",
    "variability_measures = df['Score'].std()\n",
    "print(variability_measures)"
   ]
  },
  {
   "cell_type": "code",
   "execution_count": null,
   "id": "bfa86b82-aca3-4389-b955-a4191e7f2810",
   "metadata": {},
   "outputs": [],
   "source": [
    "6. Calculate the IQR using quantile for 'Score'"
   ]
  },
  {
   "cell_type": "code",
   "execution_count": 188,
   "id": "a4977d40-7125-4a76-89a2-0ba35b081cd0",
   "metadata": {},
   "outputs": [
    {
     "name": "stdout",
     "output_type": "stream",
     "text": [
      "BISWAYAN MEHRA \n",
      "URK21CS1004\n",
      "8.5\n"
     ]
    }
   ],
   "source": [
    "print(\"BISWAYAN MEHRA \\nURK21CS1004\")\n",
    "IQR = df['Score'].quantile(0.75) - df['Score'].quantile(0.25)\n",
    "print(IQR)"
   ]
  },
  {
   "cell_type": "code",
   "execution_count": null,
   "id": "9d3ec8c8-2d8f-4dd2-99c8-d3f0514c15c1",
   "metadata": {},
   "outputs": [],
   "source": [
    "7. Calculate the z-score for 'Score'"
   ]
  },
  {
   "cell_type": "code",
   "execution_count": 189,
   "id": "c2e45008-3e66-47c1-b47a-b212ae7f2ecc",
   "metadata": {},
   "outputs": [
    {
     "name": "stdout",
     "output_type": "stream",
     "text": [
      "BISWAYAN MEHRA \n",
      "URK21CS1004\n",
      "Index(['sepallength', 'sepalwidth', 'petallength', 'petalwidth', 'Category',\n",
      "       'Name', 'Score', 'z_score'],\n",
      "      dtype='object')\n"
     ]
    }
   ],
   "source": [
    "print(\"BISWAYAN MEHRA \\nURK21CS1004\")\n",
    "df['z_score'] = (df['Score'] - df['Score'].mean()) / df['Score'].std()\n",
    "print(df.columns)"
   ]
  },
  {
   "cell_type": "code",
   "execution_count": null,
   "id": "4026e029-c2db-49b3-b57f-f6267cce8749",
   "metadata": {},
   "outputs": [],
   "source": [
    "8. Add 2 rows at the end of the dataframe with the given values {'sepallength':7.6,'sepalwidth':2.9,'petallength':5.3,'petalwidth':2.1,'Category':'Irisvirginica','Name':'F25','Score':80}"
   ]
  },
  {
   "cell_type": "code",
   "execution_count": 190,
   "id": "801a7c6b-9389-49b5-92c7-728f824f4585",
   "metadata": {
    "tags": []
   },
   "outputs": [
    {
     "name": "stdout",
     "output_type": "stream",
     "text": [
      "BISWAYAN MEHRA \n",
      "URK21CS1004\n"
     ]
    },
    {
     "data": {
      "text/html": [
       "<div>\n",
       "<style scoped>\n",
       "    .dataframe tbody tr th:only-of-type {\n",
       "        vertical-align: middle;\n",
       "    }\n",
       "\n",
       "    .dataframe tbody tr th {\n",
       "        vertical-align: top;\n",
       "    }\n",
       "\n",
       "    .dataframe thead th {\n",
       "        text-align: right;\n",
       "    }\n",
       "</style>\n",
       "<table border=\"1\" class=\"dataframe\">\n",
       "  <thead>\n",
       "    <tr style=\"text-align: right;\">\n",
       "      <th></th>\n",
       "      <th>sepallength</th>\n",
       "      <th>sepalwidth</th>\n",
       "      <th>petallength</th>\n",
       "      <th>petalwidth</th>\n",
       "      <th>Category</th>\n",
       "      <th>Name</th>\n",
       "      <th>Score</th>\n",
       "      <th>z_score</th>\n",
       "    </tr>\n",
       "  </thead>\n",
       "  <tbody>\n",
       "    <tr>\n",
       "      <th>24</th>\n",
       "      <td>7.6</td>\n",
       "      <td>2.9</td>\n",
       "      <td>5.3</td>\n",
       "      <td>2.1</td>\n",
       "      <td>Iris-virginica</td>\n",
       "      <td>F25</td>\n",
       "      <td>80.0</td>\n",
       "      <td>NaN</td>\n",
       "    </tr>\n",
       "    <tr>\n",
       "      <th>25</th>\n",
       "      <td>4.6</td>\n",
       "      <td>1.3</td>\n",
       "      <td>0.3</td>\n",
       "      <td>1.7</td>\n",
       "      <td>Iris-setosa</td>\n",
       "      <td>F26</td>\n",
       "      <td>85.0</td>\n",
       "      <td>NaN</td>\n",
       "    </tr>\n",
       "  </tbody>\n",
       "</table>\n",
       "</div>"
      ],
      "text/plain": [
       "    sepallength  sepalwidth  petallength  petalwidth        Category Name  \\\n",
       "24          7.6         2.9          5.3         2.1  Iris-virginica  F25   \n",
       "25          4.6         1.3          0.3         1.7     Iris-setosa  F26   \n",
       "\n",
       "    Score  z_score  \n",
       "24   80.0      NaN  \n",
       "25   85.0      NaN  "
      ]
     },
     "execution_count": 190,
     "metadata": {},
     "output_type": "execute_result"
    }
   ],
   "source": [
    "print(\"BISWAYAN MEHRA \\nURK21CS1004\")\n",
    "new_rows = [{'sepallength': 7.6, 'sepalwidth': 2.9, 'petallength': 5.3, 'petalwidth': 2.1, 'Category': 'Iris-virginica', 'Name': 'F25', 'Score': 80},\n",
    "            {'sepallength': 4.6, 'sepalwidth': 1.3, 'petallength': 0.3, 'petalwidth': 1.7, 'Category': 'Iris-setosa', 'Name': 'F26', 'Score': 85}]\n",
    "df = pd.concat([df, pd.DataFrame(new_rows)], ignore_index=True)\n",
    "df.tail(2)"
   ]
  },
  {
   "cell_type": "code",
   "execution_count": null,
   "id": "cf99e286-4514-4274-90db-b7ca1e4be1d4",
   "metadata": {},
   "outputs": [],
   "source": [
    "9. Replace nan value with give value (petalwidth =1.7)"
   ]
  },
  {
   "cell_type": "code",
   "execution_count": 191,
   "id": "0ab96fe5-c210-45ef-affc-20c534197480",
   "metadata": {},
   "outputs": [
    {
     "name": "stdout",
     "output_type": "stream",
     "text": [
      "BISWAYAN MEHRA \n",
      "URK21CS1004\n"
     ]
    }
   ],
   "source": [
    "print(\"BISWAYAN MEHRA \\nURK21CS1004\")\n",
    "df['petalwidth'].fillna(1.7, inplace=True)"
   ]
  },
  {
   "cell_type": "code",
   "execution_count": null,
   "id": "f510fac8-d765-473a-9cc1-2468a25ddb28",
   "metadata": {},
   "outputs": [],
   "source": [
    "10. Replace the nan value in petalwidth column with previous value, next value, linear interpolation and central tendency measures."
   ]
  },
  {
   "cell_type": "code",
   "execution_count": 192,
   "id": "e7785a39-4b0b-4d9b-8eea-53aecc761776",
   "metadata": {},
   "outputs": [
    {
     "name": "stdout",
     "output_type": "stream",
     "text": [
      "BISWAYAN MEHRA \n",
      "URK21CS1004\n"
     ]
    }
   ],
   "source": [
    "print(\"BISWAYAN MEHRA \\nURK21CS1004\")\n",
    "df['petalwidth'].fillna(method='ffill', inplace=True)\n",
    "df['petalwidth'].fillna(method='bfill', inplace=True)\n",
    "df['petalwidth'].interpolate(method='linear', inplace=True)\n",
    "df['petalwidth'].fillna(df['petalwidth'].mean(), inplace=True)"
   ]
  },
  {
   "cell_type": "code",
   "execution_count": null,
   "id": "9557831e-7a5e-4ce8-90d7-df69f4379fae",
   "metadata": {},
   "outputs": [],
   "source": [
    "11. Detect the outliers in updated 'Score' with boxplot, scatter plot and histogram."
   ]
  },
  {
   "cell_type": "code",
   "execution_count": 193,
   "id": "1ff4cba0-27fc-440b-aa9c-56433fb3d4bb",
   "metadata": {},
   "outputs": [
    {
     "name": "stdout",
     "output_type": "stream",
     "text": [
      "BISWAYAN MEHRA \n",
      "URK21CS1004\n"
     ]
    },
    {
     "data": {
      "image/png": "[encoded data removed]",
      "text/plain": [
       "<Figure size 600x400 with 1 Axes>"
      ]
     },
     "metadata": {},
     "output_type": "display_data"
    },
    {
     "data": {
      "image/png": "[encoded data removed]",
      "text/plain": [
       "<Figure size 600x400 with 1 Axes>"
      ]
     },
     "metadata": {},
     "output_type": "display_data"
    },
    {
     "data": {
      "image/png": "[encoded data removed]",
      "text/plain": [
       "<Figure size 600x400 with 1 Axes>"
      ]
     },
     "metadata": {},
     "output_type": "display_data"
    }
   ],
   "source": [
    "print(\"BISWAYAN MEHRA \\nURK21CS1004\")\n",
    "\n",
    "plt.figure(figsize=(6, 4))\n",
    "plt.boxplot(df['Score'].dropna())\n",
    "plt.ylabel('Score')\n",
    "plt.title('Boxplot of Score')\n",
    "plt.show()\n",
    "\n",
    "plt.figure(figsize=(6, 4))\n",
    "plt.scatter(df.index, df['Score'])\n",
    "plt.xlabel('Index')\n",
    "plt.ylabel('Score')\n",
    "plt.title('Scatter Plot of Score')\n",
    "plt.show()\n",
    "\n",
    "plt.figure(figsize=(6, 4))\n",
    "plt.hist(df['Score'], bins=15)\n",
    "plt.xlabel('Score')\n",
    "plt.ylabel('Frequency')\n",
    "plt.title('Histogram of Score')\n",
    "plt.show()"
   ]
  },
  {
   "cell_type": "code",
   "execution_count": null,
   "id": "f020902e-1ace-4cc2-ba13-dbd455a1648a",
   "metadata": {},
   "outputs": [],
   "source": [
    "12. Remove the outliers using IQR by recalculating IQR in updated 'Score' and analyse with boxplot"
   ]
  },
  {
   "cell_type": "code",
   "execution_count": 194,
   "id": "7c889d29-93d7-4063-ae62-58e1c6d8a6bd",
   "metadata": {},
   "outputs": [
    {
     "name": "stdout",
     "output_type": "stream",
     "text": [
      "BISWAYAN MEHRA \n",
      "URK21CS1004\n"
     ]
    },
    {
     "data": {
      "image/png": "[encoded data removed]",
      "text/plain": [
       "<Figure size 600x400 with 1 Axes>"
      ]
     },
     "metadata": {},
     "output_type": "display_data"
    }
   ],
   "source": [
    "print(\"BISWAYAN MEHRA \\nURK21CS1004\")\n",
    "Q1 = df['Score'].quantile(0.25)\n",
    "Q3 = df['Score'].quantile(0.75)\n",
    "IQR = Q3 - Q1\n",
    "lower_bound = Q1 - 1.5 * IQR\n",
    "upper_bound = Q3 + 1.5 * IQR\n",
    "df_no_outliers_iqr = df[(df['Score'] >= lower_bound) & (df['Score'] <= upper_bound)]\n",
    "\n",
    "plt.figure(figsize=(6, 4))\n",
    "plt.boxplot(df_no_outliers_iqr['Score'])\n",
    "plt.ylabel('Score')\n",
    "plt.title('Boxplot of Score (After Removing Outliers using IQR)')\n",
    "plt.show()"
   ]
  },
  {
   "cell_type": "code",
   "execution_count": null,
   "id": "506ca62e-cef2-4680-9e3d-823b5d5a8eb6",
   "metadata": {},
   "outputs": [],
   "source": [
    "13. Remove the outliers using z-score by recalculating z-score in updated 'Score' and analyse with boxplot"
   ]
  },
  {
   "cell_type": "code",
   "execution_count": 195,
   "id": "28ac22fd-c4b7-439f-b93c-f9107c5d839a",
   "metadata": {},
   "outputs": [
    {
     "name": "stdout",
     "output_type": "stream",
     "text": [
      "BISWAYAN MEHRA \n",
      "URK21CS1004\n"
     ]
    },
    {
     "data": {
      "image/png": "[encoded data removed]",
      "text/plain": [
       "<Figure size 600x400 with 1 Axes>"
      ]
     },
     "metadata": {},
     "output_type": "display_data"
    }
   ],
   "source": [
    "print(\"BISWAYAN MEHRA \\nURK21CS1004\")\n",
    "z_threshold = 3\n",
    "df_no_outliers_z = df[np.abs(df['z_score']) <= z_threshold]\n",
    "\n",
    "plt.figure(figsize=(6, 4))\n",
    "plt.boxplot(df_no_outliers_z['Score'])\n",
    "plt.ylabel('Score')\n",
    "plt.title('Boxplot of Score (After Removing Outliers using z-score)')\n",
    "plt.show()"
   ]
  },
  {
   "cell_type": "code",
   "execution_count": null,
   "id": "9245b21e-7f46-4d77-bede-d58b8287bf18",
   "metadata": {},
   "outputs": [],
   "source": [
    "14. Plot the heatmap using the correlation"
   ]
  },
  {
   "cell_type": "code",
   "execution_count": 196,
   "id": "c7057495-84ff-4b76-bfbd-85fb49ac6d6a",
   "metadata": {},
   "outputs": [
    {
     "name": "stdout",
     "output_type": "stream",
     "text": [
      "BISWAYAN MEHRA \n",
      "URK21CS1004\n"
     ]
    },
    {
     "name": "stderr",
     "output_type": "stream",
     "text": [
      "C:\\Users\\mehra\\AppData\\Local\\Temp\\ipykernel_18956\\2058867223.py:2: FutureWarning: The default value of numeric_only in DataFrame.corr is deprecated. In a future version, it will default to False. Select only valid columns or specify the value of numeric_only to silence this warning.\n",
      "  correlation_matrix = df.corr()\n"
     ]
    },
    {
     "data": {
      "image/png": "[encoded data removed]",
      "text/plain": [
       "<Figure size 600x400 with 2 Axes>"
      ]
     },
     "metadata": {},
     "output_type": "display_data"
    }
   ],
   "source": [
    "print(\"BISWAYAN MEHRA \\nURK21CS1004\")\n",
    "correlation_matrix = df.corr()\n",
    "plt.figure(figsize=(6, 4))\n",
    "plt.imshow(correlation_matrix, cmap='coolwarm', interpolation='none')\n",
    "plt.colorbar()\n",
    "plt.xticks(range(len(correlation_matrix)), correlation_matrix.columns, rotation=45)\n",
    "plt.yticks(range(len(correlation_matrix)), correlation_matrix.columns)\n",
    "plt.title('Correlation Heatmap')\n",
    "plt.show()"
   ]
  },
  {
   "cell_type": "code",
   "execution_count": null,
   "id": "c9361a75-98a0-4c9a-820d-0e01b96c5e8e",
   "metadata": {},
   "outputs": [],
   "source": [
    "15. Drop the last two rows added in the dataframe"
   ]
  },
  {
   "cell_type": "code",
   "execution_count": 197,
   "id": "30fc0021-5331-4ae1-8ba1-42a4817e42cb",
   "metadata": {},
   "outputs": [
    {
     "name": "stdout",
     "output_type": "stream",
     "text": [
      "BISWAYAN MEHRA \n",
      "URK21CS1004\n",
      "RangeIndex(start=0, stop=24, step=1)\n"
     ]
    }
   ],
   "source": [
    "print(\"BISWAYAN MEHRA \\nURK21CS1004\")\n",
    "df.drop(df.tail(2).index, inplace=True)\n",
    "print(df.index)"
   ]
  },
  {
   "cell_type": "code",
   "execution_count": null,
   "id": "b2e5349a-52dc-4122-b460-60af80bac984",
   "metadata": {},
   "outputs": [],
   "source": [
    "RESULT:\n",
    "    Thus, the programs on exploratory data analysis using Python was executed and verified successfully."
   ]
  }
 ],
 "metadata": {
  "kernelspec": {
   "display_name": "Python 3 (ipykernel)",
   "language": "python",
   "name": "python3"
  },
  "language_info": {
   "codemirror_mode": {
    "name": "ipython",
    "version": 3
   },
   "file_extension": ".py",
   "mimetype": "text/x-python",
   "name": "python",
   "nbconvert_exporter": "python",
   "pygments_lexer": "ipython3",
   "version": "3.10.12"
  }
 },
 "nbformat": 4,
 "nbformat_minor": 5
}
