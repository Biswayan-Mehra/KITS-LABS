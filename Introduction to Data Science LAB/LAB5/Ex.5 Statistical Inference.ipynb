{
 "cells": [
  {
   "cell_type": "code",
   "execution_count": null,
   "id": "abccf48a-eccc-4506-9225-8296e4e476b4",
   "metadata": {},
   "outputs": [],
   "source": [
    "URK21CS1004                                                          30/08/2023"
   ]
  },
  {
   "cell_type": "code",
   "execution_count": null,
   "id": "fc0a569a-dce7-4ea8-b720-8652d4d81b80",
   "metadata": {},
   "outputs": [],
   "source": [
    "AIM: To demonstrate statistical inference"
   ]
  },
  {
   "cell_type": "code",
   "execution_count": null,
   "id": "c5e4ea26-9615-4679-9cb9-508892f627c0",
   "metadata": {},
   "outputs": [],
   "source": [
    "DESCRIPTION: \n",
    "    Statistical Inference: Statistical inference is a fundamental concept in the field of data science. It involves the process of drawing conclusions or making predictions about a population based on the analysis of a sample of data. This methodology employs various statistical methods and techniques to examine the sample data and extrapolate insights about the larger population from which the sample was drawn. The ultimate objective of statistical inference is to enable informed decision-making and the formulation of dependable conclusions, even when access to only a limited amount of data is available\n",
    "Population: The population represents the entire collection of individuals, items, or elements that are the subject of study. It encompasses the full array of entities that share a common characteristic or attribute and is typically the target of inference in statistical analysis.\n",
    "Sample: A sample is a subset of the population that is actively observed or measured to facilitate the process of drawing conclusions about the entire population. Samples are used because it is often impractical or impossible to collect data from the entire population, so researchers work with representative subsets.\n",
    "Confidence Interval: The confidence level in statistical inference denotes the level of certainty associated with the results of a statistical analysis. It quantifies the reliability of interval estimates, such as confidence intervals, and assesses the validity of statistical tests. A higher confidence level implies a greater degree of confidence that the true population parameter falls within a certain range.\n",
    "Correlation Coefficient: Correlation coefficients are statistical metrics that quantify both the strength and direction of the linear relationship between two variables. They provide valuable insights into how closely two variables are related, whether positively, negatively, or with no discernible correlation.\n",
    "Margin of Error: The margin of error is a concept often used in the context of survey results. It is analogous to a confidence interval but is specifically applied to assess the precision of survey findings. The margin of error indicates the potential variability in survey results that can be attributed to sampling error, and it is often expressed as a range within which the true population parameter is likely to fall."
   ]
  },
  {
   "cell_type": "code",
   "execution_count": null,
   "id": "3b77141c-baaa-41b1-adf6-0943d07246e3",
   "metadata": {},
   "outputs": [],
   "source": [
    "PROGRAMS:"
   ]
  },
  {
   "cell_type": "code",
   "execution_count": 1,
   "id": "0709b742-4848-4e40-9a59-e9cdeff268b2",
   "metadata": {
    "tags": []
   },
   "outputs": [],
   "source": [
    "import numpy as np\n",
    "import pandas as pd\n",
    "import scipy.stats as stats\n",
    "import matplotlib.pyplot as plt\n",
    "df= pd.read_csv(\"supermarket.csv\")"
   ]
  },
  {
   "cell_type": "code",
   "execution_count": null,
   "id": "6e9e6650-fa2a-45cb-9c49-f2f5639514f6",
   "metadata": {},
   "outputs": [],
   "source": [
    "1. Calculate the sample mean for 'Unit price' column with n=500 and observe"
   ]
  },
  {
   "cell_type": "code",
   "execution_count": 2,
   "id": "eaeb4dee-52ae-466d-b2d1-f159557788f3",
   "metadata": {
    "tags": []
   },
   "outputs": [
    {
     "name": "stdout",
     "output_type": "stream",
     "text": [
      "BISWAYAN MEHRA \n",
      "URK21CS1004\n",
      "Sample Mean for 'Unit price' with n=500: 57.091240000000006\n"
     ]
    }
   ],
   "source": [
    "print(\"BISWAYAN MEHRA \\nURK21CS1004\")\n",
    "sample_data = df[df['Gender'] == 'Female'].sample(500)\n",
    "print(\"Sample Mean for 'Unit price' with n=500:\", sample_data['Unit price'].mean())"
   ]
  },
  {
   "cell_type": "code",
   "execution_count": null,
   "id": "865ea463-7561-4b59-9b21-1d9c00c2d77a",
   "metadata": {},
   "outputs": [],
   "source": [
    "2. Calculate the sample mean for 'Unit price' column with n=1000 and observe"
   ]
  },
  {
   "cell_type": "code",
   "execution_count": 3,
   "id": "15d00a03-5397-4d8c-a964-4e7852ac459e",
   "metadata": {
    "tags": []
   },
   "outputs": [
    {
     "name": "stdout",
     "output_type": "stream",
     "text": [
      "BISWAYAN MEHRA \n",
      "URK21CS1004\n",
      "Sample Mean for 'Unit price' with n=1000: 55.85418\n"
     ]
    }
   ],
   "source": [
    "print(\"BISWAYAN MEHRA \\nURK21CS1004\")\n",
    "sample_data = df[df['Gender'] == 'Female'].sample(1000)\n",
    "print(\"Sample Mean for 'Unit price' with n=1000:\", sample_data['Unit price'].mean())"
   ]
  },
  {
   "cell_type": "code",
   "execution_count": null,
   "id": "43c907e0-e006-4a47-9ca2-741daad10950",
   "metadata": {},
   "outputs": [],
   "source": [
    "3. Calculate the population mean for 'Unit price' column"
   ]
  },
  {
   "cell_type": "code",
   "execution_count": 4,
   "id": "72ef512c-54ba-41fe-b732-015cfec5f49e",
   "metadata": {
    "tags": []
   },
   "outputs": [
    {
     "name": "stdout",
     "output_type": "stream",
     "text": [
      "BISWAYAN MEHRA \n",
      "URK21CS1004\n",
      "Population Mean for 'Unit price': 55.263952095808385\n"
     ]
    }
   ],
   "source": [
    "print(\"BISWAYAN MEHRA \\nURK21CS1004\")\n",
    "population_mean = df[df['Gender'] == 'Female']['Unit price'].mean()\n",
    "print(\"Population Mean for 'Unit price':\", population_mean)"
   ]
  },
  {
   "cell_type": "code",
   "execution_count": null,
   "id": "94edb242-8e68-424a-b47d-628717a29d87",
   "metadata": {},
   "outputs": [],
   "source": [
    "4. Calculate the confidence interval (CI) with sample mean for 'Unit price' column of n=500 and confidence level of 95%. Observe whether the population mean lies in CI."
   ]
  },
  {
   "cell_type": "code",
   "execution_count": 5,
   "id": "596a6051-26af-4586-bda7-cebb02c2cb97",
   "metadata": {},
   "outputs": [
    {
     "name": "stdout",
     "output_type": "stream",
     "text": [
      "BISWAYAN MEHRA \n",
      "URK21CS1004\n",
      "Confidence Interval (95%) for 'Unit price' (n=500): (52.67860162881292, 57.39911837118708)\n",
      "Population Mean lies in CI: True\n"
     ]
    }
   ],
   "source": [
    "print(\"BISWAYAN MEHRA \\nURK21CS1004\")\n",
    "sample_data = df[df['Gender'] == 'Female'].sample(n=500)\n",
    "sample_mean = sample_data['Unit price'].mean()\n",
    "margin_of_error = stats.norm.ppf((1 + 0.95) / 2) * (sample_data['Unit price'].std() / (500 ** 0.5))\n",
    "confidence_interval = (sample_mean - margin_of_error, sample_mean + margin_of_error)\n",
    "print(\"Confidence Interval (95%) for 'Unit price' (n=500):\", confidence_interval)\n",
    "print(\"Population Mean lies in CI:\", confidence_interval[0] <= population_mean <= confidence_interval[1])"
   ]
  },
  {
   "cell_type": "code",
   "execution_count": null,
   "id": "8c5de78e-5681-43b5-a12e-2594b6c0ff92",
   "metadata": {},
   "outputs": [],
   "source": [
    "5. Change the confidence level to 99% and observe the confidence interval for the same sample mean for 'Unit price' column of n=500."
   ]
  },
  {
   "cell_type": "code",
   "execution_count": 6,
   "id": "da40fb8a-afa3-4fca-8100-c37460587c30",
   "metadata": {},
   "outputs": [
    {
     "name": "stdout",
     "output_type": "stream",
     "text": [
      "BISWAYAN MEHRA \n",
      "URK21CS1004\n",
      "Confidence Interval (99%) for 'Unit price' (n=500): (51.93695469745079, 58.14076530254921)\n"
     ]
    }
   ],
   "source": [
    "print(\"BISWAYAN MEHRA \\nURK21CS1004\")\n",
    "margin_of_error = stats.norm.ppf((1 + 0.99) / 2) * (sample_data['Unit price'].std() / (500 ** 0.5))\n",
    "confidence_interval = (sample_mean - margin_of_error, sample_mean + margin_of_error)\n",
    "print(\"Confidence Interval (99%) for 'Unit price' (n=500):\", confidence_interval)"
   ]
  },
  {
   "cell_type": "code",
   "execution_count": null,
   "id": "eac0d3ae-5888-4a15-b3ae-f71248383369",
   "metadata": {},
   "outputs": [],
   "source": [
    "6. Calculate and plot the Confidence Intervals for 25 Trials with n=500 and CI=95% for 'Unit price' column. Observe the results."
   ]
  },
  {
   "cell_type": "code",
   "execution_count": 11,
   "id": "f48d1f9e-cbbe-4b5e-a731-39cd0d36edee",
   "metadata": {},
   "outputs": [
    {
     "name": "stdout",
     "output_type": "stream",
     "text": [
      "BISWAYAN MEHRA \n",
      "URK21CS1004\n"
     ]
    },
    {
     "data": {
      "image/png": "[encoded data removed]",
      "text/plain": [
       "<Figure size 1000x600 with 1 Axes>"
      ]
     },
     "metadata": {},
     "output_type": "display_data"
    }
   ],
   "source": [
    "print(\"BISWAYAN MEHRA \\nURK21CS1004\")\n",
    "confidence_intervals = []\n",
    "for _ in range(25):\n",
    "    sample_data = df[df['Gender'] == 'Female'].sample(n=500)\n",
    "    sample_mean = sample_data['Unit price'].mean()\n",
    "    margin_of_error = stats.norm.ppf((1 + 0.95) / 2) * (sample_data['Unit price'].std() / (500 ** 0.5))\n",
    "    confidence_interval = (sample_mean - margin_of_error, sample_mean + margin_of_error)\n",
    "    confidence_intervals.append(confidence_interval)\n",
    "confidence_intervals = np.array(confidence_intervals)\n",
    "plt.figure(figsize=(10, 6))\n",
    "plt.errorbar(np.arange(25), confidence_intervals[:, 0], yerr=confidence_intervals[:, 1] - confidence_intervals[:, 0], fmt='o')\n",
    "plt.axhline(population_mean, color='r', linestyle='dashed', label='Population Mean')\n",
    "plt.xlabel('Trial')\n",
    "plt.ylabel('Confidence Interval')\n",
    "plt.title('Confidence Intervals for 25 Trials (95% CI)')\n",
    "plt.legend()\n",
    "plt.show()"
   ]
  },
  {
   "cell_type": "code",
   "execution_count": 33,
   "id": "8059a2a2-c416-4cc4-8d91-135f32b99ce3",
   "metadata": {
    "tags": []
   },
   "outputs": [],
   "source": [
    "data = {'person': ['A', 'B', 'C', 'D', 'E'], 'hand': [17, 15, 19, 17, 21], 'height': [150, 154, 169, 172, 175]}\n",
    "df = pd.DataFrame(data)\n",
    "df.drop(columns=['person'],inplace=True)"
   ]
  },
  {
   "cell_type": "code",
   "execution_count": null,
   "id": "765b2ad9-3401-4168-b13c-e99b09821a6f",
   "metadata": {},
   "outputs": [],
   "source": [
    "7. Calculate the Correlation Coefficient using Pearson for the given table"
   ]
  },
  {
   "cell_type": "code",
   "execution_count": 34,
   "id": "a5862836-0067-4762-968f-ef1593035ea4",
   "metadata": {},
   "outputs": [
    {
     "name": "stdout",
     "output_type": "stream",
     "text": [
      "BISWAYAN MEHRA \n",
      "URK21CS1004\n",
      "            hand    height\n",
      "hand    1.000000  0.721315\n",
      "height  0.721315  1.000000\n"
     ]
    }
   ],
   "source": [
    "print(\"BISWAYAN MEHRA \\nURK21CS1004\")\n",
    "print(df.corr(method='pearson'))"
   ]
  },
  {
   "cell_type": "code",
   "execution_count": null,
   "id": "05827eec-c4fc-456c-8f0c-19b9c6898f60",
   "metadata": {},
   "outputs": [],
   "source": [
    "8. Calculate the Correlation Coefficient using Spearman for the given table"
   ]
  },
  {
   "cell_type": "code",
   "execution_count": 35,
   "id": "5d8688af-f5f9-4158-89b7-b3dc381fd7ab",
   "metadata": {},
   "outputs": [
    {
     "name": "stdout",
     "output_type": "stream",
     "text": [
      "BISWAYAN MEHRA \n",
      "URK21CS1004\n",
      "            hand    height\n",
      "hand    1.000000  0.666886\n",
      "height  0.666886  1.000000\n"
     ]
    }
   ],
   "source": [
    "print(\"BISWAYAN MEHRA \\nURK21CS1004\")\n",
    "print(df.corr(method='spearman'))"
   ]
  },
  {
   "cell_type": "code",
   "execution_count": 3,
   "id": "429d7718-b784-43e1-97e6-12a5f29e3bf0",
   "metadata": {
    "tags": []
   },
   "outputs": [],
   "source": [
    "data = {'Height': [64, 66, 68, 69, 73], 'Score': [580, 570, 590, 660, 600], 'Age': [29, 33, 37, 46, 55]}\n",
    "df = pd.DataFrame(data)"
   ]
  },
  {
   "cell_type": "code",
   "execution_count": null,
   "id": "e77e4434-3175-4641-99a6-ad3f28ca0588",
   "metadata": {},
   "outputs": [],
   "source": [
    "9. Calculate the Covariance Matrix for the given data and analyse it"
   ]
  },
  {
   "cell_type": "code",
   "execution_count": 37,
   "id": "e74a4278-9e2f-4d9d-ae4f-e02eefc2dc36",
   "metadata": {},
   "outputs": [
    {
     "name": "stdout",
     "output_type": "stream",
     "text": [
      "BISWAYAN MEHRA \n",
      "URK21CS1004\n",
      "        Height   Score     Age\n",
      "Height   11.50    50.0   34.75\n",
      "Score    50.00  1250.0  205.00\n",
      "Age      34.75   205.0  110.00\n"
     ]
    }
   ],
   "source": [
    "print(\"BISWAYAN MEHRA \\nURK21CS1004\")\n",
    "print(df.cov())"
   ]
  },
  {
   "cell_type": "code",
   "execution_count": null,
   "id": "2801402a-e21d-4754-9167-13c8472eaf56",
   "metadata": {},
   "outputs": [],
   "source": [
    "10. Perform a hypothesis testing with Z-test A herd of 1,500 steer was fed a special high protein grain for a month, has the \n",
    "standarddeviation of weight gain for the entire herd was 7.1 and average weight gain per steerfor the month was 5 pounds. \n",
    "By feeding the herd with special high protein grain, it isclaimed that the weight of the herd has increased. \n",
    "In order to test this claim, a randomsample of 29 were weighed and had gained an average of 6.7 pounds. \n",
    "Can we support the claim at 5 % level?"
   ]
  },
  {
   "cell_type": "code",
   "execution_count": 38,
   "id": "2f04e4a9-b66b-4250-ab1c-1df76d1bc36d",
   "metadata": {},
   "outputs": [
    {
     "name": "stdout",
     "output_type": "stream",
     "text": [
      "BISWAYAN MEHRA \n",
      "URK21CS1004\n",
      "Z-score: 1.2894\n",
      "Critical Value: 1.6449\n",
      "P-value: 0.0986\n",
      "Fail to reject the null hypothesis\n"
     ]
    }
   ],
   "source": [
    "print(\"BISWAYAN MEHRA \\nURK21CS1004\")\n",
    "population_mean = 5\n",
    "population_stddev = 7.1\n",
    "sample_size = 29\n",
    "sample_mean = 6.7\n",
    "alpha = 0.05\n",
    "standard_error = population_stddev / (sample_size ** 0.5)\n",
    "z_score = (sample_mean - population_mean) / standard_error\n",
    "critical_value = stats.norm.ppf(1 - alpha)\n",
    "p_value = 1 - stats.norm.cdf(z_score)\n",
    "print(f\"Z-score: {z_score:.4f}\")\n",
    "print(f\"Critical Value: {critical_value:.4f}\")\n",
    "print(f\"P-value: {p_value:.4f}\")\n",
    "if z_score > critical_value:\n",
    "    print(\"Reject the null hypothesis\")\n",
    "else:\n",
    "    print(\"Fail to reject the null hypothesis\")"
   ]
  },
  {
   "cell_type": "code",
   "execution_count": null,
   "id": "2bb91b5e-70be-44b6-955a-4200a06b26d1",
   "metadata": {},
   "outputs": [],
   "source": [
    "RESULT: Thus, the programs to demonstrate statistical inference using Python was executed and verified successfully."
   ]
  }
 ],
 "metadata": {
  "kernelspec": {
   "display_name": "Python 3 (ipykernel)",
   "language": "python",
   "name": "python3"
  },
  "language_info": {
   "codemirror_mode": {
    "name": "ipython",
    "version": 3
   },
   "file_extension": ".py",
   "mimetype": "text/x-python",
   "name": "python",
   "nbconvert_exporter": "python",
   "pygments_lexer": "ipython3",
   "version": "3.10.12"
  }
 },
 "nbformat": 4,
 "nbformat_minor": 5
}
