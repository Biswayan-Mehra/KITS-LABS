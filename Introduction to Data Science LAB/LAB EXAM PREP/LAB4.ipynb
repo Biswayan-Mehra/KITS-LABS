{
 "cells": [
  {
   "cell_type": "code",
   "execution_count": 38,
   "id": "fb49cde4-20e6-431e-aa88-8d6f0bbebbae",
   "metadata": {},
   "outputs": [
    {
     "data": {
      "text/html": [
       "<div>\n",
       "<style scoped>\n",
       "    .dataframe tbody tr th:only-of-type {\n",
       "        vertical-align: middle;\n",
       "    }\n",
       "\n",
       "    .dataframe tbody tr th {\n",
       "        vertical-align: top;\n",
       "    }\n",
       "\n",
       "    .dataframe thead th {\n",
       "        text-align: right;\n",
       "    }\n",
       "</style>\n",
       "<table border=\"1\" class=\"dataframe\">\n",
       "  <thead>\n",
       "    <tr style=\"text-align: right;\">\n",
       "      <th></th>\n",
       "      <th>sepallength</th>\n",
       "      <th>sepalwidth</th>\n",
       "      <th>petallength</th>\n",
       "      <th>petalwidth</th>\n",
       "      <th>class</th>\n",
       "      <th>Name</th>\n",
       "      <th>Score</th>\n",
       "      <th>Color</th>\n",
       "    </tr>\n",
       "  </thead>\n",
       "  <tbody>\n",
       "    <tr>\n",
       "      <th>0</th>\n",
       "      <td>5.1</td>\n",
       "      <td>3.5</td>\n",
       "      <td>1.4</td>\n",
       "      <td>0.2</td>\n",
       "      <td>Iris-setosa</td>\n",
       "      <td>F1</td>\n",
       "      <td>12.0</td>\n",
       "      <td>Red</td>\n",
       "    </tr>\n",
       "    <tr>\n",
       "      <th>1</th>\n",
       "      <td>4.9</td>\n",
       "      <td>3.0</td>\n",
       "      <td>1.4</td>\n",
       "      <td>0.2</td>\n",
       "      <td>Iris-setosa</td>\n",
       "      <td>F2</td>\n",
       "      <td>NaN</td>\n",
       "      <td>Blue</td>\n",
       "    </tr>\n",
       "  </tbody>\n",
       "</table>\n",
       "</div>"
      ],
      "text/plain": [
       "   sepallength  sepalwidth  petallength  petalwidth        class Name  Score  \\\n",
       "0          5.1         3.5          1.4         0.2  Iris-setosa   F1   12.0   \n",
       "1          4.9         3.0          1.4         0.2  Iris-setosa   F2    NaN   \n",
       "\n",
       "  Color  \n",
       "0   Red  \n",
       "1  Blue  "
      ]
     },
     "execution_count": 38,
     "metadata": {},
     "output_type": "execute_result"
    }
   ],
   "source": [
    "import os\n",
    "import pandas as pd\n",
    "os.chdir('C:/Users/mehra/Codes/KITS/SEM 5/Intro to Data Science/LAB/LAB EXAM PREP/DataSets/')\n",
    "df = pd.read_csv('iris_EDA.csv')\n",
    "df.head(2)"
   ]
  },
  {
   "cell_type": "code",
   "execution_count": null,
   "id": "52c0ca57-206e-4806-b69e-9e032c1d2d37",
   "metadata": {},
   "outputs": [],
   "source": [
    "1. Remove the irrelevant column 'Color' (inplace=True)"
   ]
  },
  {
   "cell_type": "code",
   "execution_count": 39,
   "id": "118b2b08-5abf-474b-ab6f-9635dc3b841e",
   "metadata": {
    "tags": []
   },
   "outputs": [
    {
     "name": "stdout",
     "output_type": "stream",
     "text": [
      "Index(['sepallength', 'sepalwidth', 'petallength', 'petalwidth', 'class',\n",
      "       'Name', 'Score'],\n",
      "      dtype='object')\n"
     ]
    }
   ],
   "source": [
    "df.drop('Color', axis=1, inplace=True)\n",
    "print(df.columns)"
   ]
  },
  {
   "cell_type": "code",
   "execution_count": null,
   "id": "6cc0d451-2bf7-4662-a4ea-5f92b3348600",
   "metadata": {},
   "outputs": [],
   "source": [
    "2. Remove the duplicate rows and analyze"
   ]
  },
  {
   "cell_type": "code",
   "execution_count": 40,
   "id": "ea7ed1d2-1b14-41bf-9249-2edf55430482",
   "metadata": {
    "tags": []
   },
   "outputs": [
    {
     "name": "stdout",
     "output_type": "stream",
     "text": [
      "Duplicate rows removed 1\n"
     ]
    }
   ],
   "source": [
    "l = len(df)\n",
    "df.drop_duplicates(inplace=True)\n",
    "print('Duplicate rows removed', l - len(df))"
   ]
  },
  {
   "cell_type": "code",
   "execution_count": null,
   "id": "fea8e422-7015-4cc1-ac5e-8f4fea43c622",
   "metadata": {},
   "outputs": [],
   "source": [
    "3. Rename the column class to Category"
   ]
  },
  {
   "cell_type": "code",
   "execution_count": 41,
   "id": "9a75d37f-934e-424b-b9db-76fcd3a2434d",
   "metadata": {
    "tags": []
   },
   "outputs": [
    {
     "data": {
      "text/plain": [
       "Index(['sepallength', 'sepalwidth', 'petallength', 'petalwidth', 'Category',\n",
       "       'Name', 'Score'],\n",
       "      dtype='object')"
      ]
     },
     "execution_count": 41,
     "metadata": {},
     "output_type": "execute_result"
    }
   ],
   "source": [
    "df.rename(columns={'class':'Category'}, inplace=True)\n",
    "df.columns"
   ]
  },
  {
   "cell_type": "code",
   "execution_count": null,
   "id": "333bdab9-4c0a-4307-af19-7212a9d5815e",
   "metadata": {},
   "outputs": [],
   "source": [
    "4. Calculate the central tendency measures for 'Score'"
   ]
  },
  {
   "cell_type": "code",
   "execution_count": 42,
   "id": "fd1d1929-8df0-4cbb-b408-fa4b10f698d1",
   "metadata": {
    "tags": []
   },
   "outputs": [
    {
     "name": "stdout",
     "output_type": "stream",
     "text": [
      "21\n",
      "22.0\n",
      "0    12.0\n",
      "1    21.0\n",
      "2    22.0\n",
      "3    24.0\n",
      "4    25.0\n",
      "5    27.0\n",
      "Name: Score, dtype: float64\n"
     ]
    }
   ],
   "source": [
    "print(round(df['Score'].mean()))\n",
    "print(df['Score'].median())\n",
    "print(df['Score'].mode())"
   ]
  },
  {
   "cell_type": "code",
   "execution_count": null,
   "id": "5076d30c-5880-4ca5-9c43-a5d75a976e12",
   "metadata": {},
   "outputs": [],
   "source": [
    "5. Calculate the variability measures for 'Score'"
   ]
  },
  {
   "cell_type": "code",
   "execution_count": 43,
   "id": "8e1e3c45-a589-49ed-8c67-9376221f75a6",
   "metadata": {
    "tags": []
   },
   "outputs": [
    {
     "name": "stdout",
     "output_type": "stream",
     "text": [
      "5.73\n",
      "32.86\n",
      "11.0\n",
      "30.0\n",
      "19.0\n"
     ]
    }
   ],
   "source": [
    "print(round(df['Score'].std(),2))\n",
    "print(round(df['Score'].var(),2))\n",
    "print(df['Score'].min())\n",
    "print(df['Score'].max())\n",
    "print(df['Score'].max() - df['Score'].min())"
   ]
  },
  {
   "cell_type": "code",
   "execution_count": null,
   "id": "61dbb307-a02b-4d00-a335-066dd1844ed3",
   "metadata": {},
   "outputs": [],
   "source": [
    "6. Calculate the IQR using quantile for 'Score'"
   ]
  },
  {
   "cell_type": "code",
   "execution_count": 44,
   "id": "a8993f7f-9112-4b93-afca-16fe017a4ffb",
   "metadata": {
    "tags": []
   },
   "outputs": [
    {
     "name": "stdout",
     "output_type": "stream",
     "text": [
      "8.5\n"
     ]
    }
   ],
   "source": [
    "IQR = df['Score'].quantile(0.75) - df['Score'].quantile(0.25)\n",
    "print(IQR)"
   ]
  },
  {
   "cell_type": "code",
   "execution_count": null,
   "id": "0ec59e49-4b9b-433a-80cf-add80270fed1",
   "metadata": {},
   "outputs": [],
   "source": [
    "7. Calculate the z-score for 'Score'"
   ]
  },
  {
   "cell_type": "code",
   "execution_count": 45,
   "id": "3bf631ea-9b41-4642-ae0b-d58f627ee51c",
   "metadata": {
    "tags": []
   },
   "outputs": [
    {
     "name": "stdout",
     "output_type": "stream",
     "text": [
      "0    -1.562409\n",
      "1          NaN\n",
      "2    -0.515747\n",
      "3    -1.213521\n",
      "4     0.182028\n",
      "5     1.054247\n",
      "6     0.530916\n",
      "7     0.356472\n",
      "8    -0.864634\n",
      "9    -0.341303\n",
      "10    0.007585\n",
      "11    0.705359\n",
      "12    1.228690\n",
      "13    1.403134\n",
      "14   -1.736852\n",
      "15    1.577578\n",
      "16   -1.562409\n",
      "17    0.530916\n",
      "18   -0.690190\n",
      "19   -1.039078\n",
      "20    0.182028\n",
      "21    1.054247\n",
      "22    0.705359\n",
      "23    0.007585\n",
      "Name: z-score, dtype: float64\n"
     ]
    }
   ],
   "source": [
    "df['z-score'] = (df['Score'] - df['Score'].mean()) / df['Score'].std()\n",
    "print(df['z-score'])"
   ]
  },
  {
   "cell_type": "code",
   "execution_count": 47,
   "id": "1b9c6654-d372-4128-b034-4e96ce1e5906",
   "metadata": {
    "tags": []
   },
   "outputs": [
    {
     "name": "stdout",
     "output_type": "stream",
     "text": [
      "0    -1.548765\n",
      "2    -0.489506\n",
      "3    -1.195679\n",
      "4     0.216667\n",
      "5     1.099383\n",
      "6     0.569753\n",
      "7     0.393210\n",
      "8    -0.842592\n",
      "9    -0.312963\n",
      "10    0.040123\n",
      "11    0.746296\n",
      "12    1.275926\n",
      "13    1.452469\n",
      "14   -1.725308\n",
      "15    1.629012\n",
      "16   -1.548765\n",
      "17    0.569753\n",
      "18   -0.666049\n",
      "19   -1.019136\n",
      "20    0.216667\n",
      "21    1.099383\n",
      "23    0.040123\n",
      "Name: Score, dtype: float64\n"
     ]
    }
   ],
   "source": [
    "import scipy.stats as stats\n",
    "df.dropna(inplace=True)\n",
    "zscore = stats.zscore(df['Score'])\n",
    "print(zscore)"
   ]
  },
  {
   "cell_type": "code",
   "execution_count": null,
   "id": "4e278ba6-c34a-4a18-ace7-09682caf9446",
   "metadata": {},
   "outputs": [],
   "source": [
    "8. Add 2 rows at the end of the dataframe with the given values \n",
    "{'sepallength':7.6,'sepalwidth':2.9,'petallength':5.3,'petalwidth':2.1,'Category':'Irisvirginica','Name':'F25','Score':80}, \n",
    "{'sepallength': 4.6, 'sepalwidth': 1.3, 'petallength': 0.3, 'petalwidth': 1.7, 'Category': 'Iris-setosa', 'Name': 'F26', 'Score': 85}"
   ]
  },
  {
   "cell_type": "code",
   "execution_count": 158,
   "id": "f319806f-ea37-4e2e-9526-6ecf72ba38e5",
   "metadata": {
    "tags": []
   },
   "outputs": [
    {
     "data": {
      "text/html": [
       "<div>\n",
       "<style scoped>\n",
       "    .dataframe tbody tr th:only-of-type {\n",
       "        vertical-align: middle;\n",
       "    }\n",
       "\n",
       "    .dataframe tbody tr th {\n",
       "        vertical-align: top;\n",
       "    }\n",
       "\n",
       "    .dataframe thead th {\n",
       "        text-align: right;\n",
       "    }\n",
       "</style>\n",
       "<table border=\"1\" class=\"dataframe\">\n",
       "  <thead>\n",
       "    <tr style=\"text-align: right;\">\n",
       "      <th></th>\n",
       "      <th>sepallength</th>\n",
       "      <th>sepalwidth</th>\n",
       "      <th>petallength</th>\n",
       "      <th>petalwidth</th>\n",
       "      <th>Category</th>\n",
       "      <th>Name</th>\n",
       "      <th>Score</th>\n",
       "      <th>z-score</th>\n",
       "    </tr>\n",
       "  </thead>\n",
       "  <tbody>\n",
       "    <tr>\n",
       "      <th>24</th>\n",
       "      <td>7.6</td>\n",
       "      <td>2.9</td>\n",
       "      <td>5.3</td>\n",
       "      <td>2.1</td>\n",
       "      <td>Iris-virginica</td>\n",
       "      <td>F25</td>\n",
       "      <td>80.0</td>\n",
       "      <td>NaN</td>\n",
       "    </tr>\n",
       "    <tr>\n",
       "      <th>25</th>\n",
       "      <td>4.6</td>\n",
       "      <td>1.3</td>\n",
       "      <td>0.3</td>\n",
       "      <td>1.7</td>\n",
       "      <td>Iris-setosa</td>\n",
       "      <td>F26</td>\n",
       "      <td>85.0</td>\n",
       "      <td>NaN</td>\n",
       "    </tr>\n",
       "  </tbody>\n",
       "</table>\n",
       "</div>"
      ],
      "text/plain": [
       "    sepallength  sepalwidth  petallength  petalwidth        Category Name  \\\n",
       "24          7.6         2.9          5.3         2.1  Iris-virginica  F25   \n",
       "25          4.6         1.3          0.3         1.7     Iris-setosa  F26   \n",
       "\n",
       "    Score  z-score  \n",
       "24   80.0      NaN  \n",
       "25   85.0      NaN  "
      ]
     },
     "execution_count": 158,
     "metadata": {},
     "output_type": "execute_result"
    }
   ],
   "source": [
    "new_rows = [{'sepallength': 7.6, 'sepalwidth': 2.9, 'petallength': 5.3, 'petalwidth': 2.1, 'Category': 'Iris-virginica', 'Name': 'F25', 'Score': 80},\n",
    "            {'sepallength': 4.6, 'sepalwidth': 1.3, 'petallength': 0.3, 'petalwidth': 1.7, 'Category': 'Iris-setosa', 'Name': 'F26', 'Score': 85}]\n",
    "for i in new_rows:\n",
    "    df.loc[len(df)] = i\n",
    "df.tail(2)"
   ]
  },
  {
   "cell_type": "code",
   "execution_count": 141,
   "id": "924281fd-d8bc-4ae9-9a58-bbfe88192ee8",
   "metadata": {
    "tags": []
   },
   "outputs": [
    {
     "data": {
      "text/plain": [
       "22   NaN\n",
       "Name: petalwidth, dtype: float64"
      ]
     },
     "execution_count": 141,
     "metadata": {},
     "output_type": "execute_result"
    }
   ],
   "source": [
    "df[df['petalwidth'].isnull()]['petalwidth']"
   ]
  },
  {
   "cell_type": "code",
   "execution_count": 142,
   "id": "1ca70ed4-0dda-4898-8f7b-2e9007f87e5e",
   "metadata": {
    "tags": []
   },
   "outputs": [
    {
     "name": "stdout",
     "output_type": "stream",
     "text": [
      "21    2.1\n",
      "22    NaN\n",
      "23    1.8\n",
      "Name: petalwidth, dtype: float64\n"
     ]
    }
   ],
   "source": [
    "print(df['petalwidth'].loc[21:23])"
   ]
  },
  {
   "cell_type": "code",
   "execution_count": null,
   "id": "34691c93-7168-4139-8f0a-2d67909d2af1",
   "metadata": {},
   "outputs": [],
   "source": [
    "9. Replace nan value with give value (petalwidth =1.7)"
   ]
  },
  {
   "cell_type": "code",
   "execution_count": 128,
   "id": "7bfe6ed8-4c78-4ea9-83fc-c8d23c35ef2b",
   "metadata": {
    "tags": []
   },
   "outputs": [
    {
     "name": "stdout",
     "output_type": "stream",
     "text": [
      "21    2.1\n",
      "22    1.7\n",
      "23    1.8\n",
      "Name: petalwidth, dtype: float64\n"
     ]
    }
   ],
   "source": [
    "df['petalwidth'].fillna(1.7, inplace=True)\n",
    "print(df['petalwidth'].loc[21:23])"
   ]
  },
  {
   "cell_type": "code",
   "execution_count": null,
   "id": "dfcc8fa6-b769-4741-991b-dd84968e0e7b",
   "metadata": {
    "tags": []
   },
   "outputs": [],
   "source": [
    "10. Replace the nan value in petalwidth column with previous value, next value, linear interpolation and central tendency measures."
   ]
  },
  {
   "cell_type": "code",
   "execution_count": 138,
   "id": "2293e6b6-5d5b-4c58-b040-d4d0363015cb",
   "metadata": {},
   "outputs": [
    {
     "name": "stdout",
     "output_type": "stream",
     "text": [
      "21    2.1\n",
      "22    1.8\n",
      "23    1.8\n",
      "Name: petalwidth, dtype: float64\n"
     ]
    }
   ],
   "source": [
    "df['petalwidth'].fillna(method='bfill', inplace=True)\n",
    "print(df['petalwidth'].loc[21:23])"
   ]
  },
  {
   "cell_type": "code",
   "execution_count": 136,
   "id": "e90ebee8-a447-4459-865b-a7807543fc1d",
   "metadata": {
    "tags": []
   },
   "outputs": [
    {
     "name": "stdout",
     "output_type": "stream",
     "text": [
      "21    2.1\n",
      "22    2.1\n",
      "23    1.8\n",
      "Name: petalwidth, dtype: float64\n"
     ]
    }
   ],
   "source": [
    "df['petalwidth'].fillna(method='ffill', inplace=True)\n",
    "print(df['petalwidth'].loc[21:23])"
   ]
  },
  {
   "cell_type": "code",
   "execution_count": 140,
   "id": "6cb45f66-35af-463b-b863-fb6308afb2c7",
   "metadata": {
    "tags": []
   },
   "outputs": [
    {
     "name": "stdout",
     "output_type": "stream",
     "text": [
      "21    2.10\n",
      "22    1.95\n",
      "23    1.80\n",
      "Name: petalwidth, dtype: float64\n"
     ]
    }
   ],
   "source": [
    "df['petalwidth'].interpolate(method='linear', inplace=True)\n",
    "print(df['petalwidth'].loc[21:23])"
   ]
  },
  {
   "cell_type": "code",
   "execution_count": 159,
   "id": "e87bbda6-370c-4bda-8176-c1a83ad8bd26",
   "metadata": {
    "tags": []
   },
   "outputs": [
    {
     "name": "stdout",
     "output_type": "stream",
     "text": [
      "21    2.100\n",
      "22    1.248\n",
      "23    1.800\n",
      "Name: petalwidth, dtype: float64\n"
     ]
    }
   ],
   "source": [
    "df['petalwidth'].fillna(df['petalwidth'].mean(), inplace=True)\n",
    "print(df['petalwidth'].loc[21:23])"
   ]
  },
  {
   "cell_type": "code",
   "execution_count": null,
   "id": "5e091a29-c86c-4ee6-ba8b-561bfe161aa1",
   "metadata": {},
   "outputs": [],
   "source": [
    "11. Detect the outliers in updated 'Score' with boxplot, scatter plot and histogram."
   ]
  },
  {
   "cell_type": "code",
   "execution_count": 160,
   "id": "0ff0fa28-9f05-4453-9650-84fb55f820b1",
   "metadata": {},
   "outputs": [
    {
     "data": {
      "image/png": "[encoded data removed]",
      "text/plain": [
       "<Figure size 640x480 with 1 Axes>"
      ]
     },
     "metadata": {},
     "output_type": "display_data"
    },
    {
     "data": {
      "image/png": "[encoded data removed]",
      "text/plain": [
       "<Figure size 640x480 with 1 Axes>"
      ]
     },
     "metadata": {},
     "output_type": "display_data"
    },
    {
     "data": {
      "image/png": "[encoded data removed]",
      "text/plain": [
       "<Figure size 640x480 with 1 Axes>"
      ]
     },
     "metadata": {},
     "output_type": "display_data"
    }
   ],
   "source": [
    "import matplotlib.pyplot as plt\n",
    "plt.boxplot(df['Score'].dropna())\n",
    "plt.ylabel('Score')\n",
    "plt.title('Box Plot')\n",
    "plt.show()\n",
    "\n",
    "plt.scatter(df.index, df['Score'])\n",
    "plt.xlabel('index')\n",
    "plt.ylabel('Score')\n",
    "plt.title('Scatter Plot')\n",
    "plt.show()\n",
    "\n",
    "plt.hist(df['Score'], bins=10)\n",
    "plt.xlabel('Score')\n",
    "plt.ylabel('Frequency')\n",
    "plt.title('Histogram')\n",
    "plt.show()"
   ]
  },
  {
   "cell_type": "code",
   "execution_count": null,
   "id": "29ab20f7-ce29-4b9f-b31f-d7dd56e75360",
   "metadata": {},
   "outputs": [],
   "source": [
    "12. Remove the outliers using IQR by recalculating IQR in updated 'Score' and analyse with boxplot"
   ]
  },
  {
   "cell_type": "code",
   "execution_count": 161,
   "id": "a280b109-8741-4bed-bee2-4c9a28516d9f",
   "metadata": {},
   "outputs": [
    {
     "data": {
      "image/png": "[encoded data removed]",
      "text/plain": [
       "<Figure size 640x480 with 1 Axes>"
      ]
     },
     "metadata": {},
     "output_type": "display_data"
    }
   ],
   "source": [
    "Q1 = df['Score'].quantile(0.25)\n",
    "Q3 = df['Score'].quantile(0.75)\n",
    "IQR = Q3-Q1\n",
    "LB = Q1 - 1.5*IQR\n",
    "UB = Q3 + 1.5*IQR\n",
    "no_outlier_df = df[(df['Score']>=LB) & (df['Score']<=UB)]\n",
    "\n",
    "plt.boxplot(no_outlier_df['Score'])\n",
    "plt.ylabel('Score')\n",
    "plt.title('Box Plot without Outliers using IQR')\n",
    "plt.show()"
   ]
  },
  {
   "cell_type": "code",
   "execution_count": null,
   "id": "3da60f03-ce49-4d42-b3d1-3561ca3313f6",
   "metadata": {},
   "outputs": [],
   "source": [
    "13. Remove the outliers using z-score by recalculating z-score in updated 'Score' and analyse with boxplot"
   ]
  },
  {
   "cell_type": "code",
   "execution_count": 163,
   "id": "d81b5fd4-f125-4576-bdef-6e6da7a1af42",
   "metadata": {},
   "outputs": [
    {
     "data": {
      "image/png": "[encoded data removed]",
      "text/plain": [
       "<Figure size 640x480 with 1 Axes>"
      ]
     },
     "metadata": {},
     "output_type": "display_data"
    }
   ],
   "source": [
    "import numpy as np\n",
    "no_outlier_z_df = df[np.abs(df['z-score']) <= 3]\n",
    "plt.boxplot(no_outlier_z_df['Score'])\n",
    "plt.ylabel('Score')\n",
    "plt.title('Box Plot without Outlier using Z-Score')\n",
    "plt.show()"
   ]
  },
  {
   "cell_type": "code",
   "execution_count": null,
   "id": "59d3e139-9a06-4d6c-ad93-8a08e0895750",
   "metadata": {},
   "outputs": [],
   "source": [
    "14. Plot the heatmap using the correlation"
   ]
  },
  {
   "cell_type": "code",
   "execution_count": 147,
   "id": "35091bfe-72e4-45fb-b125-ff044cb18be1",
   "metadata": {},
   "outputs": [],
   "source": [
    "new_df = df.drop(['Category','Name'], axis=1)"
   ]
  },
  {
   "cell_type": "code",
   "execution_count": 148,
   "id": "26f01c12-06d9-4e53-b417-ddb98e5876bd",
   "metadata": {
    "tags": []
   },
   "outputs": [
    {
     "data": {
      "image/png": "[encoded data removed]",
      "text/plain": [
       "<Figure size 640x480 with 1 Axes>"
      ]
     },
     "metadata": {},
     "output_type": "display_data"
    }
   ],
   "source": [
    "corr_matrix = new_df.corr()\n",
    "plt.imshow(corr_matrix)\n",
    "plt.title('Correlation Heatmap')\n",
    "plt.show()"
   ]
  },
  {
   "cell_type": "code",
   "execution_count": null,
   "id": "38090c58-1155-44fa-bf37-8d6f34b35e86",
   "metadata": {},
   "outputs": [],
   "source": [
    "15. Drop the last two rows added in the dataframe"
   ]
  },
  {
   "cell_type": "code",
   "execution_count": 111,
   "id": "c53da2f3-06f8-48a6-809e-f3f79f0eef06",
   "metadata": {},
   "outputs": [
    {
     "data": {
      "text/html": [
       "<div>\n",
       "<style scoped>\n",
       "    .dataframe tbody tr th:only-of-type {\n",
       "        vertical-align: middle;\n",
       "    }\n",
       "\n",
       "    .dataframe tbody tr th {\n",
       "        vertical-align: top;\n",
       "    }\n",
       "\n",
       "    .dataframe thead th {\n",
       "        text-align: right;\n",
       "    }\n",
       "</style>\n",
       "<table border=\"1\" class=\"dataframe\">\n",
       "  <thead>\n",
       "    <tr style=\"text-align: right;\">\n",
       "      <th></th>\n",
       "      <th>sepallength</th>\n",
       "      <th>sepalwidth</th>\n",
       "      <th>petallength</th>\n",
       "      <th>petalwidth</th>\n",
       "      <th>Category</th>\n",
       "      <th>Name</th>\n",
       "      <th>Score</th>\n",
       "      <th>z-score</th>\n",
       "    </tr>\n",
       "  </thead>\n",
       "  <tbody>\n",
       "    <tr>\n",
       "      <th>22</th>\n",
       "      <td>4.9</td>\n",
       "      <td>2.5</td>\n",
       "      <td>4.5</td>\n",
       "      <td>NaN</td>\n",
       "      <td>Iris-virginica</td>\n",
       "      <td>F23</td>\n",
       "      <td>25.0</td>\n",
       "      <td>21.344267</td>\n",
       "    </tr>\n",
       "    <tr>\n",
       "      <th>23</th>\n",
       "      <td>7.3</td>\n",
       "      <td>2.9</td>\n",
       "      <td>6.3</td>\n",
       "      <td>1.8</td>\n",
       "      <td>Iris-virginica</td>\n",
       "      <td>F24</td>\n",
       "      <td>21.0</td>\n",
       "      <td>17.344267</td>\n",
       "    </tr>\n",
       "  </tbody>\n",
       "</table>\n",
       "</div>"
      ],
      "text/plain": [
       "    sepallength  sepalwidth  petallength  petalwidth        Category Name  \\\n",
       "22          4.9         2.5          4.5         NaN  Iris-virginica  F23   \n",
       "23          7.3         2.9          6.3         1.8  Iris-virginica  F24   \n",
       "\n",
       "    Score    z-score  \n",
       "22   25.0  21.344267  \n",
       "23   21.0  17.344267  "
      ]
     },
     "execution_count": 111,
     "metadata": {},
     "output_type": "execute_result"
    }
   ],
   "source": [
    "df.drop(df.tail(2).index, inplace=True)\n",
    "df.tail(2)"
   ]
  }
 ],
 "metadata": {
  "kernelspec": {
   "display_name": "Python 3 (ipykernel)",
   "language": "python",
   "name": "python3"
  },
  "language_info": {
   "codemirror_mode": {
    "name": "ipython",
    "version": 3
   },
   "file_extension": ".py",
   "mimetype": "text/x-python",
   "name": "python",
   "nbconvert_exporter": "python",
   "pygments_lexer": "ipython3",
   "version": "3.10.12"
  }
 },
 "nbformat": 4,
 "nbformat_minor": 5
}
