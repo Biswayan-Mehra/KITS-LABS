{
 "cells": [
  {
   "cell_type": "code",
   "execution_count": null,
   "id": "8d27ac1c-464f-48fd-af9c-cd407036fd79",
   "metadata": {},
   "outputs": [],
   "source": [
    "1. Create an empty dictionary and fill with some sub_code and sub_name as pair by user\n",
    "input. Then take one sub_code as input from the user and traverse through dictionary\n",
    "to find the corresponding sub_name and display the same."
   ]
  },
  {
   "cell_type": "code",
   "execution_count": 3,
   "id": "d2e9709c-8192-43a9-ac62-7e1761058383",
   "metadata": {
    "tags": []
   },
   "outputs": [
    {
     "name": "stdin",
     "output_type": "stream",
     "text": [
      "Enter key:value  1:History 2:Maths 3:English\n",
      "Enter search sub_code:  2\n"
     ]
    },
    {
     "name": "stdout",
     "output_type": "stream",
     "text": [
      "sub_name:  Maths\n"
     ]
    }
   ],
   "source": [
    "dic = dict([m.split(\":\") for m in input(\"Enter key:value \").split()])\n",
    "search = input(\"Enter search sub_code: \")\n",
    "if search in dic:\n",
    "    print(\"sub_name: \",dic[search])"
   ]
  },
  {
   "cell_type": "code",
   "execution_count": null,
   "id": "9d7674d3-23ec-4ba9-998c-38291632167f",
   "metadata": {},
   "outputs": [],
   "source": [
    "2. Create an empty list and fill with list of words by user input. Find the list of words that\n",
    "are longer than n from a given list of words.\n",
    "Sample List : [‘the’,’quick’,’brown’,’fox’]\n",
    "n : 3\n",
    "Expected Result : quick brown"
   ]
  },
  {
   "cell_type": "code",
   "execution_count": 12,
   "id": "abe938b0-ed9b-420f-9201-1681cc1ce80f",
   "metadata": {
    "tags": []
   },
   "outputs": [
    {
     "name": "stdin",
     "output_type": "stream",
     "text": [
      "Enter elements:  the quick brown fox\n",
      "Enter length: 3\n"
     ]
    },
    {
     "name": "stdout",
     "output_type": "stream",
     "text": [
      "['quick', 'brown']\n"
     ]
    }
   ],
   "source": [
    "ls = [x for x in input(\"Enter elements: \").split()]\n",
    "n = int(input(\"Enter length:\"))\n",
    "print([x for x in ls if len(x) > n])"
   ]
  },
  {
   "cell_type": "code",
   "execution_count": null,
   "id": "e0532124-1315-4a18-8454-42181e3276f7",
   "metadata": {},
   "outputs": [],
   "source": [
    "3. Create an empty set and fill with some values by user input. Check if a given value is\n",
    "present in a set or not."
   ]
  },
  {
   "cell_type": "code",
   "execution_count": 19,
   "id": "12f969e4-8a53-475d-942f-22c0dfc252b8",
   "metadata": {
    "tags": []
   },
   "outputs": [
    {
     "name": "stdin",
     "output_type": "stream",
     "text": [
      "Enter search value:  10\n",
      "Enter values:  1 2 3 4 5 6 7 8 9 0\n"
     ]
    },
    {
     "name": "stdout",
     "output_type": "stream",
     "text": [
      "Value NOT Exists.\n"
     ]
    }
   ],
   "source": [
    "if int(input(\"Enter search value: \")) in set([int(x) for x in input(\"Enter values: \").split()]):\n",
    "    print(\"Value Exists.\")\n",
    "else:\n",
    "    print(\"Value NOT Exists.\")"
   ]
  },
  {
   "cell_type": "code",
   "execution_count": null,
   "id": "d3b885ed-4113-4397-8e7b-b80367cbcfcf",
   "metadata": {},
   "outputs": [],
   "source": [
    "4. Create an empty tuple and fill with some values by user input. Count the occurrence of\n",
    "a given input number in the tuple.\n",
    "Sample : (50, 10, 60, 70, 50)\n",
    "n : 50\n",
    "Expected Result : 2"
   ]
  },
  {
   "cell_type": "code",
   "execution_count": 22,
   "id": "9151eaa2-d776-4f82-bed4-505969485c5a",
   "metadata": {
    "tags": []
   },
   "outputs": [
    {
     "name": "stdin",
     "output_type": "stream",
     "text": [
      "Enter values:  50 10 60 70 50\n",
      "Enter search value:  50\n"
     ]
    },
    {
     "name": "stdout",
     "output_type": "stream",
     "text": [
      "2\n"
     ]
    }
   ],
   "source": [
    "t = tuple([int(x) for x in input('Enter values: ').split()])\n",
    "n = int(input(\"Enter search value: \"))\n",
    "print(t.count(n))"
   ]
  },
  {
   "cell_type": "code",
   "execution_count": null,
   "id": "15dbf407-4e82-4c6c-8891-d2d7aa7996e7",
   "metadata": {},
   "outputs": [],
   "source": [
    "5. Create a 2D array and perform matrix subtraction using numpy."
   ]
  },
  {
   "cell_type": "code",
   "execution_count": 28,
   "id": "9cdb39a9-597a-46bd-a97b-7da4edb622a9",
   "metadata": {
    "tags": []
   },
   "outputs": [
    {
     "name": "stdin",
     "output_type": "stream",
     "text": [
      "Enter data:  1 2 3  4 5 6  7 8 9\n",
      "Enter data:  9 8 7  6 5 4  3 2 1\n"
     ]
    },
    {
     "name": "stdout",
     "output_type": "stream",
     "text": [
      "[[-8 -6 -4]\n",
      " [-2  0  2]\n",
      " [ 4  6  8]]\n"
     ]
    }
   ],
   "source": [
    "import numpy as np\n",
    "arr1 = np.array([[int(y) for y in x.split()] for x in input(\"Enter data: \").split(\"  \")])\n",
    "arr2 = np.array([[int(y) for y in x.split()] for x in input(\"Enter data: \").split(\"  \")])\n",
    "print(arr1-arr2)"
   ]
  },
  {
   "cell_type": "code",
   "execution_count": null,
   "id": "49f24ce3-65fa-4653-a77b-5d38783e23e5",
   "metadata": {},
   "outputs": [],
   "source": [
    "6. Read an .csv file and display the basic details."
   ]
  },
  {
   "cell_type": "code",
   "execution_count": 30,
   "id": "7f30b6b4-5af3-43b0-8a83-c5973c280840",
   "metadata": {
    "tags": []
   },
   "outputs": [
    {
     "data": {
      "text/html": [
       "<div>\n",
       "<style scoped>\n",
       "    .dataframe tbody tr th:only-of-type {\n",
       "        vertical-align: middle;\n",
       "    }\n",
       "\n",
       "    .dataframe tbody tr th {\n",
       "        vertical-align: top;\n",
       "    }\n",
       "\n",
       "    .dataframe thead th {\n",
       "        text-align: right;\n",
       "    }\n",
       "</style>\n",
       "<table border=\"1\" class=\"dataframe\">\n",
       "  <thead>\n",
       "    <tr style=\"text-align: right;\">\n",
       "      <th></th>\n",
       "      <th>Unnamed: 0</th>\n",
       "      <th>Age</th>\n",
       "      <th>Sex</th>\n",
       "      <th>ChestPain</th>\n",
       "      <th>RestBP</th>\n",
       "      <th>Chol</th>\n",
       "      <th>Fbs</th>\n",
       "      <th>RestECG</th>\n",
       "      <th>MaxHR</th>\n",
       "      <th>ExAng</th>\n",
       "      <th>Oldpeak</th>\n",
       "      <th>Slope</th>\n",
       "      <th>Ca</th>\n",
       "      <th>Thal</th>\n",
       "      <th>AHD</th>\n",
       "    </tr>\n",
       "  </thead>\n",
       "  <tbody>\n",
       "    <tr>\n",
       "      <th>0</th>\n",
       "      <td>1</td>\n",
       "      <td>63</td>\n",
       "      <td>1</td>\n",
       "      <td>typical</td>\n",
       "      <td>145</td>\n",
       "      <td>233</td>\n",
       "      <td>1</td>\n",
       "      <td>2</td>\n",
       "      <td>150</td>\n",
       "      <td>0</td>\n",
       "      <td>2.3</td>\n",
       "      <td>3</td>\n",
       "      <td>0</td>\n",
       "      <td>fixed</td>\n",
       "      <td>No</td>\n",
       "    </tr>\n",
       "    <tr>\n",
       "      <th>1</th>\n",
       "      <td>2</td>\n",
       "      <td>67</td>\n",
       "      <td>1</td>\n",
       "      <td>asymptomatic</td>\n",
       "      <td>160</td>\n",
       "      <td>286</td>\n",
       "      <td>0</td>\n",
       "      <td>2</td>\n",
       "      <td>108</td>\n",
       "      <td>1</td>\n",
       "      <td>1.5</td>\n",
       "      <td>2</td>\n",
       "      <td>3</td>\n",
       "      <td>normal</td>\n",
       "      <td>Yes</td>\n",
       "    </tr>\n",
       "  </tbody>\n",
       "</table>\n",
       "</div>"
      ],
      "text/plain": [
       "   Unnamed: 0  Age  Sex     ChestPain  RestBP  Chol  Fbs  RestECG  MaxHR  \\\n",
       "0           1   63    1       typical     145   233    1        2    150   \n",
       "1           2   67    1  asymptomatic     160   286    0        2    108   \n",
       "\n",
       "   ExAng  Oldpeak  Slope  Ca    Thal  AHD  \n",
       "0      0      2.3      3   0   fixed   No  \n",
       "1      1      1.5      2   3  normal  Yes  "
      ]
     },
     "execution_count": 30,
     "metadata": {},
     "output_type": "execute_result"
    }
   ],
   "source": [
    "import os\n",
    "import pandas as pd\n",
    "os.chdir('C:/Users/mehra/Codes/KITS/SEM 5/Intro to Data Science/LAB/LAB EXAM PREP/DataSets/')\n",
    "df = pd.read_csv('Heart.csv')\n",
    "df.head(2)"
   ]
  }
 ],
 "metadata": {
  "kernelspec": {
   "display_name": "Python 3 (ipykernel)",
   "language": "python",
   "name": "python3"
  },
  "language_info": {
   "codemirror_mode": {
    "name": "ipython",
    "version": 3
   },
   "file_extension": ".py",
   "mimetype": "text/x-python",
   "name": "python",
   "nbconvert_exporter": "python",
   "pygments_lexer": "ipython3",
   "version": "3.10.12"
  }
 },
 "nbformat": 4,
 "nbformat_minor": 5
}
