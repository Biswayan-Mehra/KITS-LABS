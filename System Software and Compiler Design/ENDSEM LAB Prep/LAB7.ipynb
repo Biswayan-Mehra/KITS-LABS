{
 "cells": [
  {
   "cell_type": "code",
   "execution_count": 22,
   "metadata": {},
   "outputs": [
    {
     "name": "stdout",
     "output_type": "stream",
     "text": [
      "['$', 'E']     |    ['id', '+', 'id', '*', 'id', '$']\n",
      "['$', 'E`', 'T']     |    ['id', '+', 'id', '*', 'id', '$']\n",
      "['$', 'E`', 'T`', 'F']     |    ['id', '+', 'id', '*', 'id', '$']\n",
      "['$', 'E`', 'T`']     |    ['+', 'id', '*', 'id', '$']\n",
      "['$', 'E`']     |    ['+', 'id', '*', 'id', '$']\n",
      "['$', 'E`', 'T']     |    ['id', '*', 'id', '$']\n",
      "['$', 'E`', 'T`', 'F']     |    ['id', '*', 'id', '$']\n",
      "['$', 'E`', 'T`']     |    ['*', 'id', '$']\n",
      "['$', 'E`', 'T`', 'F']     |    ['id', '$']\n",
      "['$', 'E`', 'T`']     |    ['$']\n",
      "['$', 'E`']     |    ['$']\n"
     ]
    }
   ],
   "source": [
    "parsing_table = {\n",
    "    'E' : {'id': ['T','E`'], '(':['T', 'E`']},\n",
    "    'E`' : {'+': ['+', 'T', 'E`'], ')': ['e'], '$': ['e']},\n",
    "    'T' : {'id': ['F', 'T`'], '(': ['F', 'T`']},\n",
    "    'T`' : {'+': ['e'], '*': ['*', 'F', 'T`'], ')': ['e'], '$': ['e']},\n",
    "    'F' : {'id': ['id'], '(': ['(E)']}\n",
    "}\n",
    "\n",
    "input_str = ['id', '+', 'id', '*', 'id', '$']\n",
    "stack = ['$', 'E']\n",
    "\n",
    "while  stack[-1] != '$':\n",
    "    print(stack, \"    |   \", input_str)\n",
    "    if stack[-1] in parsing_table:\n",
    "        for key, value in parsing_table[stack[-1]].items():\n",
    "            if  key == input_str[0]:\n",
    "                stack.pop()\n",
    "                for i in value[::-1]:\n",
    "                    stack.append(i)\n",
    "            if stack[-1] == input_str[0]:\n",
    "                stack.pop()\n",
    "                input_str = input_str[1:]\n",
    "            if stack[-1] == 'e':\n",
    "                stack.pop()\n"
   ]
  },
  {
   "cell_type": "code",
   "execution_count": null,
   "metadata": {},
   "outputs": [],
   "source": []
  }
 ],
 "metadata": {
  "kernelspec": {
   "display_name": "Python 3 (ipykernel)",
   "language": "python",
   "name": "python3"
  },
  "language_info": {
   "codemirror_mode": {
    "name": "ipython",
    "version": 3
   },
   "file_extension": ".py",
   "mimetype": "text/x-python",
   "name": "python",
   "nbconvert_exporter": "python",
   "pygments_lexer": "ipython3",
   "version": "3.11.5"
  }
 },
 "nbformat": 4,
 "nbformat_minor": 4
}
