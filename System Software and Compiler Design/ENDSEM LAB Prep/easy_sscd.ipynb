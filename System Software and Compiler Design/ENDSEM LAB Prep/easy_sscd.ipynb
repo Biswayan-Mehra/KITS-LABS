{
 "cells": [
  {
   "cell_type": "markdown",
   "id": "199c2819-0d3a-49bf-94f1-856e6b458421",
   "metadata": {},
   "source": [
    "# 1. Token Seperation"
   ]
  },
  {
   "cell_type": "code",
   "execution_count": 1,
   "id": "34b17a1e-8807-4ea2-bd4b-d08136d73e8d",
   "metadata": {
    "tags": []
   },
   "outputs": [
    {
     "name": "stdout",
     "output_type": "stream",
     "text": [
      "< KEYWORD, public>\n",
      "< KEYWORD, static>\n",
      "< KEYWORD, void>\n",
      "< IDENTIFIER, main>\n",
      "< PUNCTUATION, (>\n",
      "< PUNCTUATION, )>\n",
      "< PUNCTUATION, {>\n",
      "< KEYWORD, int>\n",
      "< IDENTIFIER, a>\n",
      "< PUNCTUATION, ,>\n",
      "< IDENTIFIER, b>\n",
      "< PUNCTUATION, ;>\n",
      "< KEYWORD, int>\n",
      "< IDENTIFIER, c>\n",
      "< PUNCTUATION, =>\n",
      "< IDENTIFIER, a>\n",
      "< OPERATOR, ->\n",
      "< IDENTIFIER, b>\n",
      "< PUNCTUATION, ;>\n",
      "< PUNCTUATION, }>\n"
     ]
    }
   ],
   "source": [
    "import re\n",
    "\n",
    "keywords = [\"if\", \"and\", \"for\", \"while\", \"public\", \"void\", \"int\", \"static\"]\n",
    "\n",
    "operators = [\"+\", \"-\", \"*\", \"/\", \"%\"]\n",
    "\n",
    "token_patterns = [\n",
    "    (r\"[ \\t\\n]+\", None),\n",
    "    (r\"\\d+\", \"INTEGER\"),\n",
    "    (r\"[a-zA-Z_][a-zA-Z_0-9]*\", \"IDENTIFIER\"),\n",
    "    (r\"[()-{},*;/=+%]\", \"PUNCTUATION\"),\n",
    "]\n",
    "\n",
    "\n",
    "def tokenize(code):\n",
    "    tokens = []\n",
    "    while code:\n",
    "        match = None\n",
    "        for pattern, tag in token_patterns:\n",
    "            regex = re.compile(pattern)\n",
    "            match = regex.match(code)\n",
    "            if match:\n",
    "                text = match.group(0)\n",
    "\n",
    "                if tag == \"IDENTIFIER\":\n",
    "                    tag = \"KEYWORD\" if text in keywords else tag\n",
    "\n",
    "                if tag == \"PUNCTUATION\":\n",
    "                    tag = \"OPERATOR\" if text in operators else tag\n",
    "\n",
    "                if tag:\n",
    "                    tokens.append((tag, text))\n",
    "                break\n",
    "\n",
    "        if not match: #remember this is outside the for loop\n",
    "            print(\"Error: Invalid Usage\")\n",
    "            break\n",
    "\n",
    "\n",
    "        code = code[match.end():]\n",
    "    return tokens\n",
    "\n",
    "java_code=\"\"\"\n",
    "public static void main(){\n",
    "    int a, b;\n",
    "    int c = a - b;\n",
    "}\n",
    "\"\"\"\n",
    "\n",
    "tokens = tokenize(java_code)\n",
    "for t in tokens:\n",
    "    print(f\"< {t[0]}, {t[1]}>\")\n"
   ]
  },
  {
   "cell_type": "markdown",
   "id": "305f27ee-bac5-465b-9540-1799afb3e7ba",
   "metadata": {},
   "source": [
    "----"
   ]
  },
  {
   "cell_type": "markdown",
   "id": "3da30841-4719-4492-a122-27b44365c0fa",
   "metadata": {
    "tags": []
   },
   "source": [
    "# 2. Symbol tabel"
   ]
  },
  {
   "cell_type": "code",
   "execution_count": 3,
   "id": "4a1dc648-8d1d-47fa-ad15-245180d9c637",
   "metadata": {},
   "outputs": [
    {
     "name": "stdout",
     "output_type": "stream",
     "text": [
      "a ==> {'Data type': 'int', 'Value': 0}\n",
      "b ==> {'Data type': 'int', 'Value': 0}\n",
      "c ==> {'Data type': 'int', 'Value': '8'}\n",
      "d ==> {'Data type': 'float', 'Value': 0}\n",
      "e ==> {'Data type': 'float', 'Value': '5.7'}\n",
      "f ==> {'Data type': 'char', 'Value': '\"Hi\"'}\n",
      "Add ==> {'Retuen Type': 'double', 'Number of Parameters': 2, 'Parameters Datatypes': ['double', 'double']}\n"
     ]
    }
   ],
   "source": [
    "def generate_symbol_tabel(code):\n",
    "    symbol_tabel = {}\n",
    "    lines = code.split(\";\")\n",
    "\n",
    "    for line in lines:\n",
    "        tokens = line.split()\n",
    "        if len(tokens)>0:\n",
    "            datatype = tokens[0]\n",
    "\n",
    "            if '(' in line and ')' in line:\n",
    "                function_return_type = tokens[0]\n",
    "                function_name = tokens[1].split(\"(\")[0]\n",
    "                parameters = line.split(\"(\")[1].split(\")\")[0].split(\",\")\n",
    "                no_of_prarameters = len(parameters)\n",
    "                parameters_dtypes = [i.split()[0] for i in parameters]\n",
    "                symbol_tabel[function_name] = {\"Retuen Type\" : function_return_type,\n",
    "                                               \"Number of Parameters\" : no_of_prarameters,\n",
    "                                               \"Parameters Datatypes\" : parameters_dtypes}\n",
    "            else:\n",
    "                variables = \"\".join(tokens[1:]).split(\",\")\n",
    "                for var in variables:\n",
    "                    variable_name, *variable_val = var.split(\"=\")\n",
    "                    variable_val = variable_val[0] if variable_val else 0\n",
    "                    symbol_tabel[variable_name] = {\"Data type\" : datatype,\n",
    "                                                   \"Value\" : variable_val}\n",
    "\n",
    "    for key, val in symbol_tabel.items():\n",
    "        print(f\"{key} ==> {val}\")\n",
    "\n",
    "\n",
    "input_code = \"\"\"int a, b, c = 8;\n",
    "                float d, e = 5.7;\n",
    "                char f = \"Hi\";\n",
    "                double Add(double x, double y);\n",
    "\"\"\"\n",
    "generate_symbol_tabel(input_code)\n"
   ]
  },
  {
   "cell_type": "markdown",
   "id": "c9d88edc-7f0e-486a-a84b-5c8de0763a4d",
   "metadata": {},
   "source": [
    "----"
   ]
  },
  {
   "cell_type": "markdown",
   "id": "1e967eeb-8c76-4b2d-8eb4-d5035c1e9c7d",
   "metadata": {},
   "source": [
    "# 3. MacroProcessor "
   ]
  },
  {
   "cell_type": "code",
   "execution_count": 17,
   "id": "f9c96447-7f9b-41ad-8b21-8a4e254d3ed6",
   "metadata": {
    "tags": []
   },
   "outputs": [
    {
     "name": "stdout",
     "output_type": "stream",
     "text": [
      "#include <stdio.h> \n",
      "void main(){ \n",
      "int a, b, c, r, r_sq; \n",
      "c = (a+b); \n",
      "r = (a+b+c); \n",
      "r_sq = (r*r); \n",
      "} \n",
      "\n"
     ]
    }
   ],
   "source": [
    "def get_define_dict(input_code):\n",
    "    define_dict = {}\n",
    "    lines = input_code.split(\"\\n\")\n",
    "    for line in lines:\n",
    "        words = line.split()\n",
    "        if words[0] == \"#define\":\n",
    "            if '(' in words[-1] and ')' in words[-1]:\n",
    "                fun_name = words[1].split('(')[0]\n",
    "                params = words[1].split('(')[1].split(\")\")[0]\n",
    "                params_list = params.split(',')\n",
    "                operation = words[-1]\n",
    "                define_dict[fun_name] = {'params_list' : params_list, 'operation': operation}\n",
    "            else:\n",
    "                identi = words[1]\n",
    "                value = words[-1]\n",
    "                define_dict[identi] = {'value': value}\n",
    "    return define_dict\n",
    "\n",
    "def generate_output(input_code, define_dict):\n",
    "    output = \"\"\n",
    "    line = input_code.split(\"\\n\")\n",
    "    lines = [i.strip() for i in line]\n",
    "    for line in lines:\n",
    "        words = line.split()\n",
    "        if words[0] == \"#define\":\n",
    "            continue\n",
    "        else:\n",
    "            for j in words:\n",
    "                for key in define_dict:\n",
    "                    if key in j and '(' in j and ')' in j:\n",
    "                        params = j.split('(')[1].split(')')[0]\n",
    "                        params_list = params.split(',')\n",
    "                        modified_operation = define_dict[key]['operation']\n",
    "                        for idx, name in enumerate(define_dict[key]['params_list']):\n",
    "                            modified_operation = modified_operation.replace(name, params_list[idx])\n",
    "                        j = j.replace(f\"{key}({params})\", modified_operation)\n",
    "                        string = j\n",
    "                    elif key in j:\n",
    "                        j = j.replace(key, define_dict[key][value])\n",
    "                        string = j\n",
    "                    else:\n",
    "                        string = j\n",
    "                output += string+' '\n",
    "            output += '\\n'\n",
    "\n",
    "\n",
    "    return output\n",
    "\n",
    "input_code =\"\"\"#include <stdio.h>\n",
    "    #define PI 3.14\n",
    "    #define ADD(x,y) (x+y)\n",
    "    #define ADD3(x,y,z) (x+y+z)\n",
    "    #define SQUARE(x) (x*x)\n",
    "    void main(){\n",
    "        int a, b, c, r, r_sq;\n",
    "        c = ADD(a,b);\n",
    "        r = ADD3(a,b,c);\n",
    "        r_sq = SQUARE(r);\n",
    "    }\"\"\"\n",
    "define_dict = get_define_dict(input_code)\n",
    "output = generate_output(input_code, define_dict)\n",
    "print(output)\n"
   ]
  },
  {
   "cell_type": "markdown",
   "id": "926b40de-a5e5-4229-aa9e-2da2ff8c4934",
   "metadata": {},
   "source": [
    "-----------"
   ]
  },
  {
   "cell_type": "markdown",
   "id": "223d7031-4d4f-4b42-a84a-d0224e4e6db2",
   "metadata": {
    "tags": []
   },
   "source": [
    "# 5. DFA"
   ]
  },
  {
   "cell_type": "code",
   "execution_count": 20,
   "id": "c74f8f95-3d59-466f-86a9-9271cb8a41ec",
   "metadata": {
    "tags": []
   },
   "outputs": [
    {
     "name": "stdout",
     "output_type": "stream",
     "text": [
      "Enter number of states:  3\n",
      "Enter the state:  e0\n",
      "for a:  e0\n",
      "for b:  e1\n"
     ]
    },
    {
     "name": "stdout",
     "output_type": "stream",
     "text": [
      "-----------------------------------\n"
     ]
    },
    {
     "name": "stdout",
     "output_type": "stream",
     "text": [
      "Enter the state:  e1\n",
      "for a:  e0\n",
      "for b:  e2\n"
     ]
    },
    {
     "name": "stdout",
     "output_type": "stream",
     "text": [
      "-----------------------------------\n"
     ]
    },
    {
     "name": "stdout",
     "output_type": "stream",
     "text": [
      "Enter the state:  e2\n",
      "for a:  e0\n",
      "for b:  e2\n"
     ]
    },
    {
     "name": "stdout",
     "output_type": "stream",
     "text": [
      "-----------------------------------\n"
     ]
    },
    {
     "name": "stdout",
     "output_type": "stream",
     "text": [
      "Enter start state:  e0\n",
      "Enter final state(s):  e0 e1\n",
      "Enter the string:  abbbab\n"
     ]
    },
    {
     "name": "stdout",
     "output_type": "stream",
     "text": [
      "Yes, Striung is accepted by DFA\n"
     ]
    }
   ],
   "source": [
    "number_of_states = int(input(\"Enter number of states: \"))\n",
    "dfa = {}\n",
    "\n",
    "for i in range(number_of_states):\n",
    "    state = input(\"Enter the state: \")\n",
    "    a_trans = input(\"for a: \")\n",
    "    b_trans = input(\"for b: \")\n",
    "    dfa[state] = {\"a\": a_trans, \"b\": b_trans}\n",
    "    print(\"-----------------------------------\")\n",
    "start_state = input(\"Enter start state: \")\n",
    "final_state = input(\"Enter final state(s): \").split()\n",
    "string = input(\"Enter the string: \")\n",
    "\n",
    "curr_state = start_state\n",
    "\n",
    "for char in string:\n",
    "    if char in dfa[curr_state]:\n",
    "        curr_state = dfa[curr_state][char]\n",
    "    else:\n",
    "        print(\"Striung is not accepted by DFA\")\n",
    "        break\n",
    "\n",
    "if curr_state in final_state:\n",
    "    print(\"Yes, Striung is accepted by DFA\")\n",
    "else:\n",
    "    print(\"Striung is not accepted by DFA\")\n"
   ]
  },
  {
   "cell_type": "markdown",
   "id": "4108fe59-066c-4dd8-9af9-264f4d2ff0ca",
   "metadata": {},
   "source": [
    "---"
   ]
  },
  {
   "cell_type": "markdown",
   "id": "f5f5b4fd-1ce9-4e99-9b80-7058fd5bb7d6",
   "metadata": {},
   "source": [
    "# 7.Predictive Parsing"
   ]
  },
  {
   "cell_type": "code",
   "execution_count": 36,
   "id": "53ccff81-2b76-485d-afbe-84c24aaf28b3",
   "metadata": {
    "tags": []
   },
   "outputs": [
    {
     "name": "stdout",
     "output_type": "stream",
     "text": [
      "STACK      INPUT      OUTPUT    \n",
      "$E         id+id*id$            \n",
      "$E'T       id+id*id$  E -> TE'       \n",
      "$E'T'F     id+id*id$  T -> FT'       \n",
      "$E'T'id    id+id*id$  F -> id        \n",
      "$E'T'      +id*id$              \n",
      "$E'        +id*id$    T' -> e         \n",
      "$E'T+      +id*id$    E' -> +TE'      \n",
      "$E'T       id*id$               \n",
      "$E'T'F     id*id$     T -> FT'       \n",
      "$E'T'id    id*id$     F -> id        \n",
      "$E'T'      *id$                 \n",
      "$E'T'F*    *id$       T' -> *FT'      \n",
      "$E'T'F     id$                  \n",
      "$E'T'id    id$        F -> id        \n",
      "$E'T'      $                    \n",
      "$E'        $          T' -> e         \n",
      "$          $          E' -> e         \n",
      "Accepted\n"
     ]
    }
   ],
   "source": [
    "parsing_table = {\n",
    "    \"E\": {\n",
    "        \"id\": [\"T\", \"E'\"],\n",
    "        \"+\": None,\n",
    "        \"*\": None,\n",
    "        \"(\": [\"T\", \"E'\"],\n",
    "        \")\": None,\n",
    "        \"$\": None\n",
    "    },\n",
    "    \"E'\": {\n",
    "        \"id\": None,\n",
    "        \"+\": [\"+\", \"T\", \"E'\"],\n",
    "        \"*\": None,\n",
    "        \"(\": None,\n",
    "        \")\": [],\n",
    "        \"$\": []\n",
    "    },\n",
    "    \"T\": {\n",
    "        \"id\": [\"F\", \"T'\"],\n",
    "        \"+\": None,\n",
    "        \"*\": None,\n",
    "        \"(\": [\"F\", \"T'\"],\n",
    "        \")\": None,\n",
    "        \"$\": None\n",
    "    },\n",
    "    \"T'\": {\n",
    "        \"id\": None,\n",
    "        \"+\": [],\n",
    "        \"*\": [\"*\", \"F\", \"T'\"],\n",
    "        \"(\": None,\n",
    "        \")\": [],\n",
    "        \"$\": []\n",
    "    },\n",
    "    \"F\": {\n",
    "        \"id\": [\"id\"],\n",
    "        \"+\": None,\n",
    "        \"*\": None,\n",
    "        \"(\": [\"(\", \"E\", \")\"],\n",
    "        \")\": None,\n",
    "        \"$\": None\n",
    "    }\n",
    "}\n",
    "\n",
    "non_terminals = ['id', '*', '+', '(', ')', '$']\n",
    "input_expr = ['id', '+', 'id', '*', 'id', '$']\n",
    "stack = [\"$\", \"E\"]\n",
    "print(f\"{'STACK':<10} {'INPUT':<10} {'OUTPUT':<10}\")\n",
    "print(f\"{''.join(stack):<10} {''.join(input_expr):<10} {'':<10}\")\n",
    "\n",
    "while stack != ['$']:\n",
    "    last = stack.pop()\n",
    "    stack += parsing_table[last][input_expr[0]][::-1]\n",
    "    print(f\"{''.join(stack):<10} {''.join(input_expr):<10} {last} -> {''.join(parsing_table[last][input_expr[0]]) if parsing_table[last][input_expr[0]] != [] else 'e' :<10}\")\n",
    "    while stack[-1] == input_expr[0]:\n",
    "        if len(stack) == 1 and len(input_expr) == 1:\n",
    "            print(\"Accepted\")\n",
    "            break\n",
    "        stack.pop()\n",
    "        input_expr.pop(0)\n",
    "        print(f\"{''.join(stack):<10} {''.join(input_expr):<10} {'':<10}\")\n"
   ]
  },
  {
   "cell_type": "markdown",
   "id": "581abe9a-31b5-41b2-aa80-135091c45a05",
   "metadata": {},
   "source": [
    "----------"
   ]
  },
  {
   "cell_type": "markdown",
   "id": "63bc96f2-186e-40ca-86d4-1d3674f0c6dc",
   "metadata": {
    "tags": []
   },
   "source": [
    "# 8. Simulation of loader"
   ]
  },
  {
   "cell_type": "code",
   "execution_count": 3,
   "id": "36c405ac-ff4d-4b9c-9aca-51c13e508f45",
   "metadata": {
    "tags": []
   },
   "outputs": [
    {
     "name": "stdout",
     "output_type": "stream",
     "text": [
      "Obj for: df\n",
      "001000 00\n",
      "001001 10\n",
      "001002 03\n",
      "001003 07\n",
      "001004 10\n",
      "001005 09\n",
      "002000 11\n",
      "002001 11\n",
      "002002 11\n"
     ]
    }
   ],
   "source": [
    "a = open(\"LAB8_input.txt\")\n",
    "a = a.readlines()\n",
    "prog_name = input(\"Enter program name: \")\n",
    "print(f\"Obj for: {prog_name}\")\n",
    "\n",
    "for line in a:\n",
    "    opcode = line.split('^')\n",
    "    if opcode[0] == 'E':\n",
    "        break\n",
    "    elif opcode[0] == 'T':\n",
    "        address = int(opcode[1], 16)\n",
    "        for elemt in opcode[3:]:\n",
    "            for i in range(0, len(elemt), 2):\n",
    "                if elemt[i:i+2].strip() == \"\":\n",
    "                    continue\n",
    "                print(f\"{address:06X} {elemt[i:i+2]}\")\n",
    "                address +=1\n"
   ]
  },
  {
   "cell_type": "markdown",
   "id": "b061d956-b937-4678-a33d-9a7df3d55da1",
   "metadata": {},
   "source": [
    "----------"
   ]
  },
  {
   "cell_type": "markdown",
   "id": "be0035bd-dc8e-43d3-b818-072749b2bbde",
   "metadata": {},
   "source": [
    "# 9. YACC"
   ]
  },
  {
   "cell_type": "raw",
   "id": "b3426ce7-aef5-4e62-b5d4-b6fa0d1dd7cc",
   "metadata": {
    "vscode": {
     "languageId": "raw"
    }
   },
   "source": [
    "%{\n",
    "#include <stdio.h>\n",
    "#include <stdlib.h>\n",
    "%}\n",
    "\n",
    "%token DIGIT\n",
    "\n",
    "%left '+' '-'\n",
    "%left '*' '/'\n",
    "\n",
    "%%\n",
    "\n",
    "L : E {printf(\"Result: %d\\n\", $1);}\n",
    "  ;\n",
    "\n",
    "E : E '+' T {$$ = $1 + $3;}\n",
    "  | E '-' T {$$ = $1 - $3;}\n",
    "  | T\n",
    "  ;\n",
    "\n",
    "T : T '*' F {$$ = $1 * $3;}\n",
    "  | T '/' F {$$ = $1 / $3;}\n",
    "  |F\n",
    "  ;\n",
    "\n",
    "F : '(' E ')' {$$ = $2;}\n",
    "  | DIGIT {$$ = $1;}\n",
    "  ;\n",
    "\n",
    "%%\n",
    "\n",
    "int yylex(){\n",
    "    int c;\n",
    "    while ((c = getchar()) == ' ' || c == '\\t');\n",
    "    if (c == '+' || c == '-' || c == '*' || c == '/' || c == '(' || c == ')'){\n",
    "        return c;\n",
    "    }\n",
    "    else if (c >= '0' && c <= '9') {\n",
    "        int num = c - '0';\n",
    "        while ((c = getchar()) >= '0' && c <= '9'){\n",
    "            num = num * 10 + (c - '0');\n",
    "        }\n",
    "        ungetc(c, stdin);\n",
    "        yylval = num;\n",
    "        return DIGIT;\n",
    "    }\n",
    "    else if(c == '\\n' || c == EOF){\n",
    "        return 0;\n",
    "    }\n",
    "    else{\n",
    "        return -1;\n",
    "    }\n",
    "}\n",
    "void yyerror(const char *s){\n",
    "    printf(\"Error: %s\\n\", s);\n",
    "}\n",
    "int main(){\n",
    "    yyparse();\n",
    "    return 0;\n",
    "}\n"
   ]
  },
  {
   "cell_type": "raw",
   "id": "6a2eff12-eec5-464b-b202-b74ad5597c53",
   "metadata": {
    "vscode": {
     "languageId": "raw"
    }
   },
   "source": [
    "yacc -d test.y\n",
    "gcc -o test y.tab.c\n",
    "./test\n"
   ]
  },
  {
   "cell_type": "markdown",
   "id": "b244ca2a-779e-4826-80cf-e08a56614dbd",
   "metadata": {},
   "source": [
    "----"
   ]
  },
  {
   "cell_type": "markdown",
   "id": "4ecd1e76-45d1-4f68-b5ef-3383acfc88e9",
   "metadata": {
    "tags": []
   },
   "source": [
    "# 10. Three address code "
   ]
  },
  {
   "cell_type": "code",
   "execution_count": 8,
   "id": "a63e85aa-10d0-4d10-8e3d-086454791a8e",
   "metadata": {
    "tags": []
   },
   "outputs": [
    {
     "name": "stdout",
     "output_type": "stream",
     "text": [
      "Enter the Expression:  (a+b) - c /d\n"
     ]
    },
    {
     "name": "stdout",
     "output_type": "stream",
     "text": [
      "t1 = (a+b) \n",
      "t2 = t1- c \n",
      "t3 = t2/d\n"
     ]
    }
   ],
   "source": [
    "import re\n",
    "operators = ['+', '-', '*', '/']\n",
    "user_expression = input(\"Enter the Expression: \")\n",
    "m = re.split(\"([+-/*])\", user_expression)\n",
    "y = []\n",
    "j = 1\n",
    "\n",
    "while len(m) > 1:\n",
    "    for word in m:\n",
    "        if word in operators:\n",
    "            y.append(''.join(m[0:3]))\n",
    "            m.pop(0)\n",
    "            m.pop(0)\n",
    "            m[0] = \"t\" + str(j)\n",
    "            j += 1\n",
    "\n",
    "for i in range(0, len(y)):\n",
    "    print(f\"t{i+1} = {y[i]}\")\n"
   ]
  },
  {
   "cell_type": "markdown",
   "id": "2568e4e6-b7c2-461d-bed4-1017fd94e16b",
   "metadata": {},
   "source": [
    "----"
   ]
  }
 ],
 "metadata": {
  "kernelspec": {
   "display_name": "Python 3 (ipykernel)",
   "language": "python",
   "name": "python3"
  },
  "language_info": {
   "codemirror_mode": {
    "name": "ipython",
    "version": 3
   },
   "file_extension": ".py",
   "mimetype": "text/x-python",
   "name": "python",
   "nbconvert_exporter": "python",
   "pygments_lexer": "ipython3",
   "version": "3.11.5"
  }
 },
 "nbformat": 4,
 "nbformat_minor": 5
}
