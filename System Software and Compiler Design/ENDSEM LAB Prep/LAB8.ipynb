{
 "cells": [
  {
   "cell_type": "code",
   "execution_count": 1,
   "metadata": {},
   "outputs": [
    {
     "name": "stdout",
     "output_type": "stream",
     "text": [
      "001000 00\n",
      "001001 10\n",
      "001002 03\n",
      "001003 07\n",
      "001004 10\n",
      "001005 09\n",
      "002000 11\n",
      "002001 11\n",
      "002002 11\n"
     ]
    }
   ],
   "source": [
    "input_str = '''\n",
    "H^SAMPLE^001000^0035\n",
    "T^001000^0C^001003^071009\n",
    "T^002000^03^111111\n",
    "E^001000\n",
    "'''\n",
    "for x in input_str.split():\n",
    "  if \"E\" in x[0]:\n",
    "    continue\n",
    "  elif \"T\" in x[0]:\n",
    "    temp = x.split('^')\n",
    "    address = int(temp[1],16)\n",
    "    temp = \"\".join(temp[3:])\n",
    "    for i in range(0,len(temp),2):\n",
    "      print(f\"{address:06X} {temp[i:i+2]}\")\n",
    "      address += 1\n"
   ]
  },
  {
   "cell_type": "code",
   "execution_count": null,
   "metadata": {},
   "outputs": [],
   "source": []
  }
 ],
 "metadata": {
  "kernelspec": {
   "display_name": "Python 3 (ipykernel)",
   "language": "python",
   "name": "python3"
  },
  "language_info": {
   "codemirror_mode": {
    "name": "ipython",
    "version": 3
   },
   "file_extension": ".py",
   "mimetype": "text/x-python",
   "name": "python",
   "nbconvert_exporter": "python",
   "pygments_lexer": "ipython3",
   "version": "3.11.5"
  }
 },
 "nbformat": 4,
 "nbformat_minor": 4
}
