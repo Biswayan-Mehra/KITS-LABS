{
 "cells": [
  {
   "cell_type": "code",
   "execution_count": 1,
   "metadata": {},
   "outputs": [
    {
     "name": "stdout",
     "output_type": "stream",
     "text": [
      "t1 = a+b\n",
      "t2 = t1-c\n",
      "t3 = t2-d\n"
     ]
    }
   ],
   "source": [
    "input_str = \"a+b-c-d\"\n",
    "operators = \"+-*/%\"\n",
    "\n",
    "count = 0\n",
    "for x in range(2, len(input_str)):\n",
    "  if x == len(input_str):\n",
    "      break\n",
    "  if input_str[x-1]  in operators:\n",
    "    count+=1\n",
    "    print(f\"t{count} = {input_str[:x+1]}\")\n",
    "    input_str = input_str.replace( input_str[:x+1],f\"t{count}\")\n",
    "\n",
    "print(f\"t{count+1} = {input_str}\")\n"
   ]
  },
  {
   "cell_type": "code",
   "execution_count": null,
   "metadata": {},
   "outputs": [],
   "source": []
  }
 ],
 "metadata": {
  "kernelspec": {
   "display_name": "Python 3 (ipykernel)",
   "language": "python",
   "name": "python3"
  },
  "language_info": {
   "codemirror_mode": {
    "name": "ipython",
    "version": 3
   },
   "file_extension": ".py",
   "mimetype": "text/x-python",
   "name": "python",
   "nbconvert_exporter": "python",
   "pygments_lexer": "ipython3",
   "version": "3.11.5"
  }
 },
 "nbformat": 4,
 "nbformat_minor": 4
}
