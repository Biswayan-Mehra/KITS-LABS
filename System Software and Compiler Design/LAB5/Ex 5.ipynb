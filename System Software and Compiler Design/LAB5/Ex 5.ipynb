{
 "cells": [
  {
   "cell_type": "code",
   "execution_count": 27,
   "metadata": {
    "executionInfo": {
     "elapsed": 511,
     "status": "ok",
     "timestamp": 1707388006548,
     "user": {
      "displayName": "Tara Ann Lukose URK21CS1022",
      "userId": "02759760966450314367"
     },
     "user_tz": 720
    },
    "id": "4Uz6JUfY6O_s"
   },
   "outputs": [],
   "source": [
    "class DFA:\n",
    "    def __init__(self, transitions, start, F, trap = 'TRAP'):\n",
    "        self.transitions = transitions\n",
    "        self.start = start\n",
    "        self.F = F\n",
    "        self.trap = trap\n",
    "\n",
    "    def forward(self, ch, state):\n",
    "        return self.transitions[state].get(ch, self.trap)\n",
    "\n",
    "    def eval(self, ip):\n",
    "        state = self.start\n",
    "        for ch in ip:\n",
    "            state = self.forward(ch, state)\n",
    "            if state == self.trap:\n",
    "                return self.trap\n",
    "        return state\n",
    "\n",
    "    def check_acceptance(self, ip):\n",
    "        return self.eval(ip) in self.F\n",
    "\n",
    "    def __repr__(self):\n",
    "        return \" \".join(map(str, [\n",
    "            \"States:\",\n",
    "            self.transitions.keys(),\n",
    "            \"\\nTransitions:\",\n",
    "            self.transitions,\n",
    "            \"\\nStart:\",\n",
    "            self.start,\n",
    "            \"\\nFinal states: \",\n",
    "            self.F]))"
   ]
  },
  {
   "cell_type": "code",
   "execution_count": 32,
   "metadata": {
    "executionInfo": {
     "elapsed": 3,
     "status": "ok",
     "timestamp": 1707388067250,
     "user": {
      "displayName": "Tara Ann Lukose URK21CS1022",
      "userId": "02759760966450314367"
     },
     "user_tz": 720
    },
    "id": "32PSWdjm9Eni"
   },
   "outputs": [],
   "source": [
    "dfa1 = DFA(\n",
    "    {\n",
    "    'A':{'a':'B', 'b':'A'},\n",
    "    'B':{'a':'B', 'b':'C'},\n",
    "    'C':{'a':'B', 'b':'D'},\n",
    "    'D':{'a':'B', 'b':'A'}\n",
    "    },\n",
    "    'A', set('D'))"
   ]
  },
  {
   "cell_type": "code",
   "execution_count": 68,
   "metadata": {
    "colab": {
     "base_uri": "https://localhost:8080/"
    },
    "executionInfo": {
     "elapsed": 663,
     "status": "ok",
     "timestamp": 1707390487905,
     "user": {
      "displayName": "Tara Ann Lukose URK21CS1022",
      "userId": "02759760966450314367"
     },
     "user_tz": 720
    },
    "id": "ikCe4665-AW4",
    "outputId": "1d61dc50-7dff-4841-c729-bf9c66b832a5"
   },
   "outputs": [
    {
     "data": {
      "text/plain": [
       "True"
      ]
     },
     "execution_count": 68,
     "metadata": {},
     "output_type": "execute_result"
    }
   ],
   "source": [
    "dfa1.check_acceptance('aabb')"
   ]
  },
  {
   "cell_type": "code",
   "execution_count": 46,
   "metadata": {
    "executionInfo": {
     "elapsed": 1,
     "status": "ok",
     "timestamp": 1707388205982,
     "user": {
      "displayName": "Tara Ann Lukose URK21CS1022",
      "userId": "02759760966450314367"
     },
     "user_tz": 720
    },
    "id": "Makpl_IDPlL3"
   },
   "outputs": [],
   "source": [
    "dfa2 = DFA(\n",
    "    {\n",
    "        'A': {'1':'B'},\n",
    "        'B': {'0':'C'},\n",
    "        'C': {'0':'D'},\n",
    "        'D': {'0':'E', '1':'G'},\n",
    "        'E':{'0':'F'},\n",
    "        'F':{'0':'D', '1':'G'},\n",
    "        'G':{}\n",
    "    },\n",
    "    'A',\n",
    "    set('G')\n",
    ")"
   ]
  },
  {
   "cell_type": "code",
   "execution_count": 67,
   "metadata": {
    "colab": {
     "base_uri": "https://localhost:8080/"
    },
    "executionInfo": {
     "elapsed": 2,
     "status": "ok",
     "timestamp": 1707390036215,
     "user": {
      "displayName": "Tara Ann Lukose URK21CS1022",
      "userId": "02759760966450314367"
     },
     "user_tz": 720
    },
    "id": "bArr6OwmQT_u",
    "outputId": "c7b37fbc-276d-4b94-b934-908a6bca9473"
   },
   "outputs": [
    {
     "data": {
      "text/plain": [
       "False"
      ]
     },
     "execution_count": 67,
     "metadata": {},
     "output_type": "execute_result"
    }
   ],
   "source": [
    "dfa2.check_acceptance('0011')"
   ]
  },
  {
   "cell_type": "code",
   "execution_count": 63,
   "metadata": {
    "executionInfo": {
     "elapsed": 398,
     "status": "ok",
     "timestamp": 1707389530558,
     "user": {
      "displayName": "Tara Ann Lukose URK21CS1022",
      "userId": "02759760966450314367"
     },
     "user_tz": 720
    },
    "id": "k00tnk7YQx8a"
   },
   "outputs": [],
   "source": [
    "dfa3 = DFA(\n",
    "    {\n",
    "        'A': {'a':'A', 'b':'B'},\n",
    "        'B':{'a':'A', 'b':'C'},\n",
    "        'C':{'a':'E', 'b':'D'},\n",
    "        'D':{'a':'E', 'b':'D'},\n",
    "        'E':{'a':'A', 'b':'B'}\n",
    "    },\n",
    "    'A',\n",
    "    set('ED')\n",
    ")"
   ]
  },
  {
   "cell_type": "code",
   "execution_count": 65,
   "metadata": {
    "colab": {
     "base_uri": "https://localhost:8080/"
    },
    "executionInfo": {
     "elapsed": 2,
     "status": "ok",
     "timestamp": 1707389549432,
     "user": {
      "displayName": "Tara Ann Lukose URK21CS1022",
      "userId": "02759760966450314367"
     },
     "user_tz": 720
    },
    "id": "CvjTiqADTLWo",
    "outputId": "311ee5a9-f84c-462d-8614-8eaac43703c1"
   },
   "outputs": [
    {
     "data": {
      "text/plain": [
       "True"
      ]
     },
     "execution_count": 65,
     "metadata": {},
     "output_type": "execute_result"
    }
   ],
   "source": [
    "dfa3.check_acceptance('bbbbba')"
   ]
  },
  {
   "cell_type": "code",
   "execution_count": 58,
   "metadata": {
    "executionInfo": {
     "elapsed": 372,
     "status": "ok",
     "timestamp": 1707389208806,
     "user": {
      "displayName": "Tara Ann Lukose URK21CS1022",
      "userId": "02759760966450314367"
     },
     "user_tz": 720
    },
    "id": "QS5kmjG6TqoI"
   },
   "outputs": [],
   "source": [
    "dfa4 = DFA(\n",
    "    {\n",
    "        'A':{'y': 'B'},\n",
    "        'B':{'y':'C'},\n",
    "        'C':{'y':'C' , 'x':'D'},\n",
    "        'D':{'y':'C', 'x':'E'},\n",
    "        'E':{'y':'C' , 'x':'E'}\n",
    "    },\n",
    "    'A',\n",
    "    set('E')\n",
    ")"
   ]
  },
  {
   "cell_type": "code",
   "execution_count": 62,
   "metadata": {
    "colab": {
     "base_uri": "https://localhost:8080/"
    },
    "executionInfo": {
     "elapsed": 5,
     "status": "ok",
     "timestamp": 1707389236397,
     "user": {
      "displayName": "Tara Ann Lukose URK21CS1022",
      "userId": "02759760966450314367"
     },
     "user_tz": 720
    },
    "id": "FLhEu6GFU8u3",
    "outputId": "3639f3bf-c76a-4d85-efc2-262108a9b617"
   },
   "outputs": [
    {
     "data": {
      "text/plain": [
       "True"
      ]
     },
     "execution_count": 62,
     "metadata": {},
     "output_type": "execute_result"
    }
   ],
   "source": [
    "dfa4.check_acceptance('yyxyxx')"
   ]
  }
 ],
 "metadata": {
  "colab": {
   "authorship_tag": "ABX9TyMZH2mn9y7n8d5ntmwnhOjg",
   "provenance": []
  },
  "kernelspec": {
   "display_name": "Python 3 (ipykernel)",
   "language": "python",
   "name": "python3"
  },
  "language_info": {
   "codemirror_mode": {
    "name": "ipython",
    "version": 3
   },
   "file_extension": ".py",
   "mimetype": "text/x-python",
   "name": "python",
   "nbconvert_exporter": "python",
   "pygments_lexer": "ipython3",
   "version": "3.11.5"
  }
 },
 "nbformat": 4,
 "nbformat_minor": 4
}
