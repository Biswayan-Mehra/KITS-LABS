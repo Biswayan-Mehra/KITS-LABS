{
 "cells": [
  {
   "cell_type": "code",
   "execution_count": 1,
   "metadata": {
    "executionInfo": {
     "elapsed": 2,
     "status": "ok",
     "timestamp": 1707995378005,
     "user": {
      "displayName": "Tara Ann Lukose URK21CS1022",
      "userId": "02759760966450314367"
     },
     "user_tz": 720
    },
    "id": "nPw8jcMOB2qB"
   },
   "outputs": [],
   "source": [
    "from collections import namedtuple\n",
    "Line = namedtuple('Line', ['label', 'opcode', 'operand'])\n"
   ]
  },
  {
   "cell_type": "code",
   "execution_count": 2,
   "metadata": {
    "executionInfo": {
     "elapsed": 1,
     "status": "ok",
     "timestamp": 1707995380711,
     "user": {
      "displayName": "Tara Ann Lukose URK21CS1022",
      "userId": "02759760966450314367"
     },
     "user_tz": 720
    },
    "id": "XslwFeMmdTMZ"
   },
   "outputs": [],
   "source": [
    "def parse_line(line):\n",
    "    parts = line.split()\n",
    "    if len(parts) == 1:\n",
    "        return Line(None, *parts, None)\n",
    "    if len(parts) == 2:\n",
    "        if parts[-1] == 'START':\n",
    "            return Line(*parts, None)\n",
    "        return Line(None, *parts)\n",
    "    return Line(*parts)\n",
    "\n",
    "def to_hex(addr, l = 4):\n",
    "    return hex(addr)[2:].rjust(l, '0')\n"
   ]
  },
  {
   "cell_type": "code",
   "execution_count": 3,
   "metadata": {
    "executionInfo": {
     "elapsed": 648,
     "status": "ok",
     "timestamp": 1707994991531,
     "user": {
      "displayName": "Tara Ann Lukose URK21CS1022",
      "userId": "02759760966450314367"
     },
     "user_tz": 720
    },
    "id": "TW4GUAtYZpjM"
   },
   "outputs": [],
   "source": [
    "class Assembler:\n",
    "    optab = {'STA':'23', 'LDA':'00', 'LDVH':'50', 'DIV':'24', 'ADD':'18', 'MUL':'20', 'SUB':'1C'}\n",
    "\n",
    "    def __init__(self, program):\n",
    "        self.symtab = dict()\n",
    "        self.lines = list(map(parse_line, program.split('\\n')))\n",
    "        self.machine = \"\"\n",
    "        self.convert()\n",
    "\n",
    "    def convert(self) -> None:\n",
    "        \"\"\"Convert to object code and store in  self.machine\"\"\"\n",
    "        pass\n"
   ]
  },
  {
   "cell_type": "code",
   "execution_count": 4,
   "metadata": {
    "executionInfo": {
     "elapsed": 5,
     "status": "ok",
     "timestamp": 1707995000676,
     "user": {
      "displayName": "Tara Ann Lukose URK21CS1022",
      "userId": "02759760966450314367"
     },
     "user_tz": 720
    },
    "id": "hOVJATdJDF4D"
   },
   "outputs": [],
   "source": [
    "class SP_Assembler(Assembler):\n",
    "\n",
    "    def convert(self):\n",
    "        start = self.lines[0]\n",
    "        self.name = start.label\n",
    "        self.start = int(start.operand, 16) if start.operand else 0\n",
    "        self.ptr = self.start\n",
    "\n",
    "        for label, opcode, operand in self.lines[1:]:\n",
    "            if opcode == 'END':\n",
    "                self.size = self.ptr - self.start\n",
    "            if opcode in self.optab:\n",
    "                self.machine += 'T' + to_hex(self.ptr) + self.optab[opcode]\n",
    "                if operand in self.symtab:\n",
    "                    self.machine += to_hex(self.symtab[operand])\n",
    "                else:\n",
    "                    self.machine += to_hex(ord(operand))\n",
    "                self.ptr += 3\n",
    "                self.machine += '\\n'\n",
    "            else:\n",
    "                if opcode =='RESW':\n",
    "                    self.symtab[label] = self.ptr\n",
    "                    self.ptr += int(operand) * 3\n",
    "                elif opcode == 'RESB':\n",
    "                    self.symtab[label] = self.ptr\n",
    "                    self.ptr += int(operand)\n",
    "                elif opcode == 'BYTE':\n",
    "                    self.symtab[label] = self.ptr\n",
    "                    self.ptr += len(bytes(operand, 'ascii'))\n",
    "                elif opcode == 'WORD':\n",
    "                    self.symtab[label] = self.ptr\n",
    "                    self.ptr += 3\n",
    "        self.machine.strip('\\n')\n",
    "        self.machine = \"H\"+self.name+to_hex(self.start)+ to_hex(self.size, 2) + '\\n' + self.machine\n",
    "        self.machine += 'E' + to_hex(self.start)\n"
   ]
  },
  {
   "cell_type": "code",
   "execution_count": 5,
   "metadata": {
    "executionInfo": {
     "elapsed": 493,
     "status": "ok",
     "timestamp": 1707994480170,
     "user": {
      "displayName": "Tara Ann Lukose URK21CS1022",
      "userId": "02759760966450314367"
     },
     "user_tz": 720
    },
    "id": "h1jO0_999UU4"
   },
   "outputs": [],
   "source": [
    "program = \"\"\"COPY START 1000\n",
    "ALPHA RESW 1\n",
    "BETA RESW 1\n",
    "LDA ALPHA\n",
    "STA BETA\n",
    "END\"\"\"\n"
   ]
  },
  {
   "cell_type": "code",
   "execution_count": 6,
   "metadata": {
    "colab": {
     "base_uri": "https://localhost:8080/"
    },
    "executionInfo": {
     "elapsed": 9,
     "status": "ok",
     "timestamp": 1707994480524,
     "user": {
      "displayName": "Tara Ann Lukose URK21CS1022",
      "userId": "02759760966450314367"
     },
     "user_tz": 720
    },
    "id": "x-NNoTFgEs6M",
    "outputId": "d3071a96-bf47-4204-9614-096362e6445f"
   },
   "outputs": [
    {
     "name": "stdout",
     "output_type": "stream",
     "text": [
      "HCOPY10000c\n",
      "T1006001000\n",
      "T1009231003\n",
      "E1000\n"
     ]
    }
   ],
   "source": [
    "print(SP_Assembler(program).machine)\n"
   ]
  },
  {
   "cell_type": "code",
   "execution_count": 7,
   "metadata": {
    "executionInfo": {
     "elapsed": 363,
     "status": "ok",
     "timestamp": 1707995006053,
     "user": {
      "displayName": "Tara Ann Lukose URK21CS1022",
      "userId": "02759760966450314367"
     },
     "user_tz": 720
    },
    "id": "HkTVmVMqZCq6"
   },
   "outputs": [],
   "source": [
    "class MP_Assembler(Assembler):\n",
    "    def convert(self):\n",
    "        self.pass_1()\n",
    "        self.pass_2()\n",
    "\n",
    "    def pass_1(self):\n",
    "        start = self.lines[0]\n",
    "        self.name = start.label\n",
    "        self.start = int(start.operand, 16) if start.operand else 0\n",
    "        self.ptr = self.start\n",
    "\n",
    "        for label, opcode, operand in self.lines[1:]:\n",
    "            if label:\n",
    "                self.symtab[label] = self.ptr\n",
    "            if opcode in self.optab:\n",
    "                self.ptr += 3\n",
    "            else:\n",
    "                if opcode =='RESW':\n",
    "                    self.symtab[label] = self.ptr\n",
    "                    self.ptr += int(operand) * 3\n",
    "                elif opcode == 'RESB':\n",
    "                    self.symtab[label] = self.ptr\n",
    "                    self.ptr += int(operand)\n",
    "                elif opcode == 'BYTE':\n",
    "                    self.symtab[label] = self.ptr\n",
    "                    self.ptr += len(bytes(operand, 'ascii'))\n",
    "                elif opcode == 'WORD':\n",
    "                    self.symtab[label] = self.ptr\n",
    "                    self.ptr += 3\n",
    "\n",
    "    def pass_2(self):\n",
    "        self.ptr = self.start\n",
    "        for label, opcode, operand in self.lines[1:]:\n",
    "            if opcode == 'END':\n",
    "                self.size = self.ptr - self.start\n",
    "            if opcode in self.optab:\n",
    "                self.machine += 'T' + to_hex(self.ptr) + self.optab[opcode]\n",
    "                if operand in self.symtab:\n",
    "                    self.machine += to_hex(self.symtab[operand])\n",
    "                else:\n",
    "                    self.machine += to_hex(ord(operand))\n",
    "                self.ptr += 3\n",
    "                self.machine += '\\n'\n",
    "            else:\n",
    "                if opcode =='RESW':\n",
    "                    self.ptr += int(operand) * 3\n",
    "                elif opcode == 'RESB':\n",
    "                    self.ptr += int(operand)\n",
    "                elif opcode == 'BYTE':\n",
    "                    self.ptr += len(bytes(operand, 'ascii'))\n",
    "                elif opcode == 'WORD':\n",
    "                    self.ptr += 3\n",
    "        self.machine.strip('\\n')\n",
    "        self.machine = \"H\"+self.name+to_hex(self.start)+ to_hex(self.size, 2) + '\\n' + self.machine\n",
    "        self.machine += 'E' + to_hex(self.start)\n"
   ]
  },
  {
   "cell_type": "code",
   "execution_count": 8,
   "metadata": {
    "executionInfo": {
     "elapsed": 376,
     "status": "ok",
     "timestamp": 1707994509456,
     "user": {
      "displayName": "Tara Ann Lukose URK21CS1022",
      "userId": "02759760966450314367"
     },
     "user_tz": 720
    },
    "id": "OnGYGwzAPouU"
   },
   "outputs": [],
   "source": [
    "program = \"\"\"COPY START 1000\n",
    "LDA ALPHA\n",
    "STA BETA\n",
    "ALPHA RESW 1\n",
    "BETA RESW 1\n",
    "END\"\"\"\n"
   ]
  },
  {
   "cell_type": "code",
   "execution_count": 9,
   "metadata": {
    "colab": {
     "base_uri": "https://localhost:8080/"
    },
    "executionInfo": {
     "elapsed": 9,
     "status": "ok",
     "timestamp": 1707995010711,
     "user": {
      "displayName": "Tara Ann Lukose URK21CS1022",
      "userId": "02759760966450314367"
     },
     "user_tz": 720
    },
    "id": "edtxuYjEPT5r",
    "outputId": "94723604-82f6-41eb-9943-d51baf3452ca"
   },
   "outputs": [
    {
     "name": "stdout",
     "output_type": "stream",
     "text": [
      "HCOPY10000c\n",
      "T1000001006\n",
      "T1003231009\n",
      "E1000\n"
     ]
    }
   ],
   "source": [
    "print(MP_Assembler(program).machine)\n"
   ]
  },
  {
   "cell_type": "code",
   "execution_count": null,
   "metadata": {},
   "outputs": [],
   "source": []
  }
 ],
 "metadata": {
  "colab": {
   "authorship_tag": "ABX9TyMlDJq8t3FcyZt31H+BcAjb",
   "provenance": []
  },
  "kernelspec": {
   "display_name": "Python 3 (ipykernel)",
   "language": "python",
   "name": "python3"
  },
  "language_info": {
   "codemirror_mode": {
    "name": "ipython",
    "version": 3
   },
   "file_extension": ".py",
   "mimetype": "text/x-python",
   "name": "python",
   "nbconvert_exporter": "python",
   "pygments_lexer": "ipython3",
   "version": "3.11.5"
  }
 },
 "nbformat": 4,
 "nbformat_minor": 4
}
